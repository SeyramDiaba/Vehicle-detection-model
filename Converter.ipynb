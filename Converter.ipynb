{
  "nbformat": 4,
  "nbformat_minor": 0,
  "metadata": {
    "colab": {
      "name": "Converter.ipynb",
      "provenance": [],
      "authorship_tag": "ABX9TyPNkLvERNIU5viiTFwpxpdH"
    },
    "kernelspec": {
      "name": "python3",
      "display_name": "Python 3"
    },
    "language_info": {
      "name": "python"
    }
  },
  "cells": [
    {
      "cell_type": "code",
      "execution_count": 8,
      "metadata": {
        "colab": {
          "base_uri": "https://localhost:8080/"
        },
        "id": "YaeD1Suq73zG",
        "outputId": "420d5842-9159-4ed5-b8db-ccbab585c52b"
      },
      "outputs": [
        {
          "output_type": "stream",
          "name": "stdout",
          "text": [
            "Cloning into 'annotation'...\n",
            "fatal: repository 'https://github.com/jean-on-hub/Vehicle-detection-model/tree/annotation/' not found\n"
          ]
        }
      ],
      "source": [
        "!git clone https://github.com/jean-on-hub/Vehicle-detection-model/tree/annotation"
      ]
    },
    {
      "cell_type": "code",
      "source": [
        "cd /content/annotation"
      ],
      "metadata": {
        "colab": {
          "base_uri": "https://localhost:8080/"
        },
        "id": "c-f2WUy38Br4",
        "outputId": "52a09477-6a23-48c6-c9c3-275571789ad9"
      },
      "execution_count": 5,
      "outputs": [
        {
          "output_type": "stream",
          "name": "stdout",
          "text": [
            "/content/annotation\n"
          ]
        }
      ]
    }
  ]
}