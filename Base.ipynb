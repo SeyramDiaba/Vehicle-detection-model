{
  "nbformat": 4,
  "nbformat_minor": 0,
  "metadata": {
    "colab": {
      "name": "Untitled2.ipynb",
      "provenance": [],
      "authorship_tag": "ABX9TyNo1pGGwmkjY85tJJKtxW0M",
      "include_colab_link": true
    },
    "kernelspec": {
      "name": "python3",
      "display_name": "Python 3"
    },
    "language_info": {
      "name": "python"
    },
    "accelerator": "GPU"
  },
  "cells": [
    {
      "cell_type": "markdown",
      "metadata": {
        "id": "view-in-github",
        "colab_type": "text"
      },
      "source": [
        "<a href=\"https://colab.research.google.com/github/jean-on-hub/Vehicle-detection-model/blob/csv-to-tfrecords/Base.ipynb\" target=\"_parent\"><img src=\"https://colab.research.google.com/assets/colab-badge.svg\" alt=\"Open In Colab\"/></a>"
      ]
    },
    {
      "cell_type": "code",
      "execution_count": 6,
      "metadata": {
        "colab": {
          "base_uri": "https://localhost:8080/"
        },
        "id": "YhGjSsulhLvS",
        "outputId": "246c6863-a85f-41d2-8d8a-01c216108709"
      },
      "outputs": [
        {
          "output_type": "stream",
          "name": "stdout",
          "text": [
            "fatal: destination path 'Vehicle-detection-model' already exists and is not an empty directory.\n"
          ]
        }
      ],
      "source": [
        "!git clone https://github.com/jean-on-hub/Vehicle-detection-model.git"
      ]
    },
    {
      "cell_type": "code",
      "source": [
        "!cd Vehicle-detection-model && git checkout csv-to-tfrecords"
      ],
      "metadata": {
        "colab": {
          "base_uri": "https://localhost:8080/"
        },
        "id": "dvamXqSYh4ED",
        "outputId": "3cca730f-7217-43d5-aebd-e27120bf91c4"
      },
      "execution_count": 7,
      "outputs": [
        {
          "output_type": "stream",
          "name": "stdout",
          "text": [
            "Branch 'csv-to-tfrecords' set up to track remote branch 'csv-to-tfrecords' from 'origin'.\n",
            "Switched to a new branch 'csv-to-tfrecords'\n"
          ]
        }
      ]
    },
    {
      "cell_type": "code",
      "source": [
        "!pwd"
      ],
      "metadata": {
        "colab": {
          "base_uri": "https://localhost:8080/"
        },
        "id": "YF7pbKysjY09",
        "outputId": "d7ba38c9-3692-41f1-da88-d97386bf0e7d"
      },
      "execution_count": 8,
      "outputs": [
        {
          "output_type": "stream",
          "name": "stdout",
          "text": [
            "/content\n"
          ]
        }
      ]
    },
    {
      "cell_type": "code",
      "source": [
        "cd Vehicle-detection-model"
      ],
      "metadata": {
        "colab": {
          "base_uri": "https://localhost:8080/"
        },
        "id": "rWgINLnZmDfs",
        "outputId": "7f779c96-535d-4d03-bc2e-39af9e80d145"
      },
      "execution_count": 13,
      "outputs": [
        {
          "output_type": "stream",
          "name": "stdout",
          "text": [
            "/content/Vehicle-detection-model\n"
          ]
        }
      ]
    },
    {
      "cell_type": "code",
      "source": [
        "!pwd"
      ],
      "metadata": {
        "colab": {
          "base_uri": "https://localhost:8080/"
        },
        "id": "MXpOFRKNmWtn",
        "outputId": "e8272914-0509-4a83-b19d-3bc47ca9b9f5"
      },
      "execution_count": 14,
      "outputs": [
        {
          "output_type": "stream",
          "name": "stdout",
          "text": [
            "/content/Vehicle-detection-model\n"
          ]
        }
      ]
    },
    {
      "cell_type": "code",
      "source": [
        "cd training_images"
      ],
      "metadata": {
        "colab": {
          "base_uri": "https://localhost:8080/"
        },
        "id": "NinHZ8Etms4V",
        "outputId": "e3018d8b-ca43-435b-ad96-35e3d3105538"
      },
      "execution_count": 16,
      "outputs": [
        {
          "output_type": "stream",
          "name": "stdout",
          "text": [
            "/content/Vehicle-detection-model/training_images\n"
          ]
        }
      ]
    },
    {
      "cell_type": "code",
      "source": [
        "!pwd"
      ],
      "metadata": {
        "colab": {
          "base_uri": "https://localhost:8080/"
        },
        "id": "gamVUtr2m4ks",
        "outputId": "28e664f9-ace7-4049-e013-efd624eaade9"
      },
      "execution_count": 17,
      "outputs": [
        {
          "output_type": "stream",
          "name": "stdout",
          "text": [
            "/content/Vehicle-detection-model/training_images\n"
          ]
        }
      ]
    },
    {
      "cell_type": "code",
      "source": [
        "!touch partitioning.ipynb"
      ],
      "metadata": {
        "id": "NugOHF7xm81A"
      },
      "execution_count": 19,
      "outputs": []
    },
    {
      "cell_type": "code",
      "source": [
        "!mkdir train_images"
      ],
      "metadata": {
        "id": "DpiS54jbnQxe"
      },
      "execution_count": 21,
      "outputs": []
    },
    {
      "cell_type": "code",
      "source": [
        "!mkdir test_images"
      ],
      "metadata": {
        "id": "UJnxCV-wnWhf"
      },
      "execution_count": 22,
      "outputs": []
    },
    {
      "cell_type": "code",
      "source": [
        "!ls"
      ],
      "metadata": {
        "id": "5QNdv5jNowgg"
      },
      "execution_count": null,
      "outputs": []
    },
    {
      "cell_type": "code",
      "source": [
        "!git status"
      ],
      "metadata": {
        "colab": {
          "base_uri": "https://localhost:8080/"
        },
        "id": "SbBer5ZSq4bc",
        "outputId": "131a0d01-de94-48dc-d53b-e36aa87fb572"
      },
      "execution_count": 34,
      "outputs": [
        {
          "output_type": "stream",
          "name": "stdout",
          "text": [
            "On branch csv-to-tfrecords\n",
            "Your branch is up to date with 'origin/csv-to-tfrecords'.\n",
            "\n",
            "Untracked files:\n",
            "  (use \"git add <file>...\" to include in what will be committed)\n",
            "\n",
            "\t\u001b[31mpartitioning.ipynb\u001b[m\n",
            "\n",
            "nothing added to commit but untracked files present (use \"git add\" to track)\n"
          ]
        }
      ]
    },
    {
      "cell_type": "code",
      "source": [
        "!git add partitioning.ipynb"
      ],
      "metadata": {
        "id": "H-fHfvuWrgTc"
      },
      "execution_count": 35,
      "outputs": []
    },
    {
      "cell_type": "code",
      "source": [
        "!git config --global user.email \"maame.baidoo@amalitech.org\"\n",
        "!git config --global user.name \"mebaidoo\""
      ],
      "metadata": {
        "id": "5QjH4EoSsc7S"
      },
      "execution_count": 38,
      "outputs": []
    },
    {
      "cell_type": "code",
      "source": [
        "!git commit -m \"Create partitioning file\""
      ],
      "metadata": {
        "colab": {
          "base_uri": "https://localhost:8080/"
        },
        "id": "Qqz9EvS1sqnI",
        "outputId": "539f9143-d32d-4f20-8b2f-347a16c56b0f"
      },
      "execution_count": 39,
      "outputs": [
        {
          "output_type": "stream",
          "name": "stdout",
          "text": [
            "[csv-to-tfrecords c169a6c] Create partitioning file\n",
            " 1 file changed, 0 insertions(+), 0 deletions(-)\n",
            " create mode 100644 training_images/partitioning.ipynb\n"
          ]
        }
      ]
    },
    {
      "cell_type": "code",
      "source": [
        ""
      ],
      "metadata": {
        "colab": {
          "base_uri": "https://localhost:8080/"
        },
        "id": "T4fpCAxLtZ7Z",
        "outputId": "a9cf794a-ac7f-4983-ce9d-921c2f1c741a"
      },
      "execution_count": 41,
      "outputs": [
        {
          "output_type": "stream",
          "name": "stdout",
          "text": [
            "fatal: could not read Username for 'https://github.com': No such device or address\n"
          ]
        }
      ]
    }
  ]
}