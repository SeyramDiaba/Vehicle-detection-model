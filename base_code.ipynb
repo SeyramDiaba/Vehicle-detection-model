{
  "nbformat": 4,
  "nbformat_minor": 0,
  "metadata": {
    "colab": {
      "name": "base-code",
      "provenance": [],
      "collapsed_sections": [],
      "include_colab_link": true
    },
    "kernelspec": {
      "name": "python3",
      "display_name": "Python 3"
    },
    "language_info": {
      "name": "python"
    }
  },
  "cells": [
    {
      "cell_type": "markdown",
      "metadata": {
        "id": "view-in-github",
        "colab_type": "text"
      },
      "source": [
        "<a href=\"https://colab.research.google.com/github/jean-on-hub/Vehicle-detection-model/blob/annotation/base_code.ipynb\" target=\"_parent\"><img src=\"https://colab.research.google.com/assets/colab-badge.svg\" alt=\"Open In Colab\"/></a>"
      ]
    },
    {
      "cell_type": "code",
      "execution_count": null,
      "metadata": {
        "id": "cdyFEGcFVN6c"
      },
      "outputs": [],
      "source": [
        "!pip install tensorflow-gpu"
      ]
    },
    {
      "cell_type": "code",
      "source": [
        "import tensorflow as tf\n",
        "print(tf.__version__)"
      ],
      "metadata": {
        "id": "bSf2dxiuVPzv"
      },
      "execution_count": null,
      "outputs": []
    },
    {
      "cell_type": "code",
      "source": [
        "!git clone https://github.com/tensorflow/models.git"
      ],
      "metadata": {
        "id": "fVFo90GLVgSE"
      },
      "execution_count": null,
      "outputs": []
    },
    {
      "cell_type": "code",
      "source": [
        "pwd"
      ],
      "metadata": {
        "id": "7VQo7GPfVj4V"
      },
      "execution_count": null,
      "outputs": []
    },
    {
      "cell_type": "code",
      "source": [
        "cd /content/models/research"
      ],
      "metadata": {
        "id": "moT-AV2AVqLi"
      },
      "execution_count": null,
      "outputs": []
    },
    {
      "cell_type": "code",
      "source": [
        "pwd"
      ],
      "metadata": {
        "id": "FfQ7wGeWVyIW"
      },
      "execution_count": null,
      "outputs": []
    },
    {
      "cell_type": "code",
      "source": [
        "!protoc object_detection/protos/*.proto --python_out=."
      ],
      "metadata": {
        "id": "a6UAcnqPVzQA"
      },
      "execution_count": 7,
      "outputs": []
    },
    {
      "cell_type": "code",
      "source": [
        "!git clone https://github.com/cocodataset/cocoapi.git"
      ],
      "metadata": {
        "id": "YYnpYhY9WC-Z"
      },
      "execution_count": null,
      "outputs": []
    },
    {
      "cell_type": "code",
      "source": [
        "cd cocoapi/PythonAPI"
      ],
      "metadata": {
        "id": "SY0PhqCQWGbu"
      },
      "execution_count": null,
      "outputs": []
    },
    {
      "cell_type": "code",
      "source": [
        "pwd"
      ],
      "metadata": {
        "id": "4NXmGqCKWJUY"
      },
      "execution_count": null,
      "outputs": []
    },
    {
      "cell_type": "code",
      "source": [
        "!make"
      ],
      "metadata": {
        "id": "ouTmAkq6WLhx"
      },
      "execution_count": null,
      "outputs": []
    },
    {
      "cell_type": "code",
      "source": [
        "cp -r pycocotools /content/models/research"
      ],
      "metadata": {
        "id": "s75cQApqWOVw"
      },
      "execution_count": 12,
      "outputs": []
    },
    {
      "cell_type": "markdown",
      "source": [
        "## Install Object detection API"
      ],
      "metadata": {
        "id": "L1N6aCmgWXNb"
      }
    },
    {
      "cell_type": "code",
      "source": [
        "cd ../.."
      ],
      "metadata": {
        "id": "Rir1lCXtW6ao"
      },
      "execution_count": null,
      "outputs": []
    },
    {
      "cell_type": "code",
      "source": [
        "cd /content/models/research"
      ],
      "metadata": {
        "id": "H6gYEcBvW9hf"
      },
      "execution_count": null,
      "outputs": []
    },
    {
      "cell_type": "code",
      "source": [
        "pwd"
      ],
      "metadata": {
        "id": "wHAQya1CXF63"
      },
      "execution_count": null,
      "outputs": []
    },
    {
      "cell_type": "code",
      "source": [
        "cp object_detection/packages/tf2/setup.py ."
      ],
      "metadata": {
        "id": "kiOlr-WbXH4P"
      },
      "execution_count": 16,
      "outputs": []
    },
    {
      "cell_type": "code",
      "source": [
        "!python -m pip install --upgrade pip"
      ],
      "metadata": {
        "id": "P4zAQj_wX9rQ"
      },
      "execution_count": null,
      "outputs": []
    },
    {
      "cell_type": "code",
      "source": [
        "pip install example --use-feature=2020-resolver"
      ],
      "metadata": {
        "id": "CahmnYJZYNSl"
      },
      "execution_count": null,
      "outputs": []
    },
    {
      "cell_type": "code",
      "source": [
        "!python -m pip install ."
      ],
      "metadata": {
        "id": "deGXCzFAXO0N"
      },
      "execution_count": null,
      "outputs": []
    },
    {
      "cell_type": "code",
      "source": [
        "pwd"
      ],
      "metadata": {
        "id": "BDvKPbDBXRyn",
        "colab": {
          "base_uri": "https://localhost:8080/",
          "height": 35
        },
        "outputId": "2f3fe1f9-5c09-4041-c1e3-03ed26946bce"
      },
      "execution_count": 20,
      "outputs": [
        {
          "output_type": "execute_result",
          "data": {
            "application/vnd.google.colaboratory.intrinsic+json": {
              "type": "string"
            },
            "text/plain": [
              "'/content/models/research'"
            ]
          },
          "metadata": {},
          "execution_count": 20
        }
      ]
    },
    {
      "cell_type": "code",
      "source": [
        "# From within TensorFlow/models/research/\n",
        "!python object_detection/builders/model_builder_tf2_test.py"
      ],
      "metadata": {
        "id": "euGOwHgUYeOe"
      },
      "execution_count": null,
      "outputs": []
    },
    {
      "cell_type": "markdown",
      "source": [
        "clone original git repo\n"
      ],
      "metadata": {
        "id": "G02mzNeUQW3x"
      }
    },
    {
      "cell_type": "code",
      "source": [
        "cd /content/workspace/vehicle folder"
      ],
      "metadata": {
        "colab": {
          "base_uri": "https://localhost:8080/"
        },
        "id": "hzaup9_CZhFR",
        "outputId": "01172403-cca8-424e-a6c3-818c867c5da8"
      },
      "execution_count": 34,
      "outputs": [
        {
          "output_type": "stream",
          "name": "stdout",
          "text": [
            "/content/worksapce/vehicle folder\n"
          ]
        }
      ]
    },
    {
      "cell_type": "code",
      "source": [
        "\n",
        "!git clone https://github.com/jean-on-hub/Vehicle-detection-model"
      ],
      "metadata": {
        "id": "AezxJtZ9YfkJ",
        "colab": {
          "base_uri": "https://localhost:8080/"
        },
        "outputId": "13dd9df6-3fec-4159-95d2-986716ed0959"
      },
      "execution_count": 29,
      "outputs": [
        {
          "output_type": "stream",
          "name": "stdout",
          "text": [
            "Cloning into 'Vehicle-detection-model'...\n",
            "remote: Enumerating objects: 1345, done.\u001b[K\n",
            "remote: Counting objects: 100% (1345/1345), done.\u001b[K\n",
            "remote: Compressing objects: 100% (1220/1220), done.\u001b[K\n",
            "remote: Total 1345 (delta 161), reused 1270 (delta 119), pack-reused 0\u001b[K\n",
            "Receiving objects: 100% (1345/1345), 103.67 MiB | 45.08 MiB/s, done.\n",
            "Resolving deltas: 100% (161/161), done.\n"
          ]
        }
      ]
    },
    {
      "cell_type": "markdown",
      "source": [
        "Formatting csv file for conversion into tf record"
      ],
      "metadata": {
        "id": "F4vBYIRL7foS"
      }
    },
    {
      "cell_type": "code",
      "source": [
        "import pandas as pd\n"
      ],
      "metadata": {
        "id": "cNimp88rO-Cy"
      },
      "execution_count": 30,
      "outputs": []
    },
    {
      "cell_type": "code",
      "source": [
        "df = pd.read_csv(\"/content/workspace/vehicle folder/Vehicle-detection-model/train_solution_bounding_boxes (1).csv\")"
      ],
      "metadata": {
        "id": "JJZ-5698POlf"
      },
      "execution_count": 80,
      "outputs": []
    },
    {
      "cell_type": "code",
      "source": [
        "df = df.rename(columns={\"image\":\"filename\"})"
      ],
      "metadata": {
        "id": "21mN3H93PYBT"
      },
      "execution_count": 81,
      "outputs": []
    },
    {
      "cell_type": "code",
      "source": [
        "widht =[676]*len(df)\n",
        "height = [380]*len(df)\n",
        "classe = [\"car\"]*len(df)\n",
        "df['widht'] = widht\n",
        "df['height'] =height\n",
        "df['class'] = classe"
      ],
      "metadata": {
        "id": "O-3AccQv7HTP"
      },
      "execution_count": 82,
      "outputs": []
    },
    {
      "cell_type": "code",
      "source": [
        "test = df.sample(frac =0.1)\n",
        "test"
      ],
      "metadata": {
        "id": "p4Q2G8E8PaBN"
      },
      "execution_count": null,
      "outputs": []
    },
    {
      "cell_type": "code",
      "source": [
        "cd /content/workspace/training/test_data /test_csv"
      ],
      "metadata": {
        "colab": {
          "base_uri": "https://localhost:8080/"
        },
        "id": "S86vx_V2yXas",
        "outputId": "fab1b87b-2d91-478c-9595-e7218f63b904"
      },
      "execution_count": 85,
      "outputs": [
        {
          "output_type": "stream",
          "name": "stdout",
          "text": [
            "/content/workspace/training/test_data /test_csv\n"
          ]
        }
      ]
    },
    {
      "cell_type": "code",
      "source": [
        "test.to_csv('/content/workspace/training/test_data /test_csv/test.csv', index=False)"
      ],
      "metadata": {
        "id": "a-OJZWMLxNjG"
      },
      "execution_count": 87,
      "outputs": []
    },
    {
      "cell_type": "code",
      "source": [
        "train =df.drop(test.index)\n",
        "train[train.filename =='vid_4_9960.jpg']"
      ],
      "metadata": {
        "id": "fR03R92lRxv1"
      },
      "execution_count": null,
      "outputs": []
    },
    {
      "cell_type": "code",
      "source": [
        "train.to_csv('/content/workspace/training/train_data/train_csv/train.csv', index=False)"
      ],
      "metadata": {
        "id": "cOX_SbS1w7bd"
      },
      "execution_count": 90,
      "outputs": []
    },
    {
      "cell_type": "code",
      "source": [
        "#seperate images accordingly\n",
        "import os\n",
        "import shutil\n",
        "import random\n",
        "import collections\n",
        "src = \"/content/workspace/vehicle folder/Vehicle-detection-model/training_images\"\n",
        "img_files = os.listdir(src)\n",
        "\n",
        "\n",
        "\n",
        "train_dst = \"/content/workspace/training/train_data/train_images\"\n",
        "test_dst = \"/content/workspace/training/test_data/test_images\"\n",
        "#Getting 90% random images as train set\n",
        "for i in range(len(train['filename'].unique())-1):\n",
        "\n",
        "  idx = i\n",
        "  filename = train['filename'].unique()[idx]\n",
        "  src_name = os.path.join(src, filename)\n",
        "  target_name=os.path.join(train_dst, filename)\n",
        "  shutil.copyfile(src_name, target_name)\n",
        "  \n",
        "\n",
        "#Getting the remaining 10% as test set\n",
        "for i in range(len(test['filename'].unique())-1):\n",
        "  idx = i\n",
        "  filename = test['filename'].unique()[idx]\n",
        "  src_name = os.path.join(src, filename)\n",
        "  target_name=os.path.join(test_dst, filename)\n",
        "  shutil.copyfile(src_name, target_name)"
      ],
      "metadata": {
        "id": "chBj2iRJRIpP"
      },
      "execution_count": 94,
      "outputs": []
    },
    {
      "cell_type": "code",
      "source": [
        "cd /content/workspace/training/annotations"
      ],
      "metadata": {
        "colab": {
          "base_uri": "https://localhost:8080/"
        },
        "id": "GFHvqdp5QBg-",
        "outputId": "99dd7f90-79ea-4d4b-962b-c36f9e56025a"
      },
      "execution_count": 96,
      "outputs": [
        {
          "output_type": "stream",
          "name": "stdout",
          "text": [
            "/content/workspace/training/annotations\n"
          ]
        }
      ]
    },
    {
      "cell_type": "markdown",
      "source": [
        "\n",
        "apply conversion script to train data\n"
      ],
      "metadata": {
        "id": "aU-E-apF-Phi"
      }
    },
    {
      "cell_type": "code",
      "source": [
        "cd /content/scripts/preprocessing"
      ],
      "metadata": {
        "id": "g_VAtH5K-TJ7",
        "colab": {
          "base_uri": "https://localhost:8080/"
        },
        "outputId": "83016ce4-11c7-4a79-e449-806e26760df3"
      },
      "execution_count": 97,
      "outputs": [
        {
          "output_type": "stream",
          "name": "stdout",
          "text": [
            "/content/scripts/preprocessing\n"
          ]
        }
      ]
    },
    {
      "cell_type": "markdown",
      "source": [
        "Train record"
      ],
      "metadata": {
        "id": "ehhJF0M8A6fX"
      }
    },
    {
      "cell_type": "code",
      "source": [
        "!python generate_tfrecord.py -x /content/workspace/training/train_data/train_csv -l /content/workspace/training/annotations/label_map.pbtxt -i /content/workspace/vehicle_folder/Vehicle-detection-model/training_images -o /content/workspace/training/train_data/tf_record/train.record\n"
      ],
      "metadata": {
        "colab": {
          "base_uri": "https://localhost:8080/"
        },
        "id": "o-rshpR5MTL-",
        "outputId": "3af16e1c-91b4-4524-a99b-7650d29a3229"
      },
      "execution_count": 99,
      "outputs": [
        {
          "output_type": "stream",
          "name": "stdout",
          "text": [
            "2022-03-07 01:34:26.069858: E tensorflow/stream_executor/cuda/cuda_driver.cc:271] failed call to cuInit: CUDA_ERROR_NO_DEVICE: no CUDA-capable device is detected\n",
            "Successfully created the TFRecord file: /content/workspace/training/train_data/tf_record/train.record\n"
          ]
        }
      ]
    },
    {
      "cell_type": "markdown",
      "source": [
        "Test record"
      ],
      "metadata": {
        "id": "2ij99JB0BAud"
      }
    },
    {
      "cell_type": "code",
      "source": [
        "!python generate_tfrecord.py -x /content/workspace/training/test_data/test_csv -l /content/workspace/training/annotations/label_map.pbtxt -i /content/workspace/vehicle_folder/Vehicle-detection-model/training_images -o /content/workspace/training/test_data/tf_record/test.record\n"
      ],
      "metadata": {
        "colab": {
          "base_uri": "https://localhost:8080/"
        },
        "id": "kC16Mgzm8R7W",
        "outputId": "f17cfa6b-5798-48f4-8969-4fb1af83e7e3"
      },
      "execution_count": 100,
      "outputs": [
        {
          "output_type": "stream",
          "name": "stdout",
          "text": [
            "2022-03-07 01:42:19.057828: E tensorflow/stream_executor/cuda/cuda_driver.cc:271] failed call to cuInit: CUDA_ERROR_NO_DEVICE: no CUDA-capable device is detected\n",
            "Successfully created the TFRecord file: /content/workspace/training/test_data/tf_record/test.record\n"
          ]
        }
      ]
    }
  ]
}