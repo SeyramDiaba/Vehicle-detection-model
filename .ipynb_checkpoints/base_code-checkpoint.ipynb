{
 "cells": [
  {
   "cell_type": "markdown",
   "metadata": {
    "colab_type": "text",
    "id": "view-in-github"
   },
   "source": [
    "<a href=\"https://colab.research.google.com/github/jean-on-hub/Vehicle-detection-model/blob/annotation/base_code.ipynb\" target=\"_parent\"><img src=\"https://colab.research.google.com/assets/colab-badge.svg\" alt=\"Open In Colab\"/></a>"
   ]
  },
  {
   "cell_type": "markdown",
   "metadata": {},
   "source": [
    "## Installing Tensorflow"
   ]
  },
  {
   "cell_type": "code",
   "execution_count": 2,
   "metadata": {
    "colab": {
     "base_uri": "https://localhost:8080/"
    },
    "id": "cdyFEGcFVN6c",
    "outputId": "46f11b72-35d1-4236-c6f2-ae04e83929b6"
   },
   "outputs": [
    {
     "name": "stderr",
     "output_type": "stream",
     "text": [
      "ERROR: Could not install packages due to an OSError: [WinError 32] The process cannot access the file because it is being used by another process: 'C:\\\\Users\\\\Amalitech\\\\anaconda3\\\\Lib\\\\site-packages\\\\tensorflow\\\\include\\\\external\\\\nsync\\\\platform\\\\gcc_new_debug\\\\atomic.h'\n",
      "Consider using the `--user` option or check the permissions.\n",
      "\n"
     ]
    },
    {
     "name": "stdout",
     "output_type": "stream",
     "text": [
      "Collecting tensorflow-gpu\n",
      "  Downloading tensorflow_gpu-2.8.0-cp39-cp39-win_amd64.whl (438.0 MB)\n",
      "Requirement already satisfied: setuptools in c:\\users\\amalitech\\anaconda3\\lib\\site-packages (from tensorflow-gpu) (58.0.4)\n",
      "Requirement already satisfied: six>=1.12.0 in c:\\users\\amalitech\\anaconda3\\lib\\site-packages (from tensorflow-gpu) (1.16.0)\n",
      "Requirement already satisfied: libclang>=9.0.1 in c:\\users\\amalitech\\anaconda3\\lib\\site-packages (from tensorflow-gpu) (13.0.0)\n",
      "Requirement already satisfied: tensorflow-io-gcs-filesystem>=0.23.1 in c:\\users\\amalitech\\anaconda3\\lib\\site-packages (from tensorflow-gpu) (0.24.0)\n",
      "Requirement already satisfied: gast>=0.2.1 in c:\\users\\amalitech\\anaconda3\\lib\\site-packages (from tensorflow-gpu) (0.5.3)\n",
      "Requirement already satisfied: astunparse>=1.6.0 in c:\\users\\amalitech\\anaconda3\\lib\\site-packages (from tensorflow-gpu) (1.6.3)\n",
      "Requirement already satisfied: wrapt>=1.11.0 in c:\\users\\amalitech\\anaconda3\\lib\\site-packages (from tensorflow-gpu) (1.12.1)\n",
      "Requirement already satisfied: tensorboard<2.9,>=2.8 in c:\\users\\amalitech\\anaconda3\\lib\\site-packages (from tensorflow-gpu) (2.8.0)\n",
      "Requirement already satisfied: absl-py>=0.4.0 in c:\\users\\amalitech\\anaconda3\\lib\\site-packages (from tensorflow-gpu) (1.0.0)\n",
      "Requirement already satisfied: h5py>=2.9.0 in c:\\users\\amalitech\\anaconda3\\lib\\site-packages (from tensorflow-gpu) (3.2.1)\n",
      "Requirement already satisfied: termcolor>=1.1.0 in c:\\users\\amalitech\\anaconda3\\lib\\site-packages (from tensorflow-gpu) (1.1.0)\n",
      "Requirement already satisfied: tf-estimator-nightly==2.8.0.dev2021122109 in c:\\users\\amalitech\\anaconda3\\lib\\site-packages (from tensorflow-gpu) (2.8.0.dev2021122109)\n",
      "Requirement already satisfied: typing-extensions>=3.6.6 in c:\\users\\amalitech\\anaconda3\\lib\\site-packages (from tensorflow-gpu) (3.10.0.2)\n",
      "Requirement already satisfied: protobuf>=3.9.2 in c:\\users\\amalitech\\anaconda3\\lib\\site-packages (from tensorflow-gpu) (3.19.4)\n",
      "Requirement already satisfied: google-pasta>=0.1.1 in c:\\users\\amalitech\\anaconda3\\lib\\site-packages (from tensorflow-gpu) (0.2.0)\n",
      "Requirement already satisfied: opt-einsum>=2.3.2 in c:\\users\\amalitech\\anaconda3\\lib\\site-packages (from tensorflow-gpu) (3.3.0)\n",
      "Requirement already satisfied: numpy>=1.20 in c:\\users\\amalitech\\anaconda3\\lib\\site-packages (from tensorflow-gpu) (1.20.3)\n",
      "Requirement already satisfied: grpcio<2.0,>=1.24.3 in c:\\users\\amalitech\\anaconda3\\lib\\site-packages (from tensorflow-gpu) (1.44.0)\n",
      "Requirement already satisfied: flatbuffers>=1.12 in c:\\users\\amalitech\\anaconda3\\lib\\site-packages (from tensorflow-gpu) (2.0)\n",
      "Requirement already satisfied: keras-preprocessing>=1.1.1 in c:\\users\\amalitech\\anaconda3\\lib\\site-packages (from tensorflow-gpu) (1.1.2)\n",
      "Requirement already satisfied: keras<2.9,>=2.8.0rc0 in c:\\users\\amalitech\\anaconda3\\lib\\site-packages (from tensorflow-gpu) (2.8.0)\n",
      "Requirement already satisfied: wheel<1.0,>=0.23.0 in c:\\users\\amalitech\\anaconda3\\lib\\site-packages (from astunparse>=1.6.0->tensorflow-gpu) (0.37.0)\n",
      "Requirement already satisfied: requests<3,>=2.21.0 in c:\\users\\amalitech\\anaconda3\\lib\\site-packages (from tensorboard<2.9,>=2.8->tensorflow-gpu) (2.26.0)\n",
      "Requirement already satisfied: tensorboard-data-server<0.7.0,>=0.6.0 in c:\\users\\amalitech\\anaconda3\\lib\\site-packages (from tensorboard<2.9,>=2.8->tensorflow-gpu) (0.6.1)\n",
      "Requirement already satisfied: markdown>=2.6.8 in c:\\users\\amalitech\\anaconda3\\lib\\site-packages (from tensorboard<2.9,>=2.8->tensorflow-gpu) (3.3.6)\n",
      "Requirement already satisfied: google-auth-oauthlib<0.5,>=0.4.1 in c:\\users\\amalitech\\anaconda3\\lib\\site-packages (from tensorboard<2.9,>=2.8->tensorflow-gpu) (0.4.6)\n",
      "Requirement already satisfied: werkzeug>=0.11.15 in c:\\users\\amalitech\\anaconda3\\lib\\site-packages (from tensorboard<2.9,>=2.8->tensorflow-gpu) (2.0.2)\n",
      "Requirement already satisfied: tensorboard-plugin-wit>=1.6.0 in c:\\users\\amalitech\\anaconda3\\lib\\site-packages (from tensorboard<2.9,>=2.8->tensorflow-gpu) (1.8.1)\n",
      "Requirement already satisfied: google-auth<3,>=1.6.3 in c:\\users\\amalitech\\anaconda3\\lib\\site-packages (from tensorboard<2.9,>=2.8->tensorflow-gpu) (2.6.0)\n",
      "Requirement already satisfied: pyasn1-modules>=0.2.1 in c:\\users\\amalitech\\anaconda3\\lib\\site-packages (from google-auth<3,>=1.6.3->tensorboard<2.9,>=2.8->tensorflow-gpu) (0.2.8)\n",
      "Requirement already satisfied: cachetools<6.0,>=2.0.0 in c:\\users\\amalitech\\anaconda3\\lib\\site-packages (from google-auth<3,>=1.6.3->tensorboard<2.9,>=2.8->tensorflow-gpu) (5.0.0)\n",
      "Requirement already satisfied: rsa<5,>=3.1.4 in c:\\users\\amalitech\\anaconda3\\lib\\site-packages (from google-auth<3,>=1.6.3->tensorboard<2.9,>=2.8->tensorflow-gpu) (4.8)\n",
      "Requirement already satisfied: requests-oauthlib>=0.7.0 in c:\\users\\amalitech\\anaconda3\\lib\\site-packages (from google-auth-oauthlib<0.5,>=0.4.1->tensorboard<2.9,>=2.8->tensorflow-gpu) (1.3.1)\n",
      "Requirement already satisfied: importlib-metadata>=4.4 in c:\\users\\amalitech\\anaconda3\\lib\\site-packages (from markdown>=2.6.8->tensorboard<2.9,>=2.8->tensorflow-gpu) (4.8.1)\n",
      "Requirement already satisfied: zipp>=0.5 in c:\\users\\amalitech\\anaconda3\\lib\\site-packages (from importlib-metadata>=4.4->markdown>=2.6.8->tensorboard<2.9,>=2.8->tensorflow-gpu) (3.6.0)\n",
      "Requirement already satisfied: pyasn1<0.5.0,>=0.4.6 in c:\\users\\amalitech\\anaconda3\\lib\\site-packages (from pyasn1-modules>=0.2.1->google-auth<3,>=1.6.3->tensorboard<2.9,>=2.8->tensorflow-gpu) (0.4.8)\n",
      "Requirement already satisfied: idna<4,>=2.5 in c:\\users\\amalitech\\anaconda3\\lib\\site-packages (from requests<3,>=2.21.0->tensorboard<2.9,>=2.8->tensorflow-gpu) (3.2)\n",
      "Requirement already satisfied: urllib3<1.27,>=1.21.1 in c:\\users\\amalitech\\anaconda3\\lib\\site-packages (from requests<3,>=2.21.0->tensorboard<2.9,>=2.8->tensorflow-gpu) (1.26.7)\n",
      "Requirement already satisfied: certifi>=2017.4.17 in c:\\users\\amalitech\\anaconda3\\lib\\site-packages (from requests<3,>=2.21.0->tensorboard<2.9,>=2.8->tensorflow-gpu) (2021.10.8)\n",
      "Requirement already satisfied: charset-normalizer~=2.0.0 in c:\\users\\amalitech\\anaconda3\\lib\\site-packages (from requests<3,>=2.21.0->tensorboard<2.9,>=2.8->tensorflow-gpu) (2.0.4)\n",
      "Requirement already satisfied: oauthlib>=3.0.0 in c:\\users\\amalitech\\anaconda3\\lib\\site-packages (from requests-oauthlib>=0.7.0->google-auth-oauthlib<0.5,>=0.4.1->tensorboard<2.9,>=2.8->tensorflow-gpu) (3.2.0)\n",
      "Installing collected packages: tensorflow-gpu\n",
      "Collecting tensorflow-gpu\n",
      "  Using cached tensorflow_gpu-2.8.0-cp39-cp39-win_amd64.whl (438.0 MB)\n",
      "Requirement already satisfied: numpy>=1.20 in c:\\users\\amalitech\\anaconda3\\lib\\site-packages (from tensorflow-gpu) (1.20.3)Note: you may need to restart the kernel to use updated packages.\n",
      "\n",
      "Requirement already satisfied: keras-preprocessing>=1.1.1 in c:\\users\\amalitech\\anaconda3\\lib\\site-packages (from tensorflow-gpu) (1.1.2)\n",
      "Requirement already satisfied: google-pasta>=0.1.1 in c:\\users\\amalitech\\anaconda3\\lib\\site-packages (from tensorflow-gpu) (0.2.0)\n",
      "Requirement already satisfied: astunparse>=1.6.0 in c:\\users\\amalitech\\anaconda3\\lib\\site-packages (from tensorflow-gpu) (1.6.3)\n",
      "Requirement already satisfied: wrapt>=1.11.0 in c:\\users\\amalitech\\anaconda3\\lib\\site-packages (from tensorflow-gpu) (1.12.1)\n",
      "Requirement already satisfied: grpcio<2.0,>=1.24.3 in c:\\users\\amalitech\\anaconda3\\lib\\site-packages (from tensorflow-gpu) (1.44.0)\n",
      "Requirement already satisfied: tf-estimator-nightly==2.8.0.dev2021122109 in c:\\users\\amalitech\\anaconda3\\lib\\site-packages (from tensorflow-gpu) (2.8.0.dev2021122109)\n",
      "Requirement already satisfied: tensorboard<2.9,>=2.8 in c:\\users\\amalitech\\anaconda3\\lib\\site-packages (from tensorflow-gpu) (2.8.0)\n",
      "Requirement already satisfied: flatbuffers>=1.12 in c:\\users\\amalitech\\anaconda3\\lib\\site-packages (from tensorflow-gpu) (2.0)\n",
      "Requirement already satisfied: opt-einsum>=2.3.2 in c:\\users\\amalitech\\anaconda3\\lib\\site-packages (from tensorflow-gpu) (3.3.0)\n",
      "Requirement already satisfied: libclang>=9.0.1 in c:\\users\\amalitech\\anaconda3\\lib\\site-packages (from tensorflow-gpu) (13.0.0)\n",
      "Requirement already satisfied: six>=1.12.0 in c:\\users\\amalitech\\anaconda3\\lib\\site-packages (from tensorflow-gpu) (1.16.0)\n",
      "Requirement already satisfied: absl-py>=0.4.0 in c:\\users\\amalitech\\anaconda3\\lib\\site-packages (from tensorflow-gpu) (1.0.0)\n",
      "Requirement already satisfied: tensorflow-io-gcs-filesystem>=0.23.1 in c:\\users\\amalitech\\anaconda3\\lib\\site-packages (from tensorflow-gpu) (0.24.0)\n",
      "Requirement already satisfied: setuptools in c:\\users\\amalitech\\anaconda3\\lib\\site-packages (from tensorflow-gpu) (58.0.4)\n",
      "Requirement already satisfied: gast>=0.2.1 in c:\\users\\amalitech\\anaconda3\\lib\\site-packages (from tensorflow-gpu) (0.5.3)\n",
      "Requirement already satisfied: termcolor>=1.1.0 in c:\\users\\amalitech\\anaconda3\\lib\\site-packages (from tensorflow-gpu) (1.1.0)\n",
      "Requirement already satisfied: keras<2.9,>=2.8.0rc0 in c:\\users\\amalitech\\anaconda3\\lib\\site-packages (from tensorflow-gpu) (2.8.0)\n",
      "Requirement already satisfied: h5py>=2.9.0 in c:\\users\\amalitech\\anaconda3\\lib\\site-packages (from tensorflow-gpu) (3.2.1)\n",
      "Requirement already satisfied: typing-extensions>=3.6.6 in c:\\users\\amalitech\\anaconda3\\lib\\site-packages (from tensorflow-gpu) (3.10.0.2)\n",
      "Requirement already satisfied: protobuf>=3.9.2 in c:\\users\\amalitech\\anaconda3\\lib\\site-packages (from tensorflow-gpu) (3.19.4)\n",
      "Requirement already satisfied: wheel<1.0,>=0.23.0 in c:\\users\\amalitech\\anaconda3\\lib\\site-packages (from astunparse>=1.6.0->tensorflow-gpu) (0.37.0)\n",
      "Requirement already satisfied: tensorboard-data-server<0.7.0,>=0.6.0 in c:\\users\\amalitech\\anaconda3\\lib\\site-packages (from tensorboard<2.9,>=2.8->tensorflow-gpu) (0.6.1)\n",
      "Requirement already satisfied: markdown>=2.6.8 in c:\\users\\amalitech\\anaconda3\\lib\\site-packages (from tensorboard<2.9,>=2.8->tensorflow-gpu) (3.3.6)\n",
      "Requirement already satisfied: werkzeug>=0.11.15 in c:\\users\\amalitech\\anaconda3\\lib\\site-packages (from tensorboard<2.9,>=2.8->tensorflow-gpu) (2.0.2)\n",
      "Requirement already satisfied: requests<3,>=2.21.0 in c:\\users\\amalitech\\anaconda3\\lib\\site-packages (from tensorboard<2.9,>=2.8->tensorflow-gpu) (2.26.0)\n",
      "Requirement already satisfied: google-auth<3,>=1.6.3 in c:\\users\\amalitech\\anaconda3\\lib\\site-packages (from tensorboard<2.9,>=2.8->tensorflow-gpu) (2.6.0)\n",
      "Requirement already satisfied: tensorboard-plugin-wit>=1.6.0 in c:\\users\\amalitech\\anaconda3\\lib\\site-packages (from tensorboard<2.9,>=2.8->tensorflow-gpu) (1.8.1)\n",
      "Requirement already satisfied: google-auth-oauthlib<0.5,>=0.4.1 in c:\\users\\amalitech\\anaconda3\\lib\\site-packages (from tensorboard<2.9,>=2.8->tensorflow-gpu) (0.4.6)\n",
      "Requirement already satisfied: rsa<5,>=3.1.4 in c:\\users\\amalitech\\anaconda3\\lib\\site-packages (from google-auth<3,>=1.6.3->tensorboard<2.9,>=2.8->tensorflow-gpu) (4.8)\n",
      "Requirement already satisfied: cachetools<6.0,>=2.0.0 in c:\\users\\amalitech\\anaconda3\\lib\\site-packages (from google-auth<3,>=1.6.3->tensorboard<2.9,>=2.8->tensorflow-gpu) (5.0.0)\n",
      "Requirement already satisfied: pyasn1-modules>=0.2.1 in c:\\users\\amalitech\\anaconda3\\lib\\site-packages (from google-auth<3,>=1.6.3->tensorboard<2.9,>=2.8->tensorflow-gpu) (0.2.8)\n",
      "Requirement already satisfied: requests-oauthlib>=0.7.0 in c:\\users\\amalitech\\anaconda3\\lib\\site-packages (from google-auth-oauthlib<0.5,>=0.4.1->tensorboard<2.9,>=2.8->tensorflow-gpu) (1.3.1)\n",
      "Requirement already satisfied: importlib-metadata>=4.4 in c:\\users\\amalitech\\anaconda3\\lib\\site-packages (from markdown>=2.6.8->tensorboard<2.9,>=2.8->tensorflow-gpu) (4.8.1)\n",
      "Requirement already satisfied: zipp>=0.5 in c:\\users\\amalitech\\anaconda3\\lib\\site-packages (from importlib-metadata>=4.4->markdown>=2.6.8->tensorboard<2.9,>=2.8->tensorflow-gpu) (3.6.0)\n",
      "Requirement already satisfied: pyasn1<0.5.0,>=0.4.6 in c:\\users\\amalitech\\anaconda3\\lib\\site-packages (from pyasn1-modules>=0.2.1->google-auth<3,>=1.6.3->tensorboard<2.9,>=2.8->tensorflow-gpu) (0.4.8)\n",
      "Requirement already satisfied: urllib3<1.27,>=1.21.1 in c:\\users\\amalitech\\anaconda3\\lib\\site-packages (from requests<3,>=2.21.0->tensorboard<2.9,>=2.8->tensorflow-gpu) (1.26.7)\n",
      "Requirement already satisfied: charset-normalizer~=2.0.0 in c:\\users\\amalitech\\anaconda3\\lib\\site-packages (from requests<3,>=2.21.0->tensorboard<2.9,>=2.8->tensorflow-gpu) (2.0.4)\n",
      "Requirement already satisfied: certifi>=2017.4.17 in c:\\users\\amalitech\\anaconda3\\lib\\site-packages (from requests<3,>=2.21.0->tensorboard<2.9,>=2.8->tensorflow-gpu) (2021.10.8)\n",
      "Requirement already satisfied: idna<4,>=2.5 in c:\\users\\amalitech\\anaconda3\\lib\\site-packages (from requests<3,>=2.21.0->tensorboard<2.9,>=2.8->tensorflow-gpu) (3.2)\n",
      "Requirement already satisfied: oauthlib>=3.0.0 in c:\\users\\amalitech\\anaconda3\\lib\\site-packages (from requests-oauthlib>=0.7.0->google-auth-oauthlib<0.5,>=0.4.1->tensorboard<2.9,>=2.8->tensorflow-gpu) (3.2.0)\n",
      "Installing collected packages: tensorflow-gpu\n",
      "Successfully installed tensorflow-gpu-2.8.0\n"
     ]
    }
   ],
   "source": [
    "%pip install tensorflow-gpu"
   ]
  },
  {
   "cell_type": "code",
   "execution_count": 3,
   "metadata": {
    "colab": {
     "base_uri": "https://localhost:8080/"
    },
    "id": "bSf2dxiuVPzv",
    "outputId": "ec7422be-edf2-4be0-ff7f-99f0c49afce8"
   },
   "outputs": [
    {
     "name": "stdout",
     "output_type": "stream",
     "text": [
      "2.8.0\n"
     ]
    }
   ],
   "source": [
    "import tensorflow as tf\n",
    "print(tf.__version__)"
   ]
  },
  {
   "cell_type": "markdown",
   "metadata": {},
   "source": [
    "## Cloning TFOD  2.0 from Github"
   ]
  },
  {
   "cell_type": "code",
   "execution_count": 3,
   "metadata": {
    "colab": {
     "base_uri": "https://localhost:8080/"
    },
    "id": "fVFo90GLVgSE",
    "outputId": "04f39c11-f6fb-499d-f53a-05a1bb41d175"
   },
   "outputs": [
    {
     "name": "stdout",
     "output_type": "stream",
     "text": [
      "Cloning into 'models'...\n",
      "remote: Enumerating objects: 69839, done.\u001b[K\n",
      "remote: Total 69839 (delta 0), reused 0 (delta 0), pack-reused 69839\u001b[K\n",
      "Receiving objects: 100% (69839/69839), 577.53 MiB | 46.33 MiB/s, done.\n",
      "Resolving deltas: 100% (49267/49267), done.\n"
     ]
    }
   ],
   "source": [
    "!git clone https://github.com/tensorflow/models.git"
   ]
  },
  {
   "cell_type": "code",
   "execution_count": 4,
   "metadata": {
    "colab": {
     "base_uri": "https://localhost:8080/",
     "height": 35
    },
    "id": "7VQo7GPfVj4V",
    "outputId": "0f1bc4c8-d6fc-4fb4-a34a-b6855dcf5019"
   },
   "outputs": [
    {
     "data": {
      "application/vnd.google.colaboratory.intrinsic+json": {
       "type": "string"
      },
      "text/plain": [
       "'/content'"
      ]
     },
     "execution_count": 4,
     "metadata": {},
     "output_type": "execute_result"
    }
   ],
   "source": [
    "pwd"
   ]
  },
  {
   "cell_type": "code",
   "execution_count": 4,
   "metadata": {
    "colab": {
     "base_uri": "https://localhost:8080/"
    },
    "id": "moT-AV2AVqLi",
    "outputId": "1e9344c4-58a7-4c79-8aec-811b0ff75e9e",
    "scrolled": true
   },
   "outputs": [
    {
     "name": "stdout",
     "output_type": "stream",
     "text": [
      "/content/models/research\n"
     ]
    }
   ],
   "source": [
    "#Enter research directory to install Protobuf\n",
    "cd /content/models/research"
   ]
  },
  {
   "cell_type": "markdown",
   "metadata": {},
   "source": [
    "# Protobufs Installation"
   ]
  },
  {
   "cell_type": "markdown",
   "metadata": {},
   "source": [
    "### Protobufs are essential in configuring model and training parameters, before the framework can be used, the Protobuf libraries must be downloaded and compiled."
   ]
  },
  {
   "cell_type": "code",
   "execution_count": 5,
   "metadata": {
    "id": "a6UAcnqPVzQA"
   },
   "outputs": [],
   "source": [
    "!protoc object_detection/protos/*.proto --python_out=."
   ]
  },
  {
   "cell_type": "markdown",
   "metadata": {},
   "source": [
    "## COCO API installation\n",
    "####  A dependency of the Object Detection API. "
   ]
  },
  {
   "cell_type": "code",
   "execution_count": 6,
   "metadata": {
    "colab": {
     "base_uri": "https://localhost:8080/"
    },
    "id": "YYnpYhY9WC-Z",
    "outputId": "88549014-aab1-4098-d0fc-82a21a5bf2ff"
   },
   "outputs": [
    {
     "name": "stdout",
     "output_type": "stream",
     "text": [
      "Cloning into 'cocoapi'...\n",
      "remote: Enumerating objects: 975, done.\u001b[K\n",
      "remote: Total 975 (delta 0), reused 0 (delta 0), pack-reused 975\u001b[K\n",
      "Receiving objects: 100% (975/975), 11.72 MiB | 30.39 MiB/s, done.\n",
      "Resolving deltas: 100% (576/576), done.\n"
     ]
    }
   ],
   "source": [
    "#cloning coco-api\n",
    "!git clone https://github.com/cocodataset/cocoapi.git"
   ]
  },
  {
   "cell_type": "code",
   "execution_count": 8,
   "metadata": {
    "colab": {
     "base_uri": "https://localhost:8080/"
    },
    "id": "SY0PhqCQWGbu",
    "outputId": "29a0f525-840e-4f08-c058-cce24232522a"
   },
   "outputs": [
    {
     "name": "stdout",
     "output_type": "stream",
     "text": [
      "/content/models/research/cocoapi/PythonAPI\n"
     ]
    }
   ],
   "source": [
    "cd cocoapi/PythonAPI"
   ]
  },
  {
   "cell_type": "markdown",
   "metadata": {},
   "source": [
    "## Compilation"
   ]
  },
  {
   "cell_type": "code",
   "execution_count": 9,
   "metadata": {
    "colab": {
     "base_uri": "https://localhost:8080/"
    },
    "id": "ouTmAkq6WLhx",
    "outputId": "a670bbea-4a00-447f-9c0b-250aa226f530"
   },
   "outputs": [
    {
     "name": "stdout",
     "output_type": "stream",
     "text": [
      "python setup.py build_ext --inplace\n",
      "running build_ext\n",
      "cythoning pycocotools/_mask.pyx to pycocotools/_mask.c\n",
      "/usr/local/lib/python3.7/dist-packages/Cython/Compiler/Main.py:369: FutureWarning: Cython directive 'language_level' not set, using 2 for now (Py2). This will change in a later release! File: /content/models/research/cocoapi/PythonAPI/pycocotools/_mask.pyx\n",
      "  tree = Parsing.p_module(s, pxd, full_module_name)\n",
      "building 'pycocotools._mask' extension\n",
      "creating build\n",
      "creating build/common\n",
      "creating build/temp.linux-x86_64-3.7\n",
      "creating build/temp.linux-x86_64-3.7/pycocotools\n",
      "x86_64-linux-gnu-gcc -pthread -Wno-unused-result -Wsign-compare -DNDEBUG -g -fwrapv -O2 -Wall -g -fdebug-prefix-map=/build/python3.7-pX47U3/python3.7-3.7.12=. -fstack-protector-strong -Wformat -Werror=format-security -g -fdebug-prefix-map=/build/python3.7-pX47U3/python3.7-3.7.12=. -fstack-protector-strong -Wformat -Werror=format-security -Wdate-time -D_FORTIFY_SOURCE=2 -fPIC -I/usr/local/lib/python3.7/dist-packages/numpy/core/include -I../common -I/usr/include/python3.7m -c ../common/maskApi.c -o build/temp.linux-x86_64-3.7/../common/maskApi.o -Wno-cpp -Wno-unused-function -std=c99\n",
      "\u001b[01m\u001b[K../common/maskApi.c:\u001b[m\u001b[K In function ‘\u001b[01m\u001b[KrleDecode\u001b[m\u001b[K’:\n",
      "\u001b[01m\u001b[K../common/maskApi.c:46:7:\u001b[m\u001b[K \u001b[01;35m\u001b[Kwarning: \u001b[m\u001b[Kthis ‘\u001b[01m\u001b[Kfor\u001b[m\u001b[K’ clause does not guard... [\u001b[01;35m\u001b[K-Wmisleading-indentation\u001b[m\u001b[K]\n",
      "       \u001b[01;35m\u001b[Kfor\u001b[m\u001b[K( k=0; k<R[i].cnts[j]; k++ ) *(M++)=v; v=!v; }}\n",
      "       \u001b[01;35m\u001b[K^~~\u001b[m\u001b[K\n",
      "\u001b[01m\u001b[K../common/maskApi.c:46:49:\u001b[m\u001b[K \u001b[01;36m\u001b[Knote: \u001b[m\u001b[K...this statement, but the latter is misleadingly indented as if it were guarded by the ‘\u001b[01m\u001b[Kfor\u001b[m\u001b[K’\n",
      "       for( k=0; k<R[i].cnts[j]; k++ ) *(M++)=v; \u001b[01;36m\u001b[Kv\u001b[m\u001b[K=!v; }}\n",
      "                                                 \u001b[01;36m\u001b[K^\u001b[m\u001b[K\n",
      "\u001b[01m\u001b[K../common/maskApi.c:\u001b[m\u001b[K In function ‘\u001b[01m\u001b[KrleFrPoly\u001b[m\u001b[K’:\n",
      "\u001b[01m\u001b[K../common/maskApi.c:166:3:\u001b[m\u001b[K \u001b[01;35m\u001b[Kwarning: \u001b[m\u001b[Kthis ‘\u001b[01m\u001b[Kfor\u001b[m\u001b[K’ clause does not guard... [\u001b[01;35m\u001b[K-Wmisleading-indentation\u001b[m\u001b[K]\n",
      "   \u001b[01;35m\u001b[Kfor\u001b[m\u001b[K(j=0; j<k; j++) x[j]=(int)(scale*xy[j*2+0]+.5); x[k]=x[0];\n",
      "   \u001b[01;35m\u001b[K^~~\u001b[m\u001b[K\n",
      "\u001b[01m\u001b[K../common/maskApi.c:166:54:\u001b[m\u001b[K \u001b[01;36m\u001b[Knote: \u001b[m\u001b[K...this statement, but the latter is misleadingly indented as if it were guarded by the ‘\u001b[01m\u001b[Kfor\u001b[m\u001b[K’\n",
      "   for(j=0; j<k; j++) x[j]=(int)(scale*xy[j*2+0]+.5); \u001b[01;36m\u001b[Kx\u001b[m\u001b[K[k]=x[0];\n",
      "                                                      \u001b[01;36m\u001b[K^\u001b[m\u001b[K\n",
      "\u001b[01m\u001b[K../common/maskApi.c:167:3:\u001b[m\u001b[K \u001b[01;35m\u001b[Kwarning: \u001b[m\u001b[Kthis ‘\u001b[01m\u001b[Kfor\u001b[m\u001b[K’ clause does not guard... [\u001b[01;35m\u001b[K-Wmisleading-indentation\u001b[m\u001b[K]\n",
      "   \u001b[01;35m\u001b[Kfor\u001b[m\u001b[K(j=0; j<k; j++) y[j]=(int)(scale*xy[j*2+1]+.5); y[k]=y[0];\n",
      "   \u001b[01;35m\u001b[K^~~\u001b[m\u001b[K\n",
      "\u001b[01m\u001b[K../common/maskApi.c:167:54:\u001b[m\u001b[K \u001b[01;36m\u001b[Knote: \u001b[m\u001b[K...this statement, but the latter is misleadingly indented as if it were guarded by the ‘\u001b[01m\u001b[Kfor\u001b[m\u001b[K’\n",
      "   for(j=0; j<k; j++) y[j]=(int)(scale*xy[j*2+1]+.5); \u001b[01;36m\u001b[Ky\u001b[m\u001b[K[k]=y[0];\n",
      "                                                      \u001b[01;36m\u001b[K^\u001b[m\u001b[K\n",
      "\u001b[01m\u001b[K../common/maskApi.c:\u001b[m\u001b[K In function ‘\u001b[01m\u001b[KrleToString\u001b[m\u001b[K’:\n",
      "\u001b[01m\u001b[K../common/maskApi.c:212:7:\u001b[m\u001b[K \u001b[01;35m\u001b[Kwarning: \u001b[m\u001b[Kthis ‘\u001b[01m\u001b[Kif\u001b[m\u001b[K’ clause does not guard... [\u001b[01;35m\u001b[K-Wmisleading-indentation\u001b[m\u001b[K]\n",
      "       \u001b[01;35m\u001b[Kif\u001b[m\u001b[K(more) c |= 0x20; c+=48; s[p++]=c;\n",
      "       \u001b[01;35m\u001b[K^~\u001b[m\u001b[K\n",
      "\u001b[01m\u001b[K../common/maskApi.c:212:27:\u001b[m\u001b[K \u001b[01;36m\u001b[Knote: \u001b[m\u001b[K...this statement, but the latter is misleadingly indented as if it were guarded by the ‘\u001b[01m\u001b[Kif\u001b[m\u001b[K’\n",
      "       if(more) c |= 0x20; \u001b[01;36m\u001b[Kc\u001b[m\u001b[K+=48; s[p++]=c;\n",
      "                           \u001b[01;36m\u001b[K^\u001b[m\u001b[K\n",
      "\u001b[01m\u001b[K../common/maskApi.c:\u001b[m\u001b[K In function ‘\u001b[01m\u001b[KrleFrString\u001b[m\u001b[K’:\n",
      "\u001b[01m\u001b[K../common/maskApi.c:220:3:\u001b[m\u001b[K \u001b[01;35m\u001b[Kwarning: \u001b[m\u001b[Kthis ‘\u001b[01m\u001b[Kwhile\u001b[m\u001b[K’ clause does not guard... [\u001b[01;35m\u001b[K-Wmisleading-indentation\u001b[m\u001b[K]\n",
      "   \u001b[01;35m\u001b[Kwhile\u001b[m\u001b[K( s[m] ) m++; cnts=malloc(sizeof(uint)*m); m=0;\n",
      "   \u001b[01;35m\u001b[K^~~~~\u001b[m\u001b[K\n",
      "\u001b[01m\u001b[K../common/maskApi.c:220:22:\u001b[m\u001b[K \u001b[01;36m\u001b[Knote: \u001b[m\u001b[K...this statement, but the latter is misleadingly indented as if it were guarded by the ‘\u001b[01m\u001b[Kwhile\u001b[m\u001b[K’\n",
      "   while( s[m] ) m++; \u001b[01;36m\u001b[Kcnts\u001b[m\u001b[K=malloc(sizeof(uint)*m); m=0;\n",
      "                      \u001b[01;36m\u001b[K^~~~\u001b[m\u001b[K\n",
      "\u001b[01m\u001b[K../common/maskApi.c:228:5:\u001b[m\u001b[K \u001b[01;35m\u001b[Kwarning: \u001b[m\u001b[Kthis ‘\u001b[01m\u001b[Kif\u001b[m\u001b[K’ clause does not guard... [\u001b[01;35m\u001b[K-Wmisleading-indentation\u001b[m\u001b[K]\n",
      "     \u001b[01;35m\u001b[Kif\u001b[m\u001b[K(m>2) x+=(long) cnts[m-2]; cnts[m++]=(uint) x;\n",
      "     \u001b[01;35m\u001b[K^~\u001b[m\u001b[K\n",
      "\u001b[01m\u001b[K../common/maskApi.c:228:34:\u001b[m\u001b[K \u001b[01;36m\u001b[Knote: \u001b[m\u001b[K...this statement, but the latter is misleadingly indented as if it were guarded by the ‘\u001b[01m\u001b[Kif\u001b[m\u001b[K’\n",
      "     if(m>2) x+=(long) cnts[m-2]; \u001b[01;36m\u001b[Kcnts\u001b[m\u001b[K[m++]=(uint) x;\n",
      "                                  \u001b[01;36m\u001b[K^~~~\u001b[m\u001b[K\n",
      "\u001b[01m\u001b[K../common/maskApi.c:\u001b[m\u001b[K In function ‘\u001b[01m\u001b[KrleToBbox\u001b[m\u001b[K’:\n",
      "\u001b[01m\u001b[K../common/maskApi.c:141:31:\u001b[m\u001b[K \u001b[01;35m\u001b[Kwarning: \u001b[m\u001b[K‘\u001b[01m\u001b[Kxp\u001b[m\u001b[K’ may be used uninitialized in this function [\u001b[01;35m\u001b[K-Wmaybe-uninitialized\u001b[m\u001b[K]\n",
      "       if(j%2==0) xp=x; else if\u001b[01;35m\u001b[K(\u001b[m\u001b[Kxp<x) { ys=0; ye=h-1; }\n",
      "                               \u001b[01;35m\u001b[K^\u001b[m\u001b[K\n",
      "x86_64-linux-gnu-gcc -pthread -Wno-unused-result -Wsign-compare -DNDEBUG -g -fwrapv -O2 -Wall -g -fdebug-prefix-map=/build/python3.7-pX47U3/python3.7-3.7.12=. -fstack-protector-strong -Wformat -Werror=format-security -g -fdebug-prefix-map=/build/python3.7-pX47U3/python3.7-3.7.12=. -fstack-protector-strong -Wformat -Werror=format-security -Wdate-time -D_FORTIFY_SOURCE=2 -fPIC -I/usr/local/lib/python3.7/dist-packages/numpy/core/include -I../common -I/usr/include/python3.7m -c pycocotools/_mask.c -o build/temp.linux-x86_64-3.7/pycocotools/_mask.o -Wno-cpp -Wno-unused-function -std=c99\n",
      "creating build/lib.linux-x86_64-3.7\n",
      "creating build/lib.linux-x86_64-3.7/pycocotools\n",
      "x86_64-linux-gnu-gcc -pthread -shared -Wl,-O1 -Wl,-Bsymbolic-functions -Wl,-Bsymbolic-functions -Wl,-z,relro -Wl,-Bsymbolic-functions -Wl,-z,relro -g -fdebug-prefix-map=/build/python3.7-pX47U3/python3.7-3.7.12=. -fstack-protector-strong -Wformat -Werror=format-security -Wdate-time -D_FORTIFY_SOURCE=2 build/temp.linux-x86_64-3.7/../common/maskApi.o build/temp.linux-x86_64-3.7/pycocotools/_mask.o -o build/lib.linux-x86_64-3.7/pycocotools/_mask.cpython-37m-x86_64-linux-gnu.so\n",
      "copying build/lib.linux-x86_64-3.7/pycocotools/_mask.cpython-37m-x86_64-linux-gnu.so -> pycocotools\n",
      "rm -rf build\n"
     ]
    }
   ],
   "source": [
    "#Executes setup.py file\n",
    "!make"
   ]
  },
  {
   "cell_type": "code",
   "execution_count": 9,
   "metadata": {
    "id": "s75cQApqWOVw"
   },
   "outputs": [],
   "source": [
    "cp -r pycocotools /content/models/research"
   ]
  },
  {
   "cell_type": "markdown",
   "metadata": {
    "id": "L1N6aCmgWXNb"
   },
   "source": [
    "## Install Object detection API\n",
    "### Installation of the Object Detection API is achieved by installing the object_detection package. This is done by running the commands below from within Tensorflow\\models\\research:"
   ]
  },
  {
   "cell_type": "code",
   "execution_count": 13,
   "metadata": {
    "colab": {
     "base_uri": "https://localhost:8080/"
    },
    "id": "Rir1lCXtW6ao",
    "outputId": "4f3b841c-ee1a-4252-8fa2-7b6324fe722b"
   },
   "outputs": [
    {
     "name": "stdout",
     "output_type": "stream",
     "text": [
      "/content/models/research\n"
     ]
    }
   ],
   "source": [
    "cd ../.."
   ]
  },
  {
   "cell_type": "code",
   "execution_count": 10,
   "metadata": {
    "colab": {
     "base_uri": "https://localhost:8080/"
    },
    "id": "H6gYEcBvW9hf",
    "outputId": "91aa0445-4f94-420c-e1a7-3d5682a6cf3f"
   },
   "outputs": [
    {
     "name": "stdout",
     "output_type": "stream",
     "text": [
      "/content/models/research\n"
     ]
    }
   ],
   "source": [
    "cd /content/models/research"
   ]
  },
  {
   "cell_type": "code",
   "execution_count": 11,
   "metadata": {
    "id": "kiOlr-WbXH4P"
   },
   "outputs": [],
   "source": [
    "cp object_detection/packages/tf2/setup.py ."
   ]
  },
  {
   "cell_type": "code",
   "execution_count": 12,
   "metadata": {
    "colab": {
     "base_uri": "https://localhost:8080/"
    },
    "id": "P4zAQj_wX9rQ",
    "outputId": "a804b324-7784-4738-9ba2-05564077f5fe"
   },
   "outputs": [
    {
     "name": "stdout",
     "output_type": "stream",
     "text": [
      "Requirement already satisfied: pip in /usr/local/lib/python3.7/dist-packages (21.1.3)\n",
      "Collecting pip\n",
      "  Downloading pip-22.0.4-py3-none-any.whl (2.1 MB)\n",
      "\u001b[K     |████████████████████████████████| 2.1 MB 5.3 MB/s \n",
      "\u001b[?25hInstalling collected packages: pip\n",
      "  Attempting uninstall: pip\n",
      "    Found existing installation: pip 21.1.3\n",
      "    Uninstalling pip-21.1.3:\n",
      "      Successfully uninstalled pip-21.1.3\n",
      "Successfully installed pip-22.0.4\n"
     ]
    }
   ],
   "source": [
    "!python -m pip install --upgrade pip"
   ]
  },
  {
   "cell_type": "code",
   "execution_count": 13,
   "metadata": {
    "colab": {
     "base_uri": "https://localhost:8080/"
    },
    "id": "CahmnYJZYNSl",
    "outputId": "9e941a83-d9d6-41c2-ce0e-1a095517678e"
   },
   "outputs": [
    {
     "name": "stdout",
     "output_type": "stream",
     "text": [
      "\u001b[33mWARNING: --use-feature=2020-resolver no longer has any effect, since it is now the default dependency resolver in pip. This will become an error in pip 21.0.\u001b[0m\u001b[33m\n",
      "\u001b[0mCollecting example\n",
      "  Downloading example-0.1.0.tar.gz (860 bytes)\n",
      "  Preparing metadata (setup.py) ... \u001b[?25l\u001b[?25hdone\n",
      "Requirement already satisfied: six in /usr/local/lib/python3.7/dist-packages (from example) (1.15.0)\n",
      "Building wheels for collected packages: example\n",
      "  Building wheel for example (setup.py) ... \u001b[?25l\u001b[?25hdone\n",
      "  Created wheel for example: filename=example-0.1.0-py3-none-any.whl size=1237 sha256=2b240e984576ba2f734e97e6e342c4336a03b7c06df9a030c979e4e51870518e\n",
      "  Stored in directory: /root/.cache/pip/wheels/8d/ea/09/d4642cabc2ea6d60ab48ecabea4f62d604108571d1a059d6d9\n",
      "Successfully built example\n",
      "Installing collected packages: example\n",
      "Successfully installed example-0.1.0\n",
      "\u001b[33mWARNING: Running pip as the 'root' user can result in broken permissions and conflicting behaviour with the system package manager. It is recommended to use a virtual environment instead: https://pip.pypa.io/warnings/venv\u001b[0m\u001b[33m\n",
      "\u001b[0m"
     ]
    }
   ],
   "source": [
    "pip install example --use-feature=2020-resolver"
   ]
  },
  {
   "cell_type": "code",
   "execution_count": 14,
   "metadata": {
    "colab": {
     "base_uri": "https://localhost:8080/"
    },
    "id": "deGXCzFAXO0N",
    "outputId": "4059431f-e0ce-46e2-9e48-3ad22cc26326"
   },
   "outputs": [
    {
     "name": "stdout",
     "output_type": "stream",
     "text": [
      "Processing /content/models/research\n",
      "  Preparing metadata (setup.py) ... \u001b[?25l\u001b[?25hdone\n",
      "Collecting avro-python3\n",
      "  Downloading avro-python3-1.10.2.tar.gz (38 kB)\n",
      "  Preparing metadata (setup.py) ... \u001b[?25l\u001b[?25hdone\n",
      "Collecting apache-beam\n",
      "  Downloading apache_beam-2.37.0-cp37-cp37m-manylinux2010_x86_64.whl (10.1 MB)\n",
      "\u001b[2K     \u001b[90m━━━━━━━━━━━━━━━━━━━━━━━━━━━━━━━━━━━━━━━━\u001b[0m \u001b[32m10.1/10.1 MB\u001b[0m \u001b[31m64.4 MB/s\u001b[0m eta \u001b[36m0:00:00\u001b[0m\n",
      "\u001b[?25hRequirement already satisfied: pillow in /usr/local/lib/python3.7/dist-packages (from object-detection==0.1) (7.1.2)\n",
      "Requirement already satisfied: lxml in /usr/local/lib/python3.7/dist-packages (from object-detection==0.1) (4.2.6)\n",
      "Requirement already satisfied: matplotlib in /usr/local/lib/python3.7/dist-packages (from object-detection==0.1) (3.2.2)\n",
      "Requirement already satisfied: Cython in /usr/local/lib/python3.7/dist-packages (from object-detection==0.1) (0.29.28)\n",
      "Requirement already satisfied: contextlib2 in /usr/local/lib/python3.7/dist-packages (from object-detection==0.1) (0.5.5)\n",
      "Collecting tf-slim\n",
      "  Downloading tf_slim-1.1.0-py2.py3-none-any.whl (352 kB)\n",
      "\u001b[2K     \u001b[90m━━━━━━━━━━━━━━━━━━━━━━━━━━━━━━━━━━━━━━\u001b[0m \u001b[32m352.1/352.1 KB\u001b[0m \u001b[31m29.8 MB/s\u001b[0m eta \u001b[36m0:00:00\u001b[0m\n",
      "\u001b[?25hRequirement already satisfied: six in /usr/local/lib/python3.7/dist-packages (from object-detection==0.1) (1.15.0)\n",
      "Requirement already satisfied: pycocotools in /usr/local/lib/python3.7/dist-packages (from object-detection==0.1) (2.0.4)\n",
      "Collecting lvis\n",
      "  Downloading lvis-0.5.3-py3-none-any.whl (14 kB)\n",
      "Requirement already satisfied: scipy in /usr/local/lib/python3.7/dist-packages (from object-detection==0.1) (1.4.1)\n",
      "Requirement already satisfied: pandas in /usr/local/lib/python3.7/dist-packages (from object-detection==0.1) (1.3.5)\n",
      "Collecting tf-models-official>=2.5.1\n",
      "  Downloading tf_models_official-2.8.0-py2.py3-none-any.whl (2.2 MB)\n",
      "\u001b[2K     \u001b[90m━━━━━━━━━━━━━━━━━━━━━━━━━━━━━━━━━━━━━━━━\u001b[0m \u001b[32m2.2/2.2 MB\u001b[0m \u001b[31m59.5 MB/s\u001b[0m eta \u001b[36m0:00:00\u001b[0m\n",
      "\u001b[?25hCollecting tensorflow_io\n",
      "  Downloading tensorflow_io-0.24.0-cp37-cp37m-manylinux_2_12_x86_64.manylinux2010_x86_64.whl (23.4 MB)\n",
      "\u001b[2K     \u001b[90m━━━━━━━━━━━━━━━━━━━━━━━━━━━━━━━━━━━━━━━━\u001b[0m \u001b[32m23.4/23.4 MB\u001b[0m \u001b[31m40.0 MB/s\u001b[0m eta \u001b[36m0:00:00\u001b[0m\n",
      "\u001b[?25hRequirement already satisfied: keras in /usr/local/lib/python3.7/dist-packages (from object-detection==0.1) (2.8.0)\n",
      "Requirement already satisfied: kaggle>=1.3.9 in /usr/local/lib/python3.7/dist-packages (from tf-models-official>=2.5.1->object-detection==0.1) (1.5.12)\n",
      "Requirement already satisfied: numpy>=1.15.4 in /usr/local/lib/python3.7/dist-packages (from tf-models-official>=2.5.1->object-detection==0.1) (1.21.5)\n",
      "Requirement already satisfied: gin-config in /usr/local/lib/python3.7/dist-packages (from tf-models-official>=2.5.1->object-detection==0.1) (0.5.0)\n",
      "Collecting tensorflow-model-optimization>=0.4.1\n",
      "  Downloading tensorflow_model_optimization-0.7.1-py2.py3-none-any.whl (234 kB)\n",
      "\u001b[2K     \u001b[90m━━━━━━━━━━━━━━━━━━━━━━━━━━━━━━━━━━━━━━\u001b[0m \u001b[32m234.6/234.6 KB\u001b[0m \u001b[31m22.5 MB/s\u001b[0m eta \u001b[36m0:00:00\u001b[0m\n",
      "\u001b[?25hRequirement already satisfied: google-api-python-client>=1.6.7 in /usr/local/lib/python3.7/dist-packages (from tf-models-official>=2.5.1->object-detection==0.1) (1.12.10)\n",
      "Requirement already satisfied: psutil>=5.4.3 in /usr/local/lib/python3.7/dist-packages (from tf-models-official>=2.5.1->object-detection==0.1) (5.4.8)\n",
      "Requirement already satisfied: oauth2client in /usr/local/lib/python3.7/dist-packages (from tf-models-official>=2.5.1->object-detection==0.1) (4.1.3)\n",
      "Requirement already satisfied: tensorflow~=2.8.0 in /usr/local/lib/python3.7/dist-packages (from tf-models-official>=2.5.1->object-detection==0.1) (2.8.0)\n",
      "Collecting tensorflow-text~=2.8.0\n",
      "  Downloading tensorflow_text-2.8.1-cp37-cp37m-manylinux_2_12_x86_64.manylinux2010_x86_64.whl (4.9 MB)\n",
      "\u001b[2K     \u001b[90m━━━━━━━━━━━━━━━━━━━━━━━━━━━━━━━━━━━━━━━━\u001b[0m \u001b[32m4.9/4.9 MB\u001b[0m \u001b[31m93.4 MB/s\u001b[0m eta \u001b[36m0:00:00\u001b[0m\n",
      "\u001b[?25hCollecting sacrebleu\n",
      "  Downloading sacrebleu-2.0.0-py3-none-any.whl (90 kB)\n",
      "\u001b[2K     \u001b[90m━━━━━━━━━━━━━━━━━━━━━━━━━━━━━━━━━━━━━━━━\u001b[0m \u001b[32m90.7/90.7 KB\u001b[0m \u001b[31m11.4 MB/s\u001b[0m eta \u001b[36m0:00:00\u001b[0m\n",
      "\u001b[?25hCollecting opencv-python-headless\n",
      "  Downloading opencv_python_headless-4.5.5.62-cp36-abi3-manylinux_2_17_x86_64.manylinux2014_x86_64.whl (47.7 MB)\n",
      "\u001b[2K     \u001b[90m━━━━━━━━━━━━━━━━━━━━━━━━━━━━━━━━━━━━━━━━\u001b[0m \u001b[32m47.7/47.7 MB\u001b[0m \u001b[31m30.5 MB/s\u001b[0m eta \u001b[36m0:00:00\u001b[0m\n",
      "\u001b[?25hCollecting py-cpuinfo>=3.3.0\n",
      "  Downloading py-cpuinfo-8.0.0.tar.gz (99 kB)\n",
      "\u001b[2K     \u001b[90m━━━━━━━━━━━━━━━━━━━━━━━━━━━━━━━━━━━━━━━━\u001b[0m \u001b[32m99.8/99.8 KB\u001b[0m \u001b[31m12.2 MB/s\u001b[0m eta \u001b[36m0:00:00\u001b[0m\n",
      "\u001b[?25h  Preparing metadata (setup.py) ... \u001b[?25l\u001b[?25hdone\n",
      "Collecting pyyaml<6.0,>=5.1\n",
      "  Downloading PyYAML-5.4.1-cp37-cp37m-manylinux1_x86_64.whl (636 kB)\n",
      "\u001b[2K     \u001b[90m━━━━━━━━━━━━━━━━━━━━━━━━━━━━━━━━━━━━━━\u001b[0m \u001b[32m636.6/636.6 KB\u001b[0m \u001b[31m42.1 MB/s\u001b[0m eta \u001b[36m0:00:00\u001b[0m\n",
      "\u001b[?25hCollecting sentencepiece\n",
      "  Downloading sentencepiece-0.1.96-cp37-cp37m-manylinux_2_17_x86_64.manylinux2014_x86_64.whl (1.2 MB)\n",
      "\u001b[2K     \u001b[90m━━━━━━━━━━━━━━━━━━━━━━━━━━━━━━━━━━━━━━━━\u001b[0m \u001b[32m1.2/1.2 MB\u001b[0m \u001b[31m57.7 MB/s\u001b[0m eta \u001b[36m0:00:00\u001b[0m\n",
      "\u001b[?25hRequirement already satisfied: tensorflow-datasets in /usr/local/lib/python3.7/dist-packages (from tf-models-official>=2.5.1->object-detection==0.1) (4.0.1)\n",
      "Collecting seqeval\n",
      "  Downloading seqeval-1.2.2.tar.gz (43 kB)\n",
      "\u001b[2K     \u001b[90m━━━━━━━━━━━━━━━━━━━━━━━━━━━━━━━━━━━━━━━━\u001b[0m \u001b[32m43.6/43.6 KB\u001b[0m \u001b[31m5.0 MB/s\u001b[0m eta \u001b[36m0:00:00\u001b[0m\n",
      "\u001b[?25h  Preparing metadata (setup.py) ... \u001b[?25l\u001b[?25hdone\n",
      "Requirement already satisfied: tensorflow-hub>=0.6.0 in /usr/local/lib/python3.7/dist-packages (from tf-models-official>=2.5.1->object-detection==0.1) (0.12.0)\n",
      "Collecting tensorflow-addons\n",
      "  Downloading tensorflow_addons-0.16.1-cp37-cp37m-manylinux_2_12_x86_64.manylinux2010_x86_64.whl (1.1 MB)\n",
      "\u001b[2K     \u001b[90m━━━━━━━━━━━━━━━━━━━━━━━━━━━━━━━━━━━━━━━━\u001b[0m \u001b[32m1.1/1.1 MB\u001b[0m \u001b[31m42.0 MB/s\u001b[0m eta \u001b[36m0:00:00\u001b[0m\n",
      "\u001b[?25hRequirement already satisfied: python-dateutil>=2.7.3 in /usr/local/lib/python3.7/dist-packages (from pandas->object-detection==0.1) (2.8.2)\n",
      "Requirement already satisfied: pytz>=2017.3 in /usr/local/lib/python3.7/dist-packages (from pandas->object-detection==0.1) (2018.9)\n",
      "Requirement already satisfied: absl-py>=0.2.2 in /usr/local/lib/python3.7/dist-packages (from tf-slim->object-detection==0.1) (1.0.0)\n",
      "Requirement already satisfied: typing-extensions>=3.7.0 in /usr/local/lib/python3.7/dist-packages (from apache-beam->object-detection==0.1) (3.10.0.2)\n",
      "Collecting proto-plus<2,>=1.7.1\n",
      "  Downloading proto_plus-1.20.3-py3-none-any.whl (46 kB)\n",
      "\u001b[2K     \u001b[90m━━━━━━━━━━━━━━━━━━━━━━━━━━━━━━━━━━━━━━━━\u001b[0m \u001b[32m46.2/46.2 KB\u001b[0m \u001b[31m4.7 MB/s\u001b[0m eta \u001b[36m0:00:00\u001b[0m\n",
      "\u001b[?25hRequirement already satisfied: pydot<2,>=1.2.0 in /usr/local/lib/python3.7/dist-packages (from apache-beam->object-detection==0.1) (1.3.0)\n",
      "Collecting dill<0.3.2,>=0.3.1.1\n",
      "  Downloading dill-0.3.1.1.tar.gz (151 kB)\n",
      "\u001b[2K     \u001b[90m━━━━━━━━━━━━━━━━━━━━━━━━━━━━━━━━━━━━━━\u001b[0m \u001b[32m152.0/152.0 KB\u001b[0m \u001b[31m16.9 MB/s\u001b[0m eta \u001b[36m0:00:00\u001b[0m\n",
      "\u001b[?25h  Preparing metadata (setup.py) ... \u001b[?25l\u001b[?25hdone\n",
      "Requirement already satisfied: grpcio<2,>=1.29.0 in /usr/local/lib/python3.7/dist-packages (from apache-beam->object-detection==0.1) (1.44.0)\n",
      "Collecting orjson<4.0\n",
      "  Downloading orjson-3.6.7-cp37-cp37m-manylinux_2_24_x86_64.whl (255 kB)\n",
      "\u001b[2K     \u001b[90m━━━━━━━━━━━━━━━━━━━━━━━━━━━━━━━━━━━━━━\u001b[0m \u001b[32m255.4/255.4 KB\u001b[0m \u001b[31m21.6 MB/s\u001b[0m eta \u001b[36m0:00:00\u001b[0m\n",
      "\u001b[?25hRequirement already satisfied: crcmod<2.0,>=1.7 in /usr/local/lib/python3.7/dist-packages (from apache-beam->object-detection==0.1) (1.7)\n",
      "Requirement already satisfied: httplib2<0.20.0,>=0.8 in /usr/local/lib/python3.7/dist-packages (from apache-beam->object-detection==0.1) (0.17.4)\n",
      "Requirement already satisfied: protobuf<4,>=3.12.2 in /usr/local/lib/python3.7/dist-packages (from apache-beam->object-detection==0.1) (3.17.3)\n",
      "Requirement already satisfied: pyarrow<7.0.0,>=0.15.1 in /usr/local/lib/python3.7/dist-packages (from apache-beam->object-detection==0.1) (6.0.1)\n",
      "Collecting requests<3.0.0,>=2.24.0\n",
      "  Downloading requests-2.27.1-py2.py3-none-any.whl (63 kB)\n",
      "\u001b[2K     \u001b[90m━━━━━━━━━━━━━━━━━━━━━━━━━━━━━━━━━━━━━━━━\u001b[0m \u001b[32m63.1/63.1 KB\u001b[0m \u001b[31m6.3 MB/s\u001b[0m eta \u001b[36m0:00:00\u001b[0m\n",
      "\u001b[?25hCollecting hdfs<3.0.0,>=2.1.0\n",
      "  Downloading hdfs-2.6.0-py3-none-any.whl (33 kB)\n",
      "Collecting cloudpickle<3,>=2.0.0\n",
      "  Downloading cloudpickle-2.0.0-py3-none-any.whl (25 kB)\n",
      "Collecting fastavro<2,>=0.23.6\n",
      "  Downloading fastavro-1.4.10-cp37-cp37m-manylinux_2_17_x86_64.manylinux2014_x86_64.whl (2.3 MB)\n",
      "\u001b[2K     \u001b[90m━━━━━━━━━━━━━━━━━━━━━━━━━━━━━━━━━━━━━━━━\u001b[0m \u001b[32m2.3/2.3 MB\u001b[0m \u001b[31m74.4 MB/s\u001b[0m eta \u001b[36m0:00:00\u001b[0m\n",
      "\u001b[?25hCollecting pymongo<4.0.0,>=3.8.0\n",
      "  Downloading pymongo-3.12.3-cp37-cp37m-manylinux_2_17_x86_64.manylinux2014_x86_64.whl (508 kB)\n",
      "\u001b[2K     \u001b[90m━━━━━━━━━━━━━━━━━━━━━━━━━━━━━━━━━━━━━━\u001b[0m \u001b[32m508.1/508.1 KB\u001b[0m \u001b[31m36.4 MB/s\u001b[0m eta \u001b[36m0:00:00\u001b[0m\n",
      "\u001b[?25hRequirement already satisfied: pyparsing>=2.4.0 in /usr/local/lib/python3.7/dist-packages (from lvis->object-detection==0.1) (3.0.7)\n",
      "Requirement already satisfied: cycler>=0.10.0 in /usr/local/lib/python3.7/dist-packages (from lvis->object-detection==0.1) (0.11.0)\n",
      "Requirement already satisfied: opencv-python>=4.1.0.25 in /usr/local/lib/python3.7/dist-packages (from lvis->object-detection==0.1) (4.1.2.30)\n",
      "Requirement already satisfied: kiwisolver>=1.1.0 in /usr/local/lib/python3.7/dist-packages (from lvis->object-detection==0.1) (1.3.2)\n",
      "Requirement already satisfied: tensorflow-io-gcs-filesystem==0.24.0 in /usr/local/lib/python3.7/dist-packages (from tensorflow_io->object-detection==0.1) (0.24.0)\n",
      "Requirement already satisfied: google-auth<3dev,>=1.16.0 in /usr/local/lib/python3.7/dist-packages (from google-api-python-client>=1.6.7->tf-models-official>=2.5.1->object-detection==0.1) (1.35.0)\n",
      "Requirement already satisfied: uritemplate<4dev,>=3.0.0 in /usr/local/lib/python3.7/dist-packages (from google-api-python-client>=1.6.7->tf-models-official>=2.5.1->object-detection==0.1) (3.0.1)\n",
      "Requirement already satisfied: google-auth-httplib2>=0.0.3 in /usr/local/lib/python3.7/dist-packages (from google-api-python-client>=1.6.7->tf-models-official>=2.5.1->object-detection==0.1) (0.0.4)\n",
      "Requirement already satisfied: google-api-core<3dev,>=1.21.0 in /usr/local/lib/python3.7/dist-packages (from google-api-python-client>=1.6.7->tf-models-official>=2.5.1->object-detection==0.1) (1.26.3)\n",
      "Requirement already satisfied: docopt in /usr/local/lib/python3.7/dist-packages (from hdfs<3.0.0,>=2.1.0->apache-beam->object-detection==0.1) (0.6.2)\n",
      "Requirement already satisfied: urllib3 in /usr/local/lib/python3.7/dist-packages (from kaggle>=1.3.9->tf-models-official>=2.5.1->object-detection==0.1) (1.24.3)\n",
      "Requirement already satisfied: python-slugify in /usr/local/lib/python3.7/dist-packages (from kaggle>=1.3.9->tf-models-official>=2.5.1->object-detection==0.1) (6.1.1)\n",
      "Requirement already satisfied: certifi in /usr/local/lib/python3.7/dist-packages (from kaggle>=1.3.9->tf-models-official>=2.5.1->object-detection==0.1) (2021.10.8)\n",
      "Requirement already satisfied: tqdm in /usr/local/lib/python3.7/dist-packages (from kaggle>=1.3.9->tf-models-official>=2.5.1->object-detection==0.1) (4.63.0)\n",
      "Requirement already satisfied: pyasn1>=0.1.7 in /usr/local/lib/python3.7/dist-packages (from oauth2client->tf-models-official>=2.5.1->object-detection==0.1) (0.4.8)\n",
      "Requirement already satisfied: pyasn1-modules>=0.0.5 in /usr/local/lib/python3.7/dist-packages (from oauth2client->tf-models-official>=2.5.1->object-detection==0.1) (0.2.8)\n",
      "Requirement already satisfied: rsa>=3.1.4 in /usr/local/lib/python3.7/dist-packages (from oauth2client->tf-models-official>=2.5.1->object-detection==0.1) (4.8)\n",
      "Collecting protobuf<4,>=3.12.2\n",
      "  Downloading protobuf-3.19.4-cp37-cp37m-manylinux_2_17_x86_64.manylinux2014_x86_64.whl (1.1 MB)\n",
      "\u001b[2K     \u001b[90m━━━━━━━━━━━━━━━━━━━━━━━━━━━━━━━━━━━━━━━━\u001b[0m \u001b[32m1.1/1.1 MB\u001b[0m \u001b[31m55.7 MB/s\u001b[0m eta \u001b[36m0:00:00\u001b[0m\n",
      "\u001b[?25hRequirement already satisfied: idna<4,>=2.5 in /usr/local/lib/python3.7/dist-packages (from requests<3.0.0,>=2.24.0->apache-beam->object-detection==0.1) (2.10)\n",
      "Requirement already satisfied: charset-normalizer~=2.0.0 in /usr/local/lib/python3.7/dist-packages (from requests<3.0.0,>=2.24.0->apache-beam->object-detection==0.1) (2.0.12)\n",
      "Requirement already satisfied: gast>=0.2.1 in /usr/local/lib/python3.7/dist-packages (from tensorflow~=2.8.0->tf-models-official>=2.5.1->object-detection==0.1) (0.5.3)\n",
      "Requirement already satisfied: flatbuffers>=1.12 in /usr/local/lib/python3.7/dist-packages (from tensorflow~=2.8.0->tf-models-official>=2.5.1->object-detection==0.1) (2.0)\n",
      "Requirement already satisfied: h5py>=2.9.0 in /usr/local/lib/python3.7/dist-packages (from tensorflow~=2.8.0->tf-models-official>=2.5.1->object-detection==0.1) (3.1.0)\n",
      "Requirement already satisfied: google-pasta>=0.1.1 in /usr/local/lib/python3.7/dist-packages (from tensorflow~=2.8.0->tf-models-official>=2.5.1->object-detection==0.1) (0.2.0)\n",
      "Requirement already satisfied: setuptools in /usr/local/lib/python3.7/dist-packages (from tensorflow~=2.8.0->tf-models-official>=2.5.1->object-detection==0.1) (57.4.0)\n",
      "Requirement already satisfied: tf-estimator-nightly==2.8.0.dev2021122109 in /usr/local/lib/python3.7/dist-packages (from tensorflow~=2.8.0->tf-models-official>=2.5.1->object-detection==0.1) (2.8.0.dev2021122109)\n",
      "Requirement already satisfied: astunparse>=1.6.0 in /usr/local/lib/python3.7/dist-packages (from tensorflow~=2.8.0->tf-models-official>=2.5.1->object-detection==0.1) (1.6.3)\n",
      "Requirement already satisfied: opt-einsum>=2.3.2 in /usr/local/lib/python3.7/dist-packages (from tensorflow~=2.8.0->tf-models-official>=2.5.1->object-detection==0.1) (3.3.0)\n",
      "Requirement already satisfied: wrapt>=1.11.0 in /usr/local/lib/python3.7/dist-packages (from tensorflow~=2.8.0->tf-models-official>=2.5.1->object-detection==0.1) (1.13.3)\n",
      "Requirement already satisfied: keras-preprocessing>=1.1.1 in /usr/local/lib/python3.7/dist-packages (from tensorflow~=2.8.0->tf-models-official>=2.5.1->object-detection==0.1) (1.1.2)\n",
      "Requirement already satisfied: termcolor>=1.1.0 in /usr/local/lib/python3.7/dist-packages (from tensorflow~=2.8.0->tf-models-official>=2.5.1->object-detection==0.1) (1.1.0)\n",
      "Requirement already satisfied: tensorboard<2.9,>=2.8 in /usr/local/lib/python3.7/dist-packages (from tensorflow~=2.8.0->tf-models-official>=2.5.1->object-detection==0.1) (2.8.0)\n",
      "Requirement already satisfied: libclang>=9.0.1 in /usr/local/lib/python3.7/dist-packages (from tensorflow~=2.8.0->tf-models-official>=2.5.1->object-detection==0.1) (13.0.0)\n",
      "Requirement already satisfied: dm-tree~=0.1.1 in /usr/local/lib/python3.7/dist-packages (from tensorflow-model-optimization>=0.4.1->tf-models-official>=2.5.1->object-detection==0.1) (0.1.6)\n",
      "Collecting portalocker\n",
      "  Downloading portalocker-2.4.0-py2.py3-none-any.whl (16 kB)\n",
      "Collecting colorama\n",
      "  Downloading colorama-0.4.4-py2.py3-none-any.whl (16 kB)\n",
      "Requirement already satisfied: tabulate>=0.8.9 in /usr/local/lib/python3.7/dist-packages (from sacrebleu->tf-models-official>=2.5.1->object-detection==0.1) (0.8.9)\n",
      "Requirement already satisfied: regex in /usr/local/lib/python3.7/dist-packages (from sacrebleu->tf-models-official>=2.5.1->object-detection==0.1) (2019.12.20)\n",
      "Requirement already satisfied: scikit-learn>=0.21.3 in /usr/local/lib/python3.7/dist-packages (from seqeval->tf-models-official>=2.5.1->object-detection==0.1) (1.0.2)\n",
      "Requirement already satisfied: typeguard>=2.7 in /usr/local/lib/python3.7/dist-packages (from tensorflow-addons->tf-models-official>=2.5.1->object-detection==0.1) (2.7.1)\n",
      "Requirement already satisfied: importlib-resources in /usr/local/lib/python3.7/dist-packages (from tensorflow-datasets->tf-models-official>=2.5.1->object-detection==0.1) (5.4.0)\n",
      "Requirement already satisfied: tensorflow-metadata in /usr/local/lib/python3.7/dist-packages (from tensorflow-datasets->tf-models-official>=2.5.1->object-detection==0.1) (1.7.0)\n",
      "Requirement already satisfied: attrs>=18.1.0 in /usr/local/lib/python3.7/dist-packages (from tensorflow-datasets->tf-models-official>=2.5.1->object-detection==0.1) (21.4.0)\n",
      "Requirement already satisfied: future in /usr/local/lib/python3.7/dist-packages (from tensorflow-datasets->tf-models-official>=2.5.1->object-detection==0.1) (0.16.0)\n",
      "Requirement already satisfied: promise in /usr/local/lib/python3.7/dist-packages (from tensorflow-datasets->tf-models-official>=2.5.1->object-detection==0.1) (2.3)\n",
      "Requirement already satisfied: wheel<1.0,>=0.23.0 in /usr/local/lib/python3.7/dist-packages (from astunparse>=1.6.0->tensorflow~=2.8.0->tf-models-official>=2.5.1->object-detection==0.1) (0.37.1)\n",
      "Requirement already satisfied: packaging>=14.3 in /usr/local/lib/python3.7/dist-packages (from google-api-core<3dev,>=1.21.0->google-api-python-client>=1.6.7->tf-models-official>=2.5.1->object-detection==0.1) (21.3)\n",
      "Requirement already satisfied: googleapis-common-protos<2.0dev,>=1.6.0 in /usr/local/lib/python3.7/dist-packages (from google-api-core<3dev,>=1.21.0->google-api-python-client>=1.6.7->tf-models-official>=2.5.1->object-detection==0.1) (1.55.0)\n",
      "Requirement already satisfied: cachetools<5.0,>=2.0.0 in /usr/local/lib/python3.7/dist-packages (from google-auth<3dev,>=1.16.0->google-api-python-client>=1.6.7->tf-models-official>=2.5.1->object-detection==0.1) (4.2.4)\n",
      "Requirement already satisfied: cached-property in /usr/local/lib/python3.7/dist-packages (from h5py>=2.9.0->tensorflow~=2.8.0->tf-models-official>=2.5.1->object-detection==0.1) (1.5.2)\n",
      "Requirement already satisfied: joblib>=0.11 in /usr/local/lib/python3.7/dist-packages (from scikit-learn>=0.21.3->seqeval->tf-models-official>=2.5.1->object-detection==0.1) (1.1.0)\n",
      "Requirement already satisfied: threadpoolctl>=2.0.0 in /usr/local/lib/python3.7/dist-packages (from scikit-learn>=0.21.3->seqeval->tf-models-official>=2.5.1->object-detection==0.1) (3.1.0)\n",
      "Requirement already satisfied: werkzeug>=0.11.15 in /usr/local/lib/python3.7/dist-packages (from tensorboard<2.9,>=2.8->tensorflow~=2.8.0->tf-models-official>=2.5.1->object-detection==0.1) (1.0.1)\n",
      "Requirement already satisfied: tensorboard-data-server<0.7.0,>=0.6.0 in /usr/local/lib/python3.7/dist-packages (from tensorboard<2.9,>=2.8->tensorflow~=2.8.0->tf-models-official>=2.5.1->object-detection==0.1) (0.6.1)\n",
      "Requirement already satisfied: markdown>=2.6.8 in /usr/local/lib/python3.7/dist-packages (from tensorboard<2.9,>=2.8->tensorflow~=2.8.0->tf-models-official>=2.5.1->object-detection==0.1) (3.3.6)\n",
      "Requirement already satisfied: google-auth-oauthlib<0.5,>=0.4.1 in /usr/local/lib/python3.7/dist-packages (from tensorboard<2.9,>=2.8->tensorflow~=2.8.0->tf-models-official>=2.5.1->object-detection==0.1) (0.4.6)\n",
      "Requirement already satisfied: tensorboard-plugin-wit>=1.6.0 in /usr/local/lib/python3.7/dist-packages (from tensorboard<2.9,>=2.8->tensorflow~=2.8.0->tf-models-official>=2.5.1->object-detection==0.1) (1.8.1)\n",
      "Requirement already satisfied: zipp>=3.1.0 in /usr/local/lib/python3.7/dist-packages (from importlib-resources->tensorflow-datasets->tf-models-official>=2.5.1->object-detection==0.1) (3.7.0)\n",
      "Requirement already satisfied: text-unidecode>=1.3 in /usr/local/lib/python3.7/dist-packages (from python-slugify->kaggle>=1.3.9->tf-models-official>=2.5.1->object-detection==0.1) (1.3)\n",
      "Requirement already satisfied: requests-oauthlib>=0.7.0 in /usr/local/lib/python3.7/dist-packages (from google-auth-oauthlib<0.5,>=0.4.1->tensorboard<2.9,>=2.8->tensorflow~=2.8.0->tf-models-official>=2.5.1->object-detection==0.1) (1.3.1)\n",
      "Requirement already satisfied: importlib-metadata>=4.4 in /usr/local/lib/python3.7/dist-packages (from markdown>=2.6.8->tensorboard<2.9,>=2.8->tensorflow~=2.8.0->tf-models-official>=2.5.1->object-detection==0.1) (4.11.2)\n",
      "Requirement already satisfied: oauthlib>=3.0.0 in /usr/local/lib/python3.7/dist-packages (from requests-oauthlib>=0.7.0->google-auth-oauthlib<0.5,>=0.4.1->tensorboard<2.9,>=2.8->tensorflow~=2.8.0->tf-models-official>=2.5.1->object-detection==0.1) (3.2.0)\n",
      "Building wheels for collected packages: object-detection, avro-python3, dill, py-cpuinfo, seqeval\n",
      "  Building wheel for object-detection (setup.py) ... \u001b[?25l\u001b[?25hdone\n",
      "  Created wheel for object-detection: filename=object_detection-0.1-py3-none-any.whl size=21908001 sha256=853af1aacd884930d967b46e979c325f68342926e7e55717343c431fac39811a\n",
      "  Stored in directory: /tmp/pip-ephem-wheel-cache-s59ugipi/wheels/fa/a4/d2/e9a5057e414fd46c8e543d2706cd836d64e1fcd9eccceb2329\n",
      "  Building wheel for avro-python3 (setup.py) ... \u001b[?25l\u001b[?25hdone\n",
      "  Created wheel for avro-python3: filename=avro_python3-1.10.2-py3-none-any.whl size=44010 sha256=5987eec12bd87a0dc7c0918e3fc6382ecbd2d8a24ad0ef791d011c1bc0917482\n",
      "  Stored in directory: /root/.cache/pip/wheels/d6/e5/b1/6b151d9b535ee50aaa6ab27d145a0104b6df02e5636f0376da\n",
      "  Building wheel for dill (setup.py) ... \u001b[?25l\u001b[?25hdone\n",
      "  Created wheel for dill: filename=dill-0.3.1.1-py3-none-any.whl size=78544 sha256=c13f80c5198a7ba52cd690e461fd9225cf6bb7a2ad9a7a433273e6e965cfd663\n",
      "  Stored in directory: /root/.cache/pip/wheels/a4/61/fd/c57e374e580aa78a45ed78d5859b3a44436af17e22ca53284f\n",
      "  Building wheel for py-cpuinfo (setup.py) ... \u001b[?25l\u001b[?25hdone\n",
      "  Created wheel for py-cpuinfo: filename=py_cpuinfo-8.0.0-py3-none-any.whl size=22257 sha256=8ef27af6d1281b60acf702fac48438aa2c4ca8f2349f9269252d85cd2b5351c1\n",
      "  Stored in directory: /root/.cache/pip/wheels/d2/f1/1f/041add21dc9c4220157f1bd2bd6afe1f1a49524c3396b94401\n",
      "  Building wheel for seqeval (setup.py) ... \u001b[?25l\u001b[?25hdone\n",
      "  Created wheel for seqeval: filename=seqeval-1.2.2-py3-none-any.whl size=16180 sha256=d7173062c42a4822c2d78c85361963ae46ea3b9a5055efb3c9cbff9dde30eb04\n",
      "  Stored in directory: /root/.cache/pip/wheels/05/96/ee/7cac4e74f3b19e3158dce26a20a1c86b3533c43ec72a549fd7\n",
      "Successfully built object-detection avro-python3 dill py-cpuinfo seqeval\n",
      "Installing collected packages: sentencepiece, py-cpuinfo, tensorflow_io, tensorflow-addons, requests, pyyaml, pymongo, protobuf, portalocker, orjson, opencv-python-headless, fastavro, dill, colorama, cloudpickle, avro-python3, tf-slim, tensorflow-model-optimization, sacrebleu, proto-plus, hdfs, seqeval, lvis, apache-beam, tensorflow-text, tf-models-official, object-detection\n",
      "  Attempting uninstall: requests\n",
      "    Found existing installation: requests 2.23.0\n",
      "    Uninstalling requests-2.23.0:\n",
      "      Successfully uninstalled requests-2.23.0\n",
      "  Attempting uninstall: pyyaml\n",
      "    Found existing installation: PyYAML 3.13\n",
      "    Uninstalling PyYAML-3.13:\n",
      "      Successfully uninstalled PyYAML-3.13\n",
      "  Attempting uninstall: pymongo\n",
      "    Found existing installation: pymongo 4.0.1\n",
      "    Uninstalling pymongo-4.0.1:\n",
      "      Successfully uninstalled pymongo-4.0.1\n",
      "  Attempting uninstall: protobuf\n",
      "    Found existing installation: protobuf 3.17.3\n",
      "    Uninstalling protobuf-3.17.3:\n",
      "      Successfully uninstalled protobuf-3.17.3\n",
      "  Attempting uninstall: dill\n",
      "    Found existing installation: dill 0.3.4\n",
      "    Uninstalling dill-0.3.4:\n",
      "      Successfully uninstalled dill-0.3.4\n",
      "  Attempting uninstall: cloudpickle\n",
      "    Found existing installation: cloudpickle 1.3.0\n",
      "    Uninstalling cloudpickle-1.3.0:\n",
      "      Successfully uninstalled cloudpickle-1.3.0\n",
      "\u001b[31mERROR: pip's dependency resolver does not currently take into account all the packages that are installed. This behaviour is the source of the following dependency conflicts.\n",
      "multiprocess 0.70.12.2 requires dill>=0.3.4, but you have dill 0.3.1.1 which is incompatible.\n",
      "gym 0.17.3 requires cloudpickle<1.7.0,>=1.2.0, but you have cloudpickle 2.0.0 which is incompatible.\n",
      "google-colab 1.0.0 requires requests~=2.23.0, but you have requests 2.27.1 which is incompatible.\n",
      "datascience 0.10.6 requires folium==0.2.1, but you have folium 0.8.3 which is incompatible.\u001b[0m\u001b[31m\n",
      "\u001b[0mSuccessfully installed apache-beam-2.37.0 avro-python3-1.10.2 cloudpickle-2.0.0 colorama-0.4.4 dill-0.3.1.1 fastavro-1.4.10 hdfs-2.6.0 lvis-0.5.3 object-detection-0.1 opencv-python-headless-4.5.5.62 orjson-3.6.7 portalocker-2.4.0 proto-plus-1.20.3 protobuf-3.19.4 py-cpuinfo-8.0.0 pymongo-3.12.3 pyyaml-5.4.1 requests-2.27.1 sacrebleu-2.0.0 sentencepiece-0.1.96 seqeval-1.2.2 tensorflow-addons-0.16.1 tensorflow-model-optimization-0.7.1 tensorflow-text-2.8.1 tensorflow_io-0.24.0 tf-models-official-2.8.0 tf-slim-1.1.0\n",
      "\u001b[33mWARNING: Running pip as the 'root' user can result in broken permissions and conflicting behaviour with the system package manager. It is recommended to use a virtual environment instead: https://pip.pypa.io/warnings/venv\u001b[0m\u001b[33m\n",
      "\u001b[0m"
     ]
    }
   ],
   "source": [
    "!python -m pip install ."
   ]
  },
  {
   "cell_type": "markdown",
   "metadata": {},
   "source": [
    "## Object Detection API Install TEST"
   ]
  },
  {
   "cell_type": "code",
   "execution_count": 15,
   "metadata": {
    "colab": {
     "base_uri": "https://localhost:8080/"
    },
    "id": "euGOwHgUYeOe",
    "outputId": "f7839d74-79f3-4a4b-9c8c-ac8fcbbd42a7"
   },
   "outputs": [
    {
     "name": "stdout",
     "output_type": "stream",
     "text": [
      "2022-03-09 04:24:16.311774: E tensorflow/stream_executor/cuda/cuda_driver.cc:271] failed call to cuInit: CUDA_ERROR_NO_DEVICE: no CUDA-capable device is detected\n",
      "Running tests under Python 3.7.12: /usr/bin/python3\n",
      "[ RUN      ] ModelBuilderTF2Test.test_create_center_net_deepmac\n",
      "W0309 04:24:16.688465 140139105732480 model_builder.py:1100] Building experimental DeepMAC meta-arch. Some features may be omitted.\n",
      "INFO:tensorflow:time(__main__.ModelBuilderTF2Test.test_create_center_net_deepmac): 0.65s\n",
      "I0309 04:24:16.963117 140139105732480 test_util.py:2374] time(__main__.ModelBuilderTF2Test.test_create_center_net_deepmac): 0.65s\n",
      "[       OK ] ModelBuilderTF2Test.test_create_center_net_deepmac\n",
      "[ RUN      ] ModelBuilderTF2Test.test_create_center_net_model0 (customize_head_params=True)\n",
      "INFO:tensorflow:time(__main__.ModelBuilderTF2Test.test_create_center_net_model0 (customize_head_params=True)): 0.55s\n",
      "I0309 04:24:17.512065 140139105732480 test_util.py:2374] time(__main__.ModelBuilderTF2Test.test_create_center_net_model0 (customize_head_params=True)): 0.55s\n",
      "[       OK ] ModelBuilderTF2Test.test_create_center_net_model0 (customize_head_params=True)\n",
      "[ RUN      ] ModelBuilderTF2Test.test_create_center_net_model1 (customize_head_params=False)\n",
      "INFO:tensorflow:time(__main__.ModelBuilderTF2Test.test_create_center_net_model1 (customize_head_params=False)): 0.42s\n",
      "I0309 04:24:17.931247 140139105732480 test_util.py:2374] time(__main__.ModelBuilderTF2Test.test_create_center_net_model1 (customize_head_params=False)): 0.42s\n",
      "[       OK ] ModelBuilderTF2Test.test_create_center_net_model1 (customize_head_params=False)\n",
      "[ RUN      ] ModelBuilderTF2Test.test_create_center_net_model_from_keypoints\n",
      "INFO:tensorflow:time(__main__.ModelBuilderTF2Test.test_create_center_net_model_from_keypoints): 0.26s\n",
      "I0309 04:24:18.194963 140139105732480 test_util.py:2374] time(__main__.ModelBuilderTF2Test.test_create_center_net_model_from_keypoints): 0.26s\n",
      "[       OK ] ModelBuilderTF2Test.test_create_center_net_model_from_keypoints\n",
      "[ RUN      ] ModelBuilderTF2Test.test_create_center_net_model_mobilenet\n",
      "INFO:tensorflow:time(__main__.ModelBuilderTF2Test.test_create_center_net_model_mobilenet): 1.75s\n",
      "I0309 04:24:19.949299 140139105732480 test_util.py:2374] time(__main__.ModelBuilderTF2Test.test_create_center_net_model_mobilenet): 1.75s\n",
      "[       OK ] ModelBuilderTF2Test.test_create_center_net_model_mobilenet\n",
      "[ RUN      ] ModelBuilderTF2Test.test_create_experimental_model\n",
      "INFO:tensorflow:time(__main__.ModelBuilderTF2Test.test_create_experimental_model): 0.0s\n",
      "I0309 04:24:19.950475 140139105732480 test_util.py:2374] time(__main__.ModelBuilderTF2Test.test_create_experimental_model): 0.0s\n",
      "[       OK ] ModelBuilderTF2Test.test_create_experimental_model\n",
      "[ RUN      ] ModelBuilderTF2Test.test_create_faster_rcnn_from_config_with_crop_feature0 (True)\n",
      "INFO:tensorflow:time(__main__.ModelBuilderTF2Test.test_create_faster_rcnn_from_config_with_crop_feature0 (True)): 0.03s\n",
      "I0309 04:24:19.977636 140139105732480 test_util.py:2374] time(__main__.ModelBuilderTF2Test.test_create_faster_rcnn_from_config_with_crop_feature0 (True)): 0.03s\n",
      "[       OK ] ModelBuilderTF2Test.test_create_faster_rcnn_from_config_with_crop_feature0 (True)\n",
      "[ RUN      ] ModelBuilderTF2Test.test_create_faster_rcnn_from_config_with_crop_feature1 (False)\n",
      "INFO:tensorflow:time(__main__.ModelBuilderTF2Test.test_create_faster_rcnn_from_config_with_crop_feature1 (False)): 0.02s\n",
      "I0309 04:24:19.994154 140139105732480 test_util.py:2374] time(__main__.ModelBuilderTF2Test.test_create_faster_rcnn_from_config_with_crop_feature1 (False)): 0.02s\n",
      "[       OK ] ModelBuilderTF2Test.test_create_faster_rcnn_from_config_with_crop_feature1 (False)\n",
      "[ RUN      ] ModelBuilderTF2Test.test_create_faster_rcnn_model_from_config_with_example_miner\n",
      "INFO:tensorflow:time(__main__.ModelBuilderTF2Test.test_create_faster_rcnn_model_from_config_with_example_miner): 0.02s\n",
      "I0309 04:24:20.010650 140139105732480 test_util.py:2374] time(__main__.ModelBuilderTF2Test.test_create_faster_rcnn_model_from_config_with_example_miner): 0.02s\n",
      "[       OK ] ModelBuilderTF2Test.test_create_faster_rcnn_model_from_config_with_example_miner\n",
      "[ RUN      ] ModelBuilderTF2Test.test_create_faster_rcnn_models_from_config_faster_rcnn_with_matmul\n",
      "INFO:tensorflow:time(__main__.ModelBuilderTF2Test.test_create_faster_rcnn_models_from_config_faster_rcnn_with_matmul): 0.1s\n",
      "I0309 04:24:20.111428 140139105732480 test_util.py:2374] time(__main__.ModelBuilderTF2Test.test_create_faster_rcnn_models_from_config_faster_rcnn_with_matmul): 0.1s\n",
      "[       OK ] ModelBuilderTF2Test.test_create_faster_rcnn_models_from_config_faster_rcnn_with_matmul\n",
      "[ RUN      ] ModelBuilderTF2Test.test_create_faster_rcnn_models_from_config_faster_rcnn_without_matmul\n",
      "INFO:tensorflow:time(__main__.ModelBuilderTF2Test.test_create_faster_rcnn_models_from_config_faster_rcnn_without_matmul): 0.1s\n",
      "I0309 04:24:20.212566 140139105732480 test_util.py:2374] time(__main__.ModelBuilderTF2Test.test_create_faster_rcnn_models_from_config_faster_rcnn_without_matmul): 0.1s\n",
      "[       OK ] ModelBuilderTF2Test.test_create_faster_rcnn_models_from_config_faster_rcnn_without_matmul\n",
      "[ RUN      ] ModelBuilderTF2Test.test_create_faster_rcnn_models_from_config_mask_rcnn_with_matmul\n",
      "INFO:tensorflow:time(__main__.ModelBuilderTF2Test.test_create_faster_rcnn_models_from_config_mask_rcnn_with_matmul): 0.11s\n",
      "I0309 04:24:20.320969 140139105732480 test_util.py:2374] time(__main__.ModelBuilderTF2Test.test_create_faster_rcnn_models_from_config_mask_rcnn_with_matmul): 0.11s\n",
      "[       OK ] ModelBuilderTF2Test.test_create_faster_rcnn_models_from_config_mask_rcnn_with_matmul\n",
      "[ RUN      ] ModelBuilderTF2Test.test_create_faster_rcnn_models_from_config_mask_rcnn_without_matmul\n",
      "INFO:tensorflow:time(__main__.ModelBuilderTF2Test.test_create_faster_rcnn_models_from_config_mask_rcnn_without_matmul): 0.1s\n",
      "I0309 04:24:20.422216 140139105732480 test_util.py:2374] time(__main__.ModelBuilderTF2Test.test_create_faster_rcnn_models_from_config_mask_rcnn_without_matmul): 0.1s\n",
      "[       OK ] ModelBuilderTF2Test.test_create_faster_rcnn_models_from_config_mask_rcnn_without_matmul\n",
      "[ RUN      ] ModelBuilderTF2Test.test_create_rfcn_model_from_config\n",
      "INFO:tensorflow:time(__main__.ModelBuilderTF2Test.test_create_rfcn_model_from_config): 0.11s\n",
      "I0309 04:24:20.530536 140139105732480 test_util.py:2374] time(__main__.ModelBuilderTF2Test.test_create_rfcn_model_from_config): 0.11s\n",
      "[       OK ] ModelBuilderTF2Test.test_create_rfcn_model_from_config\n",
      "[ RUN      ] ModelBuilderTF2Test.test_create_ssd_fpn_model_from_config\n",
      "INFO:tensorflow:time(__main__.ModelBuilderTF2Test.test_create_ssd_fpn_model_from_config): 0.03s\n",
      "I0309 04:24:20.561626 140139105732480 test_util.py:2374] time(__main__.ModelBuilderTF2Test.test_create_ssd_fpn_model_from_config): 0.03s\n",
      "[       OK ] ModelBuilderTF2Test.test_create_ssd_fpn_model_from_config\n",
      "[ RUN      ] ModelBuilderTF2Test.test_create_ssd_models_from_config\n",
      "I0309 04:24:20.760965 140139105732480 ssd_efficientnet_bifpn_feature_extractor.py:146] EfficientDet EfficientNet backbone version: efficientnet-b0\n",
      "I0309 04:24:20.761213 140139105732480 ssd_efficientnet_bifpn_feature_extractor.py:147] EfficientDet BiFPN num filters: 64\n",
      "I0309 04:24:20.761304 140139105732480 ssd_efficientnet_bifpn_feature_extractor.py:149] EfficientDet BiFPN num iterations: 3\n",
      "I0309 04:24:20.764523 140139105732480 efficientnet_model.py:144] round_filter input=32 output=32\n",
      "I0309 04:24:20.944324 140139105732480 efficientnet_model.py:144] round_filter input=32 output=32\n",
      "I0309 04:24:20.944512 140139105732480 efficientnet_model.py:144] round_filter input=16 output=16\n",
      "I0309 04:24:21.005490 140139105732480 efficientnet_model.py:144] round_filter input=16 output=16\n",
      "I0309 04:24:21.005701 140139105732480 efficientnet_model.py:144] round_filter input=24 output=24\n",
      "I0309 04:24:21.163022 140139105732480 efficientnet_model.py:144] round_filter input=24 output=24\n",
      "I0309 04:24:21.163199 140139105732480 efficientnet_model.py:144] round_filter input=40 output=40\n",
      "I0309 04:24:21.319277 140139105732480 efficientnet_model.py:144] round_filter input=40 output=40\n",
      "I0309 04:24:21.319472 140139105732480 efficientnet_model.py:144] round_filter input=80 output=80\n",
      "I0309 04:24:21.569025 140139105732480 efficientnet_model.py:144] round_filter input=80 output=80\n",
      "I0309 04:24:21.569205 140139105732480 efficientnet_model.py:144] round_filter input=112 output=112\n",
      "I0309 04:24:21.819479 140139105732480 efficientnet_model.py:144] round_filter input=112 output=112\n",
      "I0309 04:24:21.819675 140139105732480 efficientnet_model.py:144] round_filter input=192 output=192\n",
      "I0309 04:24:22.139222 140139105732480 efficientnet_model.py:144] round_filter input=192 output=192\n",
      "I0309 04:24:22.139417 140139105732480 efficientnet_model.py:144] round_filter input=320 output=320\n",
      "I0309 04:24:22.224909 140139105732480 efficientnet_model.py:144] round_filter input=1280 output=1280\n",
      "I0309 04:24:22.260304 140139105732480 efficientnet_model.py:454] Building model efficientnet with params ModelConfig(width_coefficient=1.0, depth_coefficient=1.0, resolution=224, dropout_rate=0.2, blocks=(BlockConfig(input_filters=32, output_filters=16, kernel_size=3, num_repeat=1, expand_ratio=1, strides=(1, 1), se_ratio=0.25, id_skip=True, fused_conv=False, conv_type='depthwise'), BlockConfig(input_filters=16, output_filters=24, kernel_size=3, num_repeat=2, expand_ratio=6, strides=(2, 2), se_ratio=0.25, id_skip=True, fused_conv=False, conv_type='depthwise'), BlockConfig(input_filters=24, output_filters=40, kernel_size=5, num_repeat=2, expand_ratio=6, strides=(2, 2), se_ratio=0.25, id_skip=True, fused_conv=False, conv_type='depthwise'), BlockConfig(input_filters=40, output_filters=80, kernel_size=3, num_repeat=3, expand_ratio=6, strides=(2, 2), se_ratio=0.25, id_skip=True, fused_conv=False, conv_type='depthwise'), BlockConfig(input_filters=80, output_filters=112, kernel_size=5, num_repeat=3, expand_ratio=6, strides=(1, 1), se_ratio=0.25, id_skip=True, fused_conv=False, conv_type='depthwise'), BlockConfig(input_filters=112, output_filters=192, kernel_size=5, num_repeat=4, expand_ratio=6, strides=(2, 2), se_ratio=0.25, id_skip=True, fused_conv=False, conv_type='depthwise'), BlockConfig(input_filters=192, output_filters=320, kernel_size=3, num_repeat=1, expand_ratio=6, strides=(1, 1), se_ratio=0.25, id_skip=True, fused_conv=False, conv_type='depthwise')), stem_base_filters=32, top_base_filters=1280, activation='simple_swish', batch_norm='default', bn_momentum=0.99, bn_epsilon=0.001, weight_decay=5e-06, drop_connect_rate=0.2, depth_divisor=8, min_depth=None, use_se=True, input_channels=3, num_classes=1000, model_name='efficientnet', rescale_input=False, data_format='channels_last', dtype='float32')\n",
      "I0309 04:24:22.316708 140139105732480 ssd_efficientnet_bifpn_feature_extractor.py:146] EfficientDet EfficientNet backbone version: efficientnet-b1\n",
      "I0309 04:24:22.316921 140139105732480 ssd_efficientnet_bifpn_feature_extractor.py:147] EfficientDet BiFPN num filters: 88\n",
      "I0309 04:24:22.317034 140139105732480 ssd_efficientnet_bifpn_feature_extractor.py:149] EfficientDet BiFPN num iterations: 4\n",
      "I0309 04:24:22.318890 140139105732480 efficientnet_model.py:144] round_filter input=32 output=32\n",
      "I0309 04:24:22.336693 140139105732480 efficientnet_model.py:144] round_filter input=32 output=32\n",
      "I0309 04:24:22.336897 140139105732480 efficientnet_model.py:144] round_filter input=16 output=16\n",
      "I0309 04:24:22.465846 140139105732480 efficientnet_model.py:144] round_filter input=16 output=16\n",
      "I0309 04:24:22.466057 140139105732480 efficientnet_model.py:144] round_filter input=24 output=24\n",
      "I0309 04:24:22.688436 140139105732480 efficientnet_model.py:144] round_filter input=24 output=24\n",
      "I0309 04:24:22.688627 140139105732480 efficientnet_model.py:144] round_filter input=40 output=40\n",
      "I0309 04:24:22.923265 140139105732480 efficientnet_model.py:144] round_filter input=40 output=40\n",
      "I0309 04:24:22.923442 140139105732480 efficientnet_model.py:144] round_filter input=80 output=80\n",
      "I0309 04:24:23.244604 140139105732480 efficientnet_model.py:144] round_filter input=80 output=80\n",
      "I0309 04:24:23.244800 140139105732480 efficientnet_model.py:144] round_filter input=112 output=112\n",
      "I0309 04:24:23.573215 140139105732480 efficientnet_model.py:144] round_filter input=112 output=112\n",
      "I0309 04:24:23.573390 140139105732480 efficientnet_model.py:144] round_filter input=192 output=192\n",
      "I0309 04:24:24.007543 140139105732480 efficientnet_model.py:144] round_filter input=192 output=192\n",
      "I0309 04:24:24.007729 140139105732480 efficientnet_model.py:144] round_filter input=320 output=320\n",
      "I0309 04:24:24.183884 140139105732480 efficientnet_model.py:144] round_filter input=1280 output=1280\n",
      "I0309 04:24:24.224034 140139105732480 efficientnet_model.py:454] Building model efficientnet with params ModelConfig(width_coefficient=1.0, depth_coefficient=1.1, resolution=240, dropout_rate=0.2, blocks=(BlockConfig(input_filters=32, output_filters=16, kernel_size=3, num_repeat=1, expand_ratio=1, strides=(1, 1), se_ratio=0.25, id_skip=True, fused_conv=False, conv_type='depthwise'), BlockConfig(input_filters=16, output_filters=24, kernel_size=3, num_repeat=2, expand_ratio=6, strides=(2, 2), se_ratio=0.25, id_skip=True, fused_conv=False, conv_type='depthwise'), BlockConfig(input_filters=24, output_filters=40, kernel_size=5, num_repeat=2, expand_ratio=6, strides=(2, 2), se_ratio=0.25, id_skip=True, fused_conv=False, conv_type='depthwise'), BlockConfig(input_filters=40, output_filters=80, kernel_size=3, num_repeat=3, expand_ratio=6, strides=(2, 2), se_ratio=0.25, id_skip=True, fused_conv=False, conv_type='depthwise'), BlockConfig(input_filters=80, output_filters=112, kernel_size=5, num_repeat=3, expand_ratio=6, strides=(1, 1), se_ratio=0.25, id_skip=True, fused_conv=False, conv_type='depthwise'), BlockConfig(input_filters=112, output_filters=192, kernel_size=5, num_repeat=4, expand_ratio=6, strides=(2, 2), se_ratio=0.25, id_skip=True, fused_conv=False, conv_type='depthwise'), BlockConfig(input_filters=192, output_filters=320, kernel_size=3, num_repeat=1, expand_ratio=6, strides=(1, 1), se_ratio=0.25, id_skip=True, fused_conv=False, conv_type='depthwise')), stem_base_filters=32, top_base_filters=1280, activation='simple_swish', batch_norm='default', bn_momentum=0.99, bn_epsilon=0.001, weight_decay=5e-06, drop_connect_rate=0.2, depth_divisor=8, min_depth=None, use_se=True, input_channels=3, num_classes=1000, model_name='efficientnet', rescale_input=False, data_format='channels_last', dtype='float32')\n",
      "I0309 04:24:24.297505 140139105732480 ssd_efficientnet_bifpn_feature_extractor.py:146] EfficientDet EfficientNet backbone version: efficientnet-b2\n",
      "I0309 04:24:24.297703 140139105732480 ssd_efficientnet_bifpn_feature_extractor.py:147] EfficientDet BiFPN num filters: 112\n",
      "I0309 04:24:24.297769 140139105732480 ssd_efficientnet_bifpn_feature_extractor.py:149] EfficientDet BiFPN num iterations: 5\n",
      "I0309 04:24:24.299671 140139105732480 efficientnet_model.py:144] round_filter input=32 output=32\n",
      "I0309 04:24:24.317139 140139105732480 efficientnet_model.py:144] round_filter input=32 output=32\n",
      "I0309 04:24:24.317323 140139105732480 efficientnet_model.py:144] round_filter input=16 output=16\n",
      "I0309 04:24:24.440285 140139105732480 efficientnet_model.py:144] round_filter input=16 output=16\n",
      "I0309 04:24:24.440463 140139105732480 efficientnet_model.py:144] round_filter input=24 output=24\n",
      "I0309 04:24:24.680862 140139105732480 efficientnet_model.py:144] round_filter input=24 output=24\n",
      "I0309 04:24:24.681058 140139105732480 efficientnet_model.py:144] round_filter input=40 output=48\n",
      "I0309 04:24:24.931827 140139105732480 efficientnet_model.py:144] round_filter input=40 output=48\n",
      "I0309 04:24:24.932020 140139105732480 efficientnet_model.py:144] round_filter input=80 output=88\n",
      "I0309 04:24:25.453763 140139105732480 efficientnet_model.py:144] round_filter input=80 output=88\n",
      "I0309 04:24:25.453940 140139105732480 efficientnet_model.py:144] round_filter input=112 output=120\n",
      "I0309 04:24:25.784840 140139105732480 efficientnet_model.py:144] round_filter input=112 output=120\n",
      "I0309 04:24:25.785047 140139105732480 efficientnet_model.py:144] round_filter input=192 output=208\n",
      "I0309 04:24:26.204619 140139105732480 efficientnet_model.py:144] round_filter input=192 output=208\n",
      "I0309 04:24:26.204813 140139105732480 efficientnet_model.py:144] round_filter input=320 output=352\n",
      "I0309 04:24:26.369062 140139105732480 efficientnet_model.py:144] round_filter input=1280 output=1408\n",
      "I0309 04:24:26.405794 140139105732480 efficientnet_model.py:454] Building model efficientnet with params ModelConfig(width_coefficient=1.1, depth_coefficient=1.2, resolution=260, dropout_rate=0.3, blocks=(BlockConfig(input_filters=32, output_filters=16, kernel_size=3, num_repeat=1, expand_ratio=1, strides=(1, 1), se_ratio=0.25, id_skip=True, fused_conv=False, conv_type='depthwise'), BlockConfig(input_filters=16, output_filters=24, kernel_size=3, num_repeat=2, expand_ratio=6, strides=(2, 2), se_ratio=0.25, id_skip=True, fused_conv=False, conv_type='depthwise'), BlockConfig(input_filters=24, output_filters=40, kernel_size=5, num_repeat=2, expand_ratio=6, strides=(2, 2), se_ratio=0.25, id_skip=True, fused_conv=False, conv_type='depthwise'), BlockConfig(input_filters=40, output_filters=80, kernel_size=3, num_repeat=3, expand_ratio=6, strides=(2, 2), se_ratio=0.25, id_skip=True, fused_conv=False, conv_type='depthwise'), BlockConfig(input_filters=80, output_filters=112, kernel_size=5, num_repeat=3, expand_ratio=6, strides=(1, 1), se_ratio=0.25, id_skip=True, fused_conv=False, conv_type='depthwise'), BlockConfig(input_filters=112, output_filters=192, kernel_size=5, num_repeat=4, expand_ratio=6, strides=(2, 2), se_ratio=0.25, id_skip=True, fused_conv=False, conv_type='depthwise'), BlockConfig(input_filters=192, output_filters=320, kernel_size=3, num_repeat=1, expand_ratio=6, strides=(1, 1), se_ratio=0.25, id_skip=True, fused_conv=False, conv_type='depthwise')), stem_base_filters=32, top_base_filters=1280, activation='simple_swish', batch_norm='default', bn_momentum=0.99, bn_epsilon=0.001, weight_decay=5e-06, drop_connect_rate=0.2, depth_divisor=8, min_depth=None, use_se=True, input_channels=3, num_classes=1000, model_name='efficientnet', rescale_input=False, data_format='channels_last', dtype='float32')\n",
      "I0309 04:24:26.473429 140139105732480 ssd_efficientnet_bifpn_feature_extractor.py:146] EfficientDet EfficientNet backbone version: efficientnet-b3\n",
      "I0309 04:24:26.473626 140139105732480 ssd_efficientnet_bifpn_feature_extractor.py:147] EfficientDet BiFPN num filters: 160\n",
      "I0309 04:24:26.473686 140139105732480 ssd_efficientnet_bifpn_feature_extractor.py:149] EfficientDet BiFPN num iterations: 6\n",
      "I0309 04:24:26.475643 140139105732480 efficientnet_model.py:144] round_filter input=32 output=40\n",
      "I0309 04:24:26.493091 140139105732480 efficientnet_model.py:144] round_filter input=32 output=40\n",
      "I0309 04:24:26.493284 140139105732480 efficientnet_model.py:144] round_filter input=16 output=24\n",
      "I0309 04:24:26.617178 140139105732480 efficientnet_model.py:144] round_filter input=16 output=24\n",
      "I0309 04:24:26.617363 140139105732480 efficientnet_model.py:144] round_filter input=24 output=32\n",
      "I0309 04:24:26.868715 140139105732480 efficientnet_model.py:144] round_filter input=24 output=32\n",
      "I0309 04:24:26.868903 140139105732480 efficientnet_model.py:144] round_filter input=40 output=48\n",
      "I0309 04:24:27.112135 140139105732480 efficientnet_model.py:144] round_filter input=40 output=48\n",
      "I0309 04:24:27.112319 140139105732480 efficientnet_model.py:144] round_filter input=80 output=96\n",
      "I0309 04:24:27.532039 140139105732480 efficientnet_model.py:144] round_filter input=80 output=96\n",
      "I0309 04:24:27.532259 140139105732480 efficientnet_model.py:144] round_filter input=112 output=136\n",
      "I0309 04:24:27.931065 140139105732480 efficientnet_model.py:144] round_filter input=112 output=136\n",
      "I0309 04:24:27.931265 140139105732480 efficientnet_model.py:144] round_filter input=192 output=232\n",
      "I0309 04:24:28.449244 140139105732480 efficientnet_model.py:144] round_filter input=192 output=232\n",
      "I0309 04:24:28.449427 140139105732480 efficientnet_model.py:144] round_filter input=320 output=384\n",
      "I0309 04:24:28.620821 140139105732480 efficientnet_model.py:144] round_filter input=1280 output=1536\n",
      "I0309 04:24:28.657155 140139105732480 efficientnet_model.py:454] Building model efficientnet with params ModelConfig(width_coefficient=1.2, depth_coefficient=1.4, resolution=300, dropout_rate=0.3, blocks=(BlockConfig(input_filters=32, output_filters=16, kernel_size=3, num_repeat=1, expand_ratio=1, strides=(1, 1), se_ratio=0.25, id_skip=True, fused_conv=False, conv_type='depthwise'), BlockConfig(input_filters=16, output_filters=24, kernel_size=3, num_repeat=2, expand_ratio=6, strides=(2, 2), se_ratio=0.25, id_skip=True, fused_conv=False, conv_type='depthwise'), BlockConfig(input_filters=24, output_filters=40, kernel_size=5, num_repeat=2, expand_ratio=6, strides=(2, 2), se_ratio=0.25, id_skip=True, fused_conv=False, conv_type='depthwise'), BlockConfig(input_filters=40, output_filters=80, kernel_size=3, num_repeat=3, expand_ratio=6, strides=(2, 2), se_ratio=0.25, id_skip=True, fused_conv=False, conv_type='depthwise'), BlockConfig(input_filters=80, output_filters=112, kernel_size=5, num_repeat=3, expand_ratio=6, strides=(1, 1), se_ratio=0.25, id_skip=True, fused_conv=False, conv_type='depthwise'), BlockConfig(input_filters=112, output_filters=192, kernel_size=5, num_repeat=4, expand_ratio=6, strides=(2, 2), se_ratio=0.25, id_skip=True, fused_conv=False, conv_type='depthwise'), BlockConfig(input_filters=192, output_filters=320, kernel_size=3, num_repeat=1, expand_ratio=6, strides=(1, 1), se_ratio=0.25, id_skip=True, fused_conv=False, conv_type='depthwise')), stem_base_filters=32, top_base_filters=1280, activation='simple_swish', batch_norm='default', bn_momentum=0.99, bn_epsilon=0.001, weight_decay=5e-06, drop_connect_rate=0.2, depth_divisor=8, min_depth=None, use_se=True, input_channels=3, num_classes=1000, model_name='efficientnet', rescale_input=False, data_format='channels_last', dtype='float32')\n",
      "I0309 04:24:28.730936 140139105732480 ssd_efficientnet_bifpn_feature_extractor.py:146] EfficientDet EfficientNet backbone version: efficientnet-b4\n",
      "I0309 04:24:28.731122 140139105732480 ssd_efficientnet_bifpn_feature_extractor.py:147] EfficientDet BiFPN num filters: 224\n",
      "I0309 04:24:28.731189 140139105732480 ssd_efficientnet_bifpn_feature_extractor.py:149] EfficientDet BiFPN num iterations: 7\n",
      "I0309 04:24:28.733008 140139105732480 efficientnet_model.py:144] round_filter input=32 output=48\n",
      "I0309 04:24:28.748966 140139105732480 efficientnet_model.py:144] round_filter input=32 output=48\n",
      "I0309 04:24:28.749116 140139105732480 efficientnet_model.py:144] round_filter input=16 output=24\n",
      "I0309 04:24:28.869715 140139105732480 efficientnet_model.py:144] round_filter input=16 output=24\n",
      "I0309 04:24:28.869894 140139105732480 efficientnet_model.py:144] round_filter input=24 output=32\n",
      "I0309 04:24:29.199002 140139105732480 efficientnet_model.py:144] round_filter input=24 output=32\n",
      "I0309 04:24:29.199201 140139105732480 efficientnet_model.py:144] round_filter input=40 output=56\n",
      "I0309 04:24:29.515699 140139105732480 efficientnet_model.py:144] round_filter input=40 output=56\n",
      "I0309 04:24:29.515891 140139105732480 efficientnet_model.py:144] round_filter input=80 output=112\n",
      "I0309 04:24:30.021247 140139105732480 efficientnet_model.py:144] round_filter input=80 output=112\n",
      "I0309 04:24:30.021433 140139105732480 efficientnet_model.py:144] round_filter input=112 output=160\n",
      "I0309 04:24:30.768337 140139105732480 efficientnet_model.py:144] round_filter input=112 output=160\n",
      "I0309 04:24:30.768536 140139105732480 efficientnet_model.py:144] round_filter input=192 output=272\n",
      "I0309 04:24:31.438597 140139105732480 efficientnet_model.py:144] round_filter input=192 output=272\n",
      "I0309 04:24:31.438804 140139105732480 efficientnet_model.py:144] round_filter input=320 output=448\n",
      "I0309 04:24:31.609313 140139105732480 efficientnet_model.py:144] round_filter input=1280 output=1792\n",
      "I0309 04:24:31.647058 140139105732480 efficientnet_model.py:454] Building model efficientnet with params ModelConfig(width_coefficient=1.4, depth_coefficient=1.8, resolution=380, dropout_rate=0.4, blocks=(BlockConfig(input_filters=32, output_filters=16, kernel_size=3, num_repeat=1, expand_ratio=1, strides=(1, 1), se_ratio=0.25, id_skip=True, fused_conv=False, conv_type='depthwise'), BlockConfig(input_filters=16, output_filters=24, kernel_size=3, num_repeat=2, expand_ratio=6, strides=(2, 2), se_ratio=0.25, id_skip=True, fused_conv=False, conv_type='depthwise'), BlockConfig(input_filters=24, output_filters=40, kernel_size=5, num_repeat=2, expand_ratio=6, strides=(2, 2), se_ratio=0.25, id_skip=True, fused_conv=False, conv_type='depthwise'), BlockConfig(input_filters=40, output_filters=80, kernel_size=3, num_repeat=3, expand_ratio=6, strides=(2, 2), se_ratio=0.25, id_skip=True, fused_conv=False, conv_type='depthwise'), BlockConfig(input_filters=80, output_filters=112, kernel_size=5, num_repeat=3, expand_ratio=6, strides=(1, 1), se_ratio=0.25, id_skip=True, fused_conv=False, conv_type='depthwise'), BlockConfig(input_filters=112, output_filters=192, kernel_size=5, num_repeat=4, expand_ratio=6, strides=(2, 2), se_ratio=0.25, id_skip=True, fused_conv=False, conv_type='depthwise'), BlockConfig(input_filters=192, output_filters=320, kernel_size=3, num_repeat=1, expand_ratio=6, strides=(1, 1), se_ratio=0.25, id_skip=True, fused_conv=False, conv_type='depthwise')), stem_base_filters=32, top_base_filters=1280, activation='simple_swish', batch_norm='default', bn_momentum=0.99, bn_epsilon=0.001, weight_decay=5e-06, drop_connect_rate=0.2, depth_divisor=8, min_depth=None, use_se=True, input_channels=3, num_classes=1000, model_name='efficientnet', rescale_input=False, data_format='channels_last', dtype='float32')\n",
      "I0309 04:24:31.730711 140139105732480 ssd_efficientnet_bifpn_feature_extractor.py:146] EfficientDet EfficientNet backbone version: efficientnet-b5\n",
      "I0309 04:24:31.730904 140139105732480 ssd_efficientnet_bifpn_feature_extractor.py:147] EfficientDet BiFPN num filters: 288\n",
      "I0309 04:24:31.730963 140139105732480 ssd_efficientnet_bifpn_feature_extractor.py:149] EfficientDet BiFPN num iterations: 7\n",
      "I0309 04:24:31.732842 140139105732480 efficientnet_model.py:144] round_filter input=32 output=48\n",
      "I0309 04:24:31.750366 140139105732480 efficientnet_model.py:144] round_filter input=32 output=48\n",
      "I0309 04:24:31.750543 140139105732480 efficientnet_model.py:144] round_filter input=16 output=24\n",
      "I0309 04:24:31.935135 140139105732480 efficientnet_model.py:144] round_filter input=16 output=24\n",
      "I0309 04:24:31.935307 140139105732480 efficientnet_model.py:144] round_filter input=24 output=40\n",
      "I0309 04:24:32.336076 140139105732480 efficientnet_model.py:144] round_filter input=24 output=40\n",
      "I0309 04:24:32.336254 140139105732480 efficientnet_model.py:144] round_filter input=40 output=64\n",
      "I0309 04:24:32.727942 140139105732480 efficientnet_model.py:144] round_filter input=40 output=64\n",
      "I0309 04:24:32.728156 140139105732480 efficientnet_model.py:144] round_filter input=80 output=128\n",
      "I0309 04:24:33.302870 140139105732480 efficientnet_model.py:144] round_filter input=80 output=128\n",
      "I0309 04:24:33.303066 140139105732480 efficientnet_model.py:144] round_filter input=112 output=176\n",
      "I0309 04:24:33.902306 140139105732480 efficientnet_model.py:144] round_filter input=112 output=176\n",
      "I0309 04:24:33.902508 140139105732480 efficientnet_model.py:144] round_filter input=192 output=304\n",
      "I0309 04:24:34.697196 140139105732480 efficientnet_model.py:144] round_filter input=192 output=304\n",
      "I0309 04:24:34.697388 140139105732480 efficientnet_model.py:144] round_filter input=320 output=512\n",
      "I0309 04:24:34.987215 140139105732480 efficientnet_model.py:144] round_filter input=1280 output=2048\n",
      "I0309 04:24:35.025014 140139105732480 efficientnet_model.py:454] Building model efficientnet with params ModelConfig(width_coefficient=1.6, depth_coefficient=2.2, resolution=456, dropout_rate=0.4, blocks=(BlockConfig(input_filters=32, output_filters=16, kernel_size=3, num_repeat=1, expand_ratio=1, strides=(1, 1), se_ratio=0.25, id_skip=True, fused_conv=False, conv_type='depthwise'), BlockConfig(input_filters=16, output_filters=24, kernel_size=3, num_repeat=2, expand_ratio=6, strides=(2, 2), se_ratio=0.25, id_skip=True, fused_conv=False, conv_type='depthwise'), BlockConfig(input_filters=24, output_filters=40, kernel_size=5, num_repeat=2, expand_ratio=6, strides=(2, 2), se_ratio=0.25, id_skip=True, fused_conv=False, conv_type='depthwise'), BlockConfig(input_filters=40, output_filters=80, kernel_size=3, num_repeat=3, expand_ratio=6, strides=(2, 2), se_ratio=0.25, id_skip=True, fused_conv=False, conv_type='depthwise'), BlockConfig(input_filters=80, output_filters=112, kernel_size=5, num_repeat=3, expand_ratio=6, strides=(1, 1), se_ratio=0.25, id_skip=True, fused_conv=False, conv_type='depthwise'), BlockConfig(input_filters=112, output_filters=192, kernel_size=5, num_repeat=4, expand_ratio=6, strides=(2, 2), se_ratio=0.25, id_skip=True, fused_conv=False, conv_type='depthwise'), BlockConfig(input_filters=192, output_filters=320, kernel_size=3, num_repeat=1, expand_ratio=6, strides=(1, 1), se_ratio=0.25, id_skip=True, fused_conv=False, conv_type='depthwise')), stem_base_filters=32, top_base_filters=1280, activation='simple_swish', batch_norm='default', bn_momentum=0.99, bn_epsilon=0.001, weight_decay=5e-06, drop_connect_rate=0.2, depth_divisor=8, min_depth=None, use_se=True, input_channels=3, num_classes=1000, model_name='efficientnet', rescale_input=False, data_format='channels_last', dtype='float32')\n",
      "I0309 04:24:35.123379 140139105732480 ssd_efficientnet_bifpn_feature_extractor.py:146] EfficientDet EfficientNet backbone version: efficientnet-b6\n",
      "I0309 04:24:35.123570 140139105732480 ssd_efficientnet_bifpn_feature_extractor.py:147] EfficientDet BiFPN num filters: 384\n",
      "I0309 04:24:35.123649 140139105732480 ssd_efficientnet_bifpn_feature_extractor.py:149] EfficientDet BiFPN num iterations: 8\n",
      "I0309 04:24:35.125468 140139105732480 efficientnet_model.py:144] round_filter input=32 output=56\n",
      "I0309 04:24:35.141559 140139105732480 efficientnet_model.py:144] round_filter input=32 output=56\n",
      "I0309 04:24:35.141721 140139105732480 efficientnet_model.py:144] round_filter input=16 output=32\n",
      "I0309 04:24:35.333701 140139105732480 efficientnet_model.py:144] round_filter input=16 output=32\n",
      "I0309 04:24:35.333872 140139105732480 efficientnet_model.py:144] round_filter input=24 output=40\n",
      "I0309 04:24:35.829928 140139105732480 efficientnet_model.py:144] round_filter input=24 output=40\n",
      "I0309 04:24:35.830139 140139105732480 efficientnet_model.py:144] round_filter input=40 output=72\n",
      "I0309 04:24:36.613773 140139105732480 efficientnet_model.py:144] round_filter input=40 output=72\n",
      "I0309 04:24:36.613954 140139105732480 efficientnet_model.py:144] round_filter input=80 output=144\n",
      "I0309 04:24:37.271295 140139105732480 efficientnet_model.py:144] round_filter input=80 output=144\n",
      "I0309 04:24:37.271497 140139105732480 efficientnet_model.py:144] round_filter input=112 output=200\n",
      "I0309 04:24:37.943247 140139105732480 efficientnet_model.py:144] round_filter input=112 output=200\n",
      "I0309 04:24:37.943429 140139105732480 efficientnet_model.py:144] round_filter input=192 output=344\n",
      "I0309 04:24:38.883497 140139105732480 efficientnet_model.py:144] round_filter input=192 output=344\n",
      "I0309 04:24:38.883698 140139105732480 efficientnet_model.py:144] round_filter input=320 output=576\n",
      "I0309 04:24:39.157931 140139105732480 efficientnet_model.py:144] round_filter input=1280 output=2304\n",
      "I0309 04:24:39.194510 140139105732480 efficientnet_model.py:454] Building model efficientnet with params ModelConfig(width_coefficient=1.8, depth_coefficient=2.6, resolution=528, dropout_rate=0.5, blocks=(BlockConfig(input_filters=32, output_filters=16, kernel_size=3, num_repeat=1, expand_ratio=1, strides=(1, 1), se_ratio=0.25, id_skip=True, fused_conv=False, conv_type='depthwise'), BlockConfig(input_filters=16, output_filters=24, kernel_size=3, num_repeat=2, expand_ratio=6, strides=(2, 2), se_ratio=0.25, id_skip=True, fused_conv=False, conv_type='depthwise'), BlockConfig(input_filters=24, output_filters=40, kernel_size=5, num_repeat=2, expand_ratio=6, strides=(2, 2), se_ratio=0.25, id_skip=True, fused_conv=False, conv_type='depthwise'), BlockConfig(input_filters=40, output_filters=80, kernel_size=3, num_repeat=3, expand_ratio=6, strides=(2, 2), se_ratio=0.25, id_skip=True, fused_conv=False, conv_type='depthwise'), BlockConfig(input_filters=80, output_filters=112, kernel_size=5, num_repeat=3, expand_ratio=6, strides=(1, 1), se_ratio=0.25, id_skip=True, fused_conv=False, conv_type='depthwise'), BlockConfig(input_filters=112, output_filters=192, kernel_size=5, num_repeat=4, expand_ratio=6, strides=(2, 2), se_ratio=0.25, id_skip=True, fused_conv=False, conv_type='depthwise'), BlockConfig(input_filters=192, output_filters=320, kernel_size=3, num_repeat=1, expand_ratio=6, strides=(1, 1), se_ratio=0.25, id_skip=True, fused_conv=False, conv_type='depthwise')), stem_base_filters=32, top_base_filters=1280, activation='simple_swish', batch_norm='default', bn_momentum=0.99, bn_epsilon=0.001, weight_decay=5e-06, drop_connect_rate=0.2, depth_divisor=8, min_depth=None, use_se=True, input_channels=3, num_classes=1000, model_name='efficientnet', rescale_input=False, data_format='channels_last', dtype='float32')\n",
      "I0309 04:24:39.300762 140139105732480 ssd_efficientnet_bifpn_feature_extractor.py:146] EfficientDet EfficientNet backbone version: efficientnet-b7\n",
      "I0309 04:24:39.300945 140139105732480 ssd_efficientnet_bifpn_feature_extractor.py:147] EfficientDet BiFPN num filters: 384\n",
      "I0309 04:24:39.301006 140139105732480 ssd_efficientnet_bifpn_feature_extractor.py:149] EfficientDet BiFPN num iterations: 8\n",
      "I0309 04:24:39.302678 140139105732480 efficientnet_model.py:144] round_filter input=32 output=64\n",
      "I0309 04:24:39.318862 140139105732480 efficientnet_model.py:144] round_filter input=32 output=64\n",
      "I0309 04:24:39.319042 140139105732480 efficientnet_model.py:144] round_filter input=16 output=32\n",
      "I0309 04:24:39.568129 140139105732480 efficientnet_model.py:144] round_filter input=16 output=32\n",
      "I0309 04:24:39.568297 140139105732480 efficientnet_model.py:144] round_filter input=24 output=48\n",
      "I0309 04:24:40.136008 140139105732480 efficientnet_model.py:144] round_filter input=24 output=48\n",
      "I0309 04:24:40.136182 140139105732480 efficientnet_model.py:144] round_filter input=40 output=80\n",
      "I0309 04:24:40.696691 140139105732480 efficientnet_model.py:144] round_filter input=40 output=80\n",
      "I0309 04:24:40.696876 140139105732480 efficientnet_model.py:144] round_filter input=80 output=160\n",
      "I0309 04:24:41.538141 140139105732480 efficientnet_model.py:144] round_filter input=80 output=160\n",
      "I0309 04:24:41.538336 140139105732480 efficientnet_model.py:144] round_filter input=112 output=224\n",
      "I0309 04:24:42.684373 140139105732480 efficientnet_model.py:144] round_filter input=112 output=224\n",
      "I0309 04:24:42.684598 140139105732480 efficientnet_model.py:144] round_filter input=192 output=384\n",
      "I0309 04:24:43.805290 140139105732480 efficientnet_model.py:144] round_filter input=192 output=384\n",
      "I0309 04:24:43.805478 140139105732480 efficientnet_model.py:144] round_filter input=320 output=640\n",
      "I0309 04:24:44.179647 140139105732480 efficientnet_model.py:144] round_filter input=1280 output=2560\n",
      "I0309 04:24:44.217277 140139105732480 efficientnet_model.py:454] Building model efficientnet with params ModelConfig(width_coefficient=2.0, depth_coefficient=3.1, resolution=600, dropout_rate=0.5, blocks=(BlockConfig(input_filters=32, output_filters=16, kernel_size=3, num_repeat=1, expand_ratio=1, strides=(1, 1), se_ratio=0.25, id_skip=True, fused_conv=False, conv_type='depthwise'), BlockConfig(input_filters=16, output_filters=24, kernel_size=3, num_repeat=2, expand_ratio=6, strides=(2, 2), se_ratio=0.25, id_skip=True, fused_conv=False, conv_type='depthwise'), BlockConfig(input_filters=24, output_filters=40, kernel_size=5, num_repeat=2, expand_ratio=6, strides=(2, 2), se_ratio=0.25, id_skip=True, fused_conv=False, conv_type='depthwise'), BlockConfig(input_filters=40, output_filters=80, kernel_size=3, num_repeat=3, expand_ratio=6, strides=(2, 2), se_ratio=0.25, id_skip=True, fused_conv=False, conv_type='depthwise'), BlockConfig(input_filters=80, output_filters=112, kernel_size=5, num_repeat=3, expand_ratio=6, strides=(1, 1), se_ratio=0.25, id_skip=True, fused_conv=False, conv_type='depthwise'), BlockConfig(input_filters=112, output_filters=192, kernel_size=5, num_repeat=4, expand_ratio=6, strides=(2, 2), se_ratio=0.25, id_skip=True, fused_conv=False, conv_type='depthwise'), BlockConfig(input_filters=192, output_filters=320, kernel_size=3, num_repeat=1, expand_ratio=6, strides=(1, 1), se_ratio=0.25, id_skip=True, fused_conv=False, conv_type='depthwise')), stem_base_filters=32, top_base_filters=1280, activation='simple_swish', batch_norm='default', bn_momentum=0.99, bn_epsilon=0.001, weight_decay=5e-06, drop_connect_rate=0.2, depth_divisor=8, min_depth=None, use_se=True, input_channels=3, num_classes=1000, model_name='efficientnet', rescale_input=False, data_format='channels_last', dtype='float32')\n",
      "INFO:tensorflow:time(__main__.ModelBuilderTF2Test.test_create_ssd_models_from_config): 23.79s\n",
      "I0309 04:24:44.351044 140139105732480 test_util.py:2374] time(__main__.ModelBuilderTF2Test.test_create_ssd_models_from_config): 23.79s\n",
      "[       OK ] ModelBuilderTF2Test.test_create_ssd_models_from_config\n",
      "[ RUN      ] ModelBuilderTF2Test.test_invalid_faster_rcnn_batchnorm_update\n",
      "INFO:tensorflow:time(__main__.ModelBuilderTF2Test.test_invalid_faster_rcnn_batchnorm_update): 0.0s\n",
      "I0309 04:24:44.358763 140139105732480 test_util.py:2374] time(__main__.ModelBuilderTF2Test.test_invalid_faster_rcnn_batchnorm_update): 0.0s\n",
      "[       OK ] ModelBuilderTF2Test.test_invalid_faster_rcnn_batchnorm_update\n",
      "[ RUN      ] ModelBuilderTF2Test.test_invalid_first_stage_nms_iou_threshold\n",
      "INFO:tensorflow:time(__main__.ModelBuilderTF2Test.test_invalid_first_stage_nms_iou_threshold): 0.0s\n",
      "I0309 04:24:44.360698 140139105732480 test_util.py:2374] time(__main__.ModelBuilderTF2Test.test_invalid_first_stage_nms_iou_threshold): 0.0s\n",
      "[       OK ] ModelBuilderTF2Test.test_invalid_first_stage_nms_iou_threshold\n",
      "[ RUN      ] ModelBuilderTF2Test.test_invalid_model_config_proto\n",
      "INFO:tensorflow:time(__main__.ModelBuilderTF2Test.test_invalid_model_config_proto): 0.0s\n",
      "I0309 04:24:44.361221 140139105732480 test_util.py:2374] time(__main__.ModelBuilderTF2Test.test_invalid_model_config_proto): 0.0s\n",
      "[       OK ] ModelBuilderTF2Test.test_invalid_model_config_proto\n",
      "[ RUN      ] ModelBuilderTF2Test.test_invalid_second_stage_batch_size\n",
      "INFO:tensorflow:time(__main__.ModelBuilderTF2Test.test_invalid_second_stage_batch_size): 0.0s\n",
      "I0309 04:24:44.362859 140139105732480 test_util.py:2374] time(__main__.ModelBuilderTF2Test.test_invalid_second_stage_batch_size): 0.0s\n",
      "[       OK ] ModelBuilderTF2Test.test_invalid_second_stage_batch_size\n",
      "[ RUN      ] ModelBuilderTF2Test.test_session\n",
      "[  SKIPPED ] ModelBuilderTF2Test.test_session\n",
      "[ RUN      ] ModelBuilderTF2Test.test_unknown_faster_rcnn_feature_extractor\n",
      "INFO:tensorflow:time(__main__.ModelBuilderTF2Test.test_unknown_faster_rcnn_feature_extractor): 0.0s\n",
      "I0309 04:24:44.364161 140139105732480 test_util.py:2374] time(__main__.ModelBuilderTF2Test.test_unknown_faster_rcnn_feature_extractor): 0.0s\n",
      "[       OK ] ModelBuilderTF2Test.test_unknown_faster_rcnn_feature_extractor\n",
      "[ RUN      ] ModelBuilderTF2Test.test_unknown_meta_architecture\n",
      "INFO:tensorflow:time(__main__.ModelBuilderTF2Test.test_unknown_meta_architecture): 0.0s\n",
      "I0309 04:24:44.364556 140139105732480 test_util.py:2374] time(__main__.ModelBuilderTF2Test.test_unknown_meta_architecture): 0.0s\n",
      "[       OK ] ModelBuilderTF2Test.test_unknown_meta_architecture\n",
      "[ RUN      ] ModelBuilderTF2Test.test_unknown_ssd_feature_extractor\n",
      "INFO:tensorflow:time(__main__.ModelBuilderTF2Test.test_unknown_ssd_feature_extractor): 0.0s\n",
      "I0309 04:24:44.365585 140139105732480 test_util.py:2374] time(__main__.ModelBuilderTF2Test.test_unknown_ssd_feature_extractor): 0.0s\n",
      "[       OK ] ModelBuilderTF2Test.test_unknown_ssd_feature_extractor\n",
      "----------------------------------------------------------------------\n",
      "Ran 24 tests in 28.050s\n",
      "\n",
      "OK (skipped=1)\n"
     ]
    }
   ],
   "source": [
    "# From within TensorFlow/models/research/\n",
    "!python object_detection/builders/model_builder_tf2_test.py"
   ]
  },
  {
   "cell_type": "code",
   "execution_count": 24,
   "metadata": {
    "colab": {
     "base_uri": "https://localhost:8080/"
    },
    "id": "AezxJtZ9YfkJ",
    "outputId": "58f78697-d120-4dc0-e731-eb4157142f7d"
   },
   "outputs": [
    {
     "name": "stdout",
     "output_type": "stream",
     "text": [
      "/content/training_demo/pre-trained-models\n"
     ]
    }
   ],
   "source": [
    "cd /content/training_demo/pre-trained-models"
   ]
  },
  {
   "cell_type": "code",
   "execution_count": 22,
   "metadata": {
    "id": "Z6StPn7Zhvyy"
   },
   "outputs": [],
   "source": []
  },
  {
   "cell_type": "markdown",
   "metadata": {
    "id": "1ZLRAP1_jBHn"
   },
   "source": [
    "## Download ssd-mobilenet-v2-fpnlite-640x640 pretrained model"
   ]
  },
  {
   "cell_type": "code",
   "execution_count": 56,
   "metadata": {
    "colab": {
     "base_uri": "https://localhost:8080/"
    },
    "id": "Smh6gU7PjBik",
    "outputId": "4b1c8984-2c56-48a4-ee3c-f088eac33866"
   },
   "outputs": [
    {
     "name": "stdout",
     "output_type": "stream",
     "text": [
      "--2022-03-08 13:12:30--  http://download.tensorflow.org/models/object_detection/tf2/20200711/ssd_mobilenet_v2_fpnlite_640x640_coco17_tpu-8.tar.gz\n",
      "Resolving download.tensorflow.org (download.tensorflow.org)... 142.250.103.128, 2607:f8b0:4001:c2b::80\n",
      "Connecting to download.tensorflow.org (download.tensorflow.org)|142.250.103.128|:80... connected.\n",
      "HTTP request sent, awaiting response... 200 OK\n",
      "Length: 20518283 (20M) [application/x-tar]\n",
      "Saving to: ‘ssd_mobilenet_v2_fpnlite_640x640_coco17_tpu-8.tar.gz’\n",
      "\n",
      "ssd_mobilenet_v2_fp 100%[===================>]  19.57M  77.4MB/s    in 0.3s    \n",
      "\n",
      "2022-03-08 13:12:31 (77.4 MB/s) - ‘ssd_mobilenet_v2_fpnlite_640x640_coco17_tpu-8.tar.gz’ saved [20518283/20518283]\n",
      "\n"
     ]
    }
   ],
   "source": [
    "!wget http://download.tensorflow.org/models/object_detection/tf2/20200711/ssd_mobilenet_v2_fpnlite_640x640_coco17_tpu-8.tar.gz"
   ]
  },
  {
   "cell_type": "markdown",
   "metadata": {
    "id": "vqdMMQOojeEt"
   },
   "source": [
    "# Extract pretrained model"
   ]
  },
  {
   "cell_type": "code",
   "execution_count": 57,
   "metadata": {
    "colab": {
     "base_uri": "https://localhost:8080/"
    },
    "id": "fgbFWcIdjXLP",
    "outputId": "4d1c5e4f-f3d1-48af-9e01-466db64bfef3"
   },
   "outputs": [
    {
     "name": "stdout",
     "output_type": "stream",
     "text": [
      "ssd_mobilenet_v2_fpnlite_640x640_coco17_tpu-8/\n",
      "ssd_mobilenet_v2_fpnlite_640x640_coco17_tpu-8/checkpoint/\n",
      "ssd_mobilenet_v2_fpnlite_640x640_coco17_tpu-8/checkpoint/ckpt-0.data-00000-of-00001\n",
      "ssd_mobilenet_v2_fpnlite_640x640_coco17_tpu-8/checkpoint/checkpoint\n",
      "ssd_mobilenet_v2_fpnlite_640x640_coco17_tpu-8/checkpoint/ckpt-0.index\n",
      "ssd_mobilenet_v2_fpnlite_640x640_coco17_tpu-8/pipeline.config\n",
      "ssd_mobilenet_v2_fpnlite_640x640_coco17_tpu-8/saved_model/\n",
      "ssd_mobilenet_v2_fpnlite_640x640_coco17_tpu-8/saved_model/saved_model.pb\n",
      "ssd_mobilenet_v2_fpnlite_640x640_coco17_tpu-8/saved_model/variables/\n",
      "ssd_mobilenet_v2_fpnlite_640x640_coco17_tpu-8/saved_model/variables/variables.data-00000-of-00001\n",
      "ssd_mobilenet_v2_fpnlite_640x640_coco17_tpu-8/saved_model/variables/variables.index\n"
     ]
    }
   ],
   "source": [
    "!tar -xvf ssd_mobilenet_v2_fpnlite_640x640_coco17_tpu-8.tar.gz"
   ]
  },
  {
   "cell_type": "code",
   "execution_count": 36,
   "metadata": {
    "colab": {
     "base_uri": "https://localhost:8080/",
     "height": 35
    },
    "id": "cUpL3eRejyEN",
    "outputId": "b5be38b1-d2e1-435a-e356-35c56d7a4c6f"
   },
   "outputs": [
    {
     "data": {
      "application/vnd.google.colaboratory.intrinsic+json": {
       "type": "string"
      },
      "text/plain": [
       "'/content/training_demo/pre-trained-models'"
      ]
     },
     "execution_count": 36,
     "metadata": {},
     "output_type": "execute_result"
    }
   ],
   "source": [
    "pwd"
   ]
  },
  {
   "cell_type": "code",
   "execution_count": 16,
   "metadata": {
    "colab": {
     "base_uri": "https://localhost:8080/"
    },
    "id": "XAI5q1Wzj3Vr",
    "outputId": "3d2903d8-496f-4bf4-b02a-64c2cef527c3"
   },
   "outputs": [
    {
     "name": "stdout",
     "output_type": "stream",
     "text": [
      "/content/models/research\n"
     ]
    }
   ],
   "source": [
    "cd /content/models/research"
   ]
  },
  {
   "cell_type": "markdown",
   "metadata": {
    "id": "VxnuuAqRNfjK"
   },
   "source": [
    "## Training the model"
   ]
  },
  {
   "cell_type": "code",
   "execution_count": 60,
   "metadata": {
    "colab": {
     "base_uri": "https://localhost:8080/"
    },
    "id": "qgb7dxcUNmVe",
    "outputId": "0da48758-a1f7-451e-abfa-204b95742a39"
   },
   "outputs": [
    {
     "name": "stdout",
     "output_type": "stream",
     "text": [
      "\u001b[0m\u001b[01;34madversarial_text\u001b[0m/       \u001b[01;34mmarco\u001b[0m/\n",
      "\u001b[01;34mattention_ocr\u001b[0m/          \u001b[01;34mnst_blogpost\u001b[0m/\n",
      "\u001b[01;34maudioset\u001b[0m/               \u001b[01;34mobject_detection\u001b[0m/\n",
      "\u001b[01;34mautoaugment\u001b[0m/            \u001b[01;34mobject_detection.egg-info\u001b[0m/\n",
      "\u001b[01;34mbuild\u001b[0m/                  \u001b[01;34mpcl_rl\u001b[0m/\n",
      "\u001b[01;34mcocoapi\u001b[0m/                \u001b[01;34mpycocotools\u001b[0m/\n",
      "\u001b[01;34mcognitive_planning\u001b[0m/     README.md\n",
      "\u001b[01;34mcvt_text\u001b[0m/               \u001b[01;34mrebar\u001b[0m/\n",
      "\u001b[01;34mdeeplab\u001b[0m/                \u001b[01;34mseq_flow_lite\u001b[0m/\n",
      "\u001b[01;34mdeep_speech\u001b[0m/            setup.py\n",
      "\u001b[01;34mdelf\u001b[0m/                   \u001b[01;34mslim\u001b[0m/\n",
      "\u001b[01;34mefficient-hrl\u001b[0m/          \u001b[01;34mssd_mobilenet_v2_fpnlite_640x640_coco17_tpu-8\u001b[0m/\n",
      "\u001b[01;34mlfads\u001b[0m/                  ssd_mobilenet_v2_fpnlite_640x640_coco17_tpu-8.tar.gz\n",
      "\u001b[01;34mlstm_object_detection\u001b[0m/  \u001b[01;34mvid2depth\u001b[0m/\n"
     ]
    }
   ],
   "source": [
    "ls"
   ]
  },
  {
   "cell_type": "code",
   "execution_count": 16,
   "metadata": {
    "colab": {
     "base_uri": "https://localhost:8080/"
    },
    "id": "VkwUvTPdSa1G",
    "outputId": "5dafc50e-5677-40fe-953f-ad59dfa9a437"
   },
   "outputs": [
    {
     "name": "stdout",
     "output_type": "stream",
     "text": [
      "\u001b[33mWARNING: --use-feature=2020-resolver no longer has any effect, since it is now the default dependency resolver in pip. This will become an error in pip 21.0.\u001b[0m\u001b[33m\n",
      "\u001b[0mRequirement already satisfied: example in /usr/local/lib/python3.7/dist-packages (0.1.0)\n",
      "Requirement already satisfied: six in /usr/local/lib/python3.7/dist-packages (from example) (1.15.0)\n",
      "\u001b[33mWARNING: Running pip as the 'root' user can result in broken permissions and conflicting behaviour with the system package manager. It is recommended to use a virtual environment instead: https://pip.pypa.io/warnings/venv\u001b[0m\u001b[33m\n",
      "\u001b[0m"
     ]
    }
   ],
   "source": [
    "pip install example --use-feature=2020-resolver"
   ]
  },
  {
   "cell_type": "code",
   "execution_count": 17,
   "metadata": {
    "colab": {
     "base_uri": "https://localhost:8080/"
    },
    "id": "TqtXPJB2Rqoc",
    "outputId": "5de4e1e5-a092-44bc-be57-a695619312b5"
   },
   "outputs": [
    {
     "name": "stdout",
     "output_type": "stream",
     "text": [
      "Collecting opencv-python-headless==4.1.2.30\n",
      "  Downloading opencv_python_headless-4.1.2.30-cp37-cp37m-manylinux1_x86_64.whl (21.8 MB)\n",
      "\u001b[2K     \u001b[90m━━━━━━━━━━━━━━━━━━━━━━━━━━━━━━━━━━━━━━━━\u001b[0m \u001b[32m21.8/21.8 MB\u001b[0m \u001b[31m58.1 MB/s\u001b[0m eta \u001b[36m0:00:00\u001b[0m\n",
      "\u001b[?25hRequirement already satisfied: numpy>=1.14.5 in /usr/local/lib/python3.7/dist-packages (from opencv-python-headless==4.1.2.30) (1.21.5)\n",
      "Installing collected packages: opencv-python-headless\n",
      "  Attempting uninstall: opencv-python-headless\n",
      "    Found existing installation: opencv-python-headless 4.5.5.62\n",
      "    Uninstalling opencv-python-headless-4.5.5.62:\n",
      "      Successfully uninstalled opencv-python-headless-4.5.5.62\n",
      "Successfully installed opencv-python-headless-4.1.2.30\n",
      "\u001b[33mWARNING: Running pip as the 'root' user can result in broken permissions and conflicting behaviour with the system package manager. It is recommended to use a virtual environment instead: https://pip.pypa.io/warnings/venv\u001b[0m\u001b[33m\n",
      "\u001b[0m"
     ]
    }
   ],
   "source": [
    "pip install opencv-python-headless==4.1.2.30 "
   ]
  },
  {
   "cell_type": "code",
   "execution_count": 18,
   "metadata": {
    "colab": {
     "base_uri": "https://localhost:8080/"
    },
    "id": "XopjZ35KhLDB",
    "outputId": "f8f7a703-86cd-4ff5-8fb5-2385b49ea9fa"
   },
   "outputs": [
    {
     "name": "stdout",
     "output_type": "stream",
     "text": [
      "/content/drive/MyDrive/Vehicle_identification_model/workspace/vehicle_folder/Vehicle-detection-model/training\n"
     ]
    }
   ],
   "source": [
    "cd /content/drive/MyDrive/Vehicle_identification_model/workspace/vehicle_folder/Vehicle-detection-model/training"
   ]
  },
  {
   "cell_type": "code",
   "execution_count": null,
   "metadata": {
    "id": "tNt3p7dFhwMI"
   },
   "outputs": [],
   "source": [
    "pip install tensorflow==2.7.0"
   ]
  },
  {
   "cell_type": "code",
   "execution_count": null,
   "metadata": {
    "id": "dBx_T-UhjxCr"
   },
   "outputs": [],
   "source": [
    "!wget https://developer.download.nvidia.com/compute/cuda/repos/ubuntu1804/x86_64/cuda-ubuntu1804.pin\n",
    "!mv cuda-ubuntu1804.pin /etc/apt/preferences.d/cuda-repository-pin-600\n",
    "!wget https://developer.download.nvidia.com/compute/cuda/11.6.1/local_installers/cuda-repo-ubuntu1804-11-6-local_11.6.1-510.47.03-1_amd64.deb\n",
    "!dpkg -i cuda-repo-ubuntu1804-11-6-local_11.6.1-510.47.03-1_amd64.deb\n",
    "!apt-key add /var/cuda-repo-ubuntu1804-11-6-local/7fa2af80.pub\n",
    "!apt-get update\n",
    "!apt-get -y install cuda\n",
    "!pip install mxnet"
   ]
  },
  {
   "cell_type": "code",
   "execution_count": null,
   "metadata": {
    "id": "1Pj_D_lL2XMe"
   },
   "outputs": [],
   "source": [
    "cd /content/drive/MyDrive/Vehicle_identification_model/cuda/cuDNNv"
   ]
  },
  {
   "cell_type": "code",
   "execution_count": null,
   "metadata": {
    "id": "dW2HEj6L21qN"
   },
   "outputs": [],
   "source": [
    "!adduser jean"
   ]
  },
  {
   "cell_type": "code",
   "execution_count": null,
   "metadata": {
    "id": "HzcpZgSm9-De"
   },
   "outputs": [],
   "source": [
    "!apt-get install --reinstall libxcb-xinerama0\n"
   ]
  },
  {
   "cell_type": "code",
   "execution_count": null,
   "metadata": {
    "id": "4rYsnr_jBasG"
   },
   "outputs": [],
   "source": [
    "!apt-get install libx11-xcb1"
   ]
  },
  {
   "cell_type": "code",
   "execution_count": 58,
   "metadata": {
    "id": "o7UKZzp721O3"
   },
   "outputs": [],
   "source": [
    "!chmod 755 cuDNNv"
   ]
  },
  {
   "cell_type": "code",
   "execution_count": null,
   "metadata": {
    "id": "GHck5qwd8cjh"
   },
   "outputs": [],
   "source": []
  },
  {
   "cell_type": "code",
   "execution_count": null,
   "metadata": {
    "id": "Cpmd9Pu62ZQj"
   },
   "outputs": [],
   "source": [
    "!./cuDNNv &"
   ]
  },
  {
   "cell_type": "code",
   "execution_count": 2,
   "metadata": {
    "colab": {
     "base_uri": "https://localhost:8080/"
    },
    "id": "R5AU1EbOtNjN",
    "outputId": "7fafbe7f-a567-4927-d1fe-9bccab2aa032"
   },
   "outputs": [
    {
     "name": "stdout",
     "output_type": "stream",
     "text": [
      "/content/drive/MyDrive/Vehicle_identification_model/cuda\n"
     ]
    }
   ],
   "source": [
    "cd  /content/drive/MyDrive/Vehicle_identification_model/cuda/"
   ]
  },
  {
   "cell_type": "code",
   "execution_count": null,
   "metadata": {
    "id": "SEfeeL1K1YX7"
   },
   "outputs": [],
   "source": [
    "!git clone https://github.com/dnzzcn/cuDNNv.git"
   ]
  },
  {
   "cell_type": "code",
   "execution_count": null,
   "metadata": {
    "id": "6LXvEuZytcvR"
   },
   "outputs": [],
   "source": [
    "!tar -xvf cudnn-11.2-linux-x64-v8.1.0.77.tgz"
   ]
  },
  {
   "cell_type": "code",
   "execution_count": null,
   "metadata": {
    "id": "5FEj54ZdpJaa"
   },
   "outputs": [],
   "source": [
    "!dpkg -i /content/drive/MyDrive/Vehicle_identification_model/cuda/cuda/lib64/libcudnn.so.8.1.0"
   ]
  },
  {
   "cell_type": "code",
   "execution_count": null,
   "metadata": {
    "id": "YAUmOcWbrGVH"
   },
   "outputs": [],
   "source": [
    "!nvidia-smi\n"
   ]
  },
  {
   "cell_type": "code",
   "execution_count": 4,
   "metadata": {
    "colab": {
     "base_uri": "https://localhost:8080/"
    },
    "id": "PFlKRr98NoGI",
    "outputId": "2bee7acf-aeb9-481c-bcf3-ffaa2c5635c1"
   },
   "outputs": [
    {
     "name": "stdout",
     "output_type": "stream",
     "text": [
      "2022-03-08 20:38:40.452277: E tensorflow/stream_executor/cuda/cuda_driver.cc:271] failed call to cuInit: CUDA_ERROR_NO_DEVICE: no CUDA-capable device is detected\n",
      "WARNING:tensorflow:There are non-GPU devices in `tf.distribute.Strategy`, not using nccl allreduce.\n",
      "W0308 20:38:40.461461 139876942514048 cross_device_ops.py:1386] There are non-GPU devices in `tf.distribute.Strategy`, not using nccl allreduce.\n",
      "INFO:tensorflow:Using MirroredStrategy with devices ('/job:localhost/replica:0/task:0/device:CPU:0',)\n",
      "I0308 20:38:40.468257 139876942514048 mirrored_strategy.py:374] Using MirroredStrategy with devices ('/job:localhost/replica:0/task:0/device:CPU:0',)\n",
      "INFO:tensorflow:Maybe overwriting train_steps: None\n",
      "I0308 20:38:40.475709 139876942514048 config_util.py:552] Maybe overwriting train_steps: None\n",
      "INFO:tensorflow:Maybe overwriting use_bfloat16: False\n",
      "I0308 20:38:40.475932 139876942514048 config_util.py:552] Maybe overwriting use_bfloat16: False\n",
      "WARNING:tensorflow:From /usr/local/lib/python3.7/dist-packages/object_detection/model_lib_v2.py:564: StrategyBase.experimental_distribute_datasets_from_function (from tensorflow.python.distribute.distribute_lib) is deprecated and will be removed in a future version.\n",
      "Instructions for updating:\n",
      "rename to distribute_datasets_from_function\n",
      "W0308 20:38:40.514870 139876942514048 deprecation.py:343] From /usr/local/lib/python3.7/dist-packages/object_detection/model_lib_v2.py:564: StrategyBase.experimental_distribute_datasets_from_function (from tensorflow.python.distribute.distribute_lib) is deprecated and will be removed in a future version.\n",
      "Instructions for updating:\n",
      "rename to distribute_datasets_from_function\n",
      "INFO:tensorflow:Reading unweighted datasets: ['/content/drive/MyDrive/Vehicle_identification_model/workspace/vehicle_folder/Vehicle-detection-model/training/train_data/train.record']\n",
      "I0308 20:38:40.529995 139876942514048 dataset_builder.py:163] Reading unweighted datasets: ['/content/drive/MyDrive/Vehicle_identification_model/workspace/vehicle_folder/Vehicle-detection-model/training/train_data/train.record']\n",
      "INFO:tensorflow:Reading record datasets for input file: ['/content/drive/MyDrive/Vehicle_identification_model/workspace/vehicle_folder/Vehicle-detection-model/training/train_data/train.record']\n",
      "I0308 20:38:40.530776 139876942514048 dataset_builder.py:80] Reading record datasets for input file: ['/content/drive/MyDrive/Vehicle_identification_model/workspace/vehicle_folder/Vehicle-detection-model/training/train_data/train.record']\n",
      "INFO:tensorflow:Number of filenames to read: 1\n",
      "I0308 20:38:40.531007 139876942514048 dataset_builder.py:81] Number of filenames to read: 1\n",
      "WARNING:tensorflow:num_readers has been reduced to 1 to match input file shards.\n",
      "W0308 20:38:40.531088 139876942514048 dataset_builder.py:88] num_readers has been reduced to 1 to match input file shards.\n",
      "WARNING:tensorflow:From /usr/local/lib/python3.7/dist-packages/object_detection/builders/dataset_builder.py:105: parallel_interleave (from tensorflow.python.data.experimental.ops.interleave_ops) is deprecated and will be removed in a future version.\n",
      "Instructions for updating:\n",
      "Use `tf.data.Dataset.interleave(map_func, cycle_length, block_length, num_parallel_calls=tf.data.AUTOTUNE)` instead. If sloppy execution is desired, use `tf.data.Options.deterministic`.\n",
      "W0308 20:38:40.535205 139876942514048 deprecation.py:343] From /usr/local/lib/python3.7/dist-packages/object_detection/builders/dataset_builder.py:105: parallel_interleave (from tensorflow.python.data.experimental.ops.interleave_ops) is deprecated and will be removed in a future version.\n",
      "Instructions for updating:\n",
      "Use `tf.data.Dataset.interleave(map_func, cycle_length, block_length, num_parallel_calls=tf.data.AUTOTUNE)` instead. If sloppy execution is desired, use `tf.data.Options.deterministic`.\n",
      "WARNING:tensorflow:From /usr/local/lib/python3.7/dist-packages/object_detection/builders/dataset_builder.py:237: DatasetV1.map_with_legacy_function (from tensorflow.python.data.ops.dataset_ops) is deprecated and will be removed in a future version.\n",
      "Instructions for updating:\n",
      "Use `tf.data.Dataset.map()\n",
      "W0308 20:38:40.569089 139876942514048 deprecation.py:343] From /usr/local/lib/python3.7/dist-packages/object_detection/builders/dataset_builder.py:237: DatasetV1.map_with_legacy_function (from tensorflow.python.data.ops.dataset_ops) is deprecated and will be removed in a future version.\n",
      "Instructions for updating:\n",
      "Use `tf.data.Dataset.map()\n",
      "WARNING:tensorflow:From /usr/local/lib/python3.7/dist-packages/tensorflow/python/util/dispatch.py:1082: sparse_to_dense (from tensorflow.python.ops.sparse_ops) is deprecated and will be removed in a future version.\n",
      "Instructions for updating:\n",
      "Create a `tf.sparse.SparseTensor` and use `tf.sparse.to_dense` instead.\n",
      "W0308 20:38:48.841340 139876942514048 deprecation.py:343] From /usr/local/lib/python3.7/dist-packages/tensorflow/python/util/dispatch.py:1082: sparse_to_dense (from tensorflow.python.ops.sparse_ops) is deprecated and will be removed in a future version.\n",
      "Instructions for updating:\n",
      "Create a `tf.sparse.SparseTensor` and use `tf.sparse.to_dense` instead.\n",
      "WARNING:tensorflow:From /usr/local/lib/python3.7/dist-packages/tensorflow/python/util/dispatch.py:1082: sample_distorted_bounding_box (from tensorflow.python.ops.image_ops_impl) is deprecated and will be removed in a future version.\n",
      "Instructions for updating:\n",
      "`seed2` arg is deprecated.Use sample_distorted_bounding_box_v2 instead.\n",
      "W0308 20:38:52.427606 139876942514048 deprecation.py:343] From /usr/local/lib/python3.7/dist-packages/tensorflow/python/util/dispatch.py:1082: sample_distorted_bounding_box (from tensorflow.python.ops.image_ops_impl) is deprecated and will be removed in a future version.\n",
      "Instructions for updating:\n",
      "`seed2` arg is deprecated.Use sample_distorted_bounding_box_v2 instead.\n",
      "WARNING:tensorflow:From /usr/local/lib/python3.7/dist-packages/tensorflow/python/util/dispatch.py:1082: to_float (from tensorflow.python.ops.math_ops) is deprecated and will be removed in a future version.\n",
      "Instructions for updating:\n",
      "Use `tf.cast` instead.\n",
      "W0308 20:38:54.445818 139876942514048 deprecation.py:343] From /usr/local/lib/python3.7/dist-packages/tensorflow/python/util/dispatch.py:1082: to_float (from tensorflow.python.ops.math_ops) is deprecated and will be removed in a future version.\n",
      "Instructions for updating:\n",
      "Use `tf.cast` instead.\n",
      "2022-03-08 20:38:57.391017: W tensorflow/core/framework/dataset.cc:768] Input of GeneratorDatasetOp::Dataset will not be optimized because the dataset does not implement the AsGraphDefInternal() method needed to apply optimizations.\n",
      "/usr/local/lib/python3.7/dist-packages/keras/backend.py:450: UserWarning: `tf.keras.backend.set_learning_phase` is deprecated and will be removed after 2020-10-11. To update it, simply pass a True/False value to the `training` argument of the `__call__` method of your layer or model.\n",
      "  warnings.warn('`tf.keras.backend.set_learning_phase` is deprecated and '\n",
      "2022-03-08 20:39:30.510984: W tensorflow/core/framework/dataset.cc:768] Input of GeneratorDatasetOp::Dataset will not be optimized because the dataset does not implement the AsGraphDefInternal() method needed to apply optimizations.\n",
      "WARNING:tensorflow:From /usr/local/lib/python3.7/dist-packages/tensorflow/python/util/deprecation.py:616: calling map_fn_v2 (from tensorflow.python.ops.map_fn) with dtype is deprecated and will be removed in a future version.\n",
      "Instructions for updating:\n",
      "Use fn_output_signature instead\n",
      "W0308 20:39:32.006793 139870260496128 deprecation.py:547] From /usr/local/lib/python3.7/dist-packages/tensorflow/python/util/deprecation.py:616: calling map_fn_v2 (from tensorflow.python.ops.map_fn) with dtype is deprecated and will be removed in a future version.\n",
      "Instructions for updating:\n",
      "Use fn_output_signature instead\n",
      "INFO:tensorflow:Step 100 per-step time 9.720s\n",
      "I0308 20:55:43.567067 139876942514048 model_lib_v2.py:707] Step 100 per-step time 9.720s\n",
      "INFO:tensorflow:{'Loss/classification_loss': 0.64501214,\n",
      " 'Loss/localization_loss': 0.54585814,\n",
      " 'Loss/regularization_loss': 1.9925424,\n",
      " 'Loss/total_loss': 3.1834128,\n",
      " 'learning_rate': 0.014666351}\n",
      "I0308 20:55:43.567537 139876942514048 model_lib_v2.py:708] {'Loss/classification_loss': 0.64501214,\n",
      " 'Loss/localization_loss': 0.54585814,\n",
      " 'Loss/regularization_loss': 1.9925424,\n",
      " 'Loss/total_loss': 3.1834128,\n",
      " 'learning_rate': 0.014666351}\n",
      "INFO:tensorflow:Step 200 per-step time 8.468s\n",
      "I0308 21:09:50.346548 139876942514048 model_lib_v2.py:707] Step 200 per-step time 8.468s\n",
      "INFO:tensorflow:{'Loss/classification_loss': 0.71821517,\n",
      " 'Loss/localization_loss': 0.4752867,\n",
      " 'Loss/regularization_loss': 1.9700823,\n",
      " 'Loss/total_loss': 3.1635842,\n",
      " 'learning_rate': 0.0159997}\n",
      "I0308 21:09:50.347139 139876942514048 model_lib_v2.py:708] {'Loss/classification_loss': 0.71821517,\n",
      " 'Loss/localization_loss': 0.4752867,\n",
      " 'Loss/regularization_loss': 1.9700823,\n",
      " 'Loss/total_loss': 3.1635842,\n",
      " 'learning_rate': 0.0159997}\n",
      "INFO:tensorflow:Step 300 per-step time 8.520s\n",
      "I0308 21:24:02.336418 139876942514048 model_lib_v2.py:707] Step 300 per-step time 8.520s\n",
      "INFO:tensorflow:{'Loss/classification_loss': 0.66608655,\n",
      " 'Loss/localization_loss': 0.34895748,\n",
      " 'Loss/regularization_loss': 1.9454609,\n",
      " 'Loss/total_loss': 2.960505,\n",
      " 'learning_rate': 0.01733305}\n",
      "I0308 21:24:02.336842 139876942514048 model_lib_v2.py:708] {'Loss/classification_loss': 0.66608655,\n",
      " 'Loss/localization_loss': 0.34895748,\n",
      " 'Loss/regularization_loss': 1.9454609,\n",
      " 'Loss/total_loss': 2.960505,\n",
      " 'learning_rate': 0.01733305}\n",
      "INFO:tensorflow:Step 400 per-step time 8.396s\n",
      "I0308 21:38:01.926767 139876942514048 model_lib_v2.py:707] Step 400 per-step time 8.396s\n",
      "INFO:tensorflow:{'Loss/classification_loss': 0.6367044,\n",
      " 'Loss/localization_loss': 0.29431853,\n",
      " 'Loss/regularization_loss': 1.9196441,\n",
      " 'Loss/total_loss': 2.850667,\n",
      " 'learning_rate': 0.0186664}\n",
      "I0308 21:38:01.927135 139876942514048 model_lib_v2.py:708] {'Loss/classification_loss': 0.6367044,\n",
      " 'Loss/localization_loss': 0.29431853,\n",
      " 'Loss/regularization_loss': 1.9196441,\n",
      " 'Loss/total_loss': 2.850667,\n",
      " 'learning_rate': 0.0186664}\n",
      "INFO:tensorflow:Step 500 per-step time 8.462s\n",
      "I0308 21:52:08.139577 139876942514048 model_lib_v2.py:707] Step 500 per-step time 8.462s\n",
      "INFO:tensorflow:{'Loss/classification_loss': 0.4278177,\n",
      " 'Loss/localization_loss': 0.30752748,\n",
      " 'Loss/regularization_loss': 1.8926374,\n",
      " 'Loss/total_loss': 2.6279826,\n",
      " 'learning_rate': 0.01999975}\n",
      "I0308 21:52:08.139997 139876942514048 model_lib_v2.py:708] {'Loss/classification_loss': 0.4278177,\n",
      " 'Loss/localization_loss': 0.30752748,\n",
      " 'Loss/regularization_loss': 1.8926374,\n",
      " 'Loss/total_loss': 2.6279826,\n",
      " 'learning_rate': 0.01999975}\n",
      "INFO:tensorflow:Step 600 per-step time 8.378s\n",
      "I0308 22:06:05.981617 139876942514048 model_lib_v2.py:707] Step 600 per-step time 8.378s\n",
      "INFO:tensorflow:{'Loss/classification_loss': 0.43041185,\n",
      " 'Loss/localization_loss': 0.2602774,\n",
      " 'Loss/regularization_loss': 1.8633771,\n",
      " 'Loss/total_loss': 2.5540662,\n",
      " 'learning_rate': 0.0213331}\n",
      "I0308 22:06:05.982039 139876942514048 model_lib_v2.py:708] {'Loss/classification_loss': 0.43041185,\n",
      " 'Loss/localization_loss': 0.2602774,\n",
      " 'Loss/regularization_loss': 1.8633771,\n",
      " 'Loss/total_loss': 2.5540662,\n",
      " 'learning_rate': 0.0213331}\n",
      "INFO:tensorflow:Step 700 per-step time 8.416s\n",
      "I0308 22:20:07.554812 139876942514048 model_lib_v2.py:707] Step 700 per-step time 8.416s\n",
      "INFO:tensorflow:{'Loss/classification_loss': 0.2724304,\n",
      " 'Loss/localization_loss': 0.26353747,\n",
      " 'Loss/regularization_loss': 1.8331653,\n",
      " 'Loss/total_loss': 2.369133,\n",
      " 'learning_rate': 0.02266645}\n",
      "I0308 22:20:07.555269 139876942514048 model_lib_v2.py:708] {'Loss/classification_loss': 0.2724304,\n",
      " 'Loss/localization_loss': 0.26353747,\n",
      " 'Loss/regularization_loss': 1.8331653,\n",
      " 'Loss/total_loss': 2.369133,\n",
      " 'learning_rate': 0.02266645}\n",
      "INFO:tensorflow:Step 800 per-step time 8.475s\n",
      "I0308 22:34:15.016807 139876942514048 model_lib_v2.py:707] Step 800 per-step time 8.475s\n",
      "INFO:tensorflow:{'Loss/classification_loss': 0.21742073,\n",
      " 'Loss/localization_loss': 0.16104002,\n",
      " 'Loss/regularization_loss': 1.801111,\n",
      " 'Loss/total_loss': 2.1795719,\n",
      " 'learning_rate': 0.023999799}\n",
      "I0308 22:34:15.017183 139876942514048 model_lib_v2.py:708] {'Loss/classification_loss': 0.21742073,\n",
      " 'Loss/localization_loss': 0.16104002,\n",
      " 'Loss/regularization_loss': 1.801111,\n",
      " 'Loss/total_loss': 2.1795719,\n",
      " 'learning_rate': 0.023999799}\n",
      "INFO:tensorflow:Step 900 per-step time 8.639s\n",
      "I0308 22:48:38.954579 139876942514048 model_lib_v2.py:707] Step 900 per-step time 8.639s\n",
      "INFO:tensorflow:{'Loss/classification_loss': 0.2908553,\n",
      " 'Loss/localization_loss': 0.19792615,\n",
      " 'Loss/regularization_loss': 1.7676904,\n",
      " 'Loss/total_loss': 2.2564716,\n",
      " 'learning_rate': 0.025333151}\n",
      "I0308 22:48:38.955024 139876942514048 model_lib_v2.py:708] {'Loss/classification_loss': 0.2908553,\n",
      " 'Loss/localization_loss': 0.19792615,\n",
      " 'Loss/regularization_loss': 1.7676904,\n",
      " 'Loss/total_loss': 2.2564716,\n",
      " 'learning_rate': 0.025333151}\n",
      "INFO:tensorflow:Step 1000 per-step time 8.441s\n",
      "I0308 23:02:43.058691 139876942514048 model_lib_v2.py:707] Step 1000 per-step time 8.441s\n",
      "INFO:tensorflow:{'Loss/classification_loss': 0.29176554,\n",
      " 'Loss/localization_loss': 0.16378158,\n",
      " 'Loss/regularization_loss': 1.7330462,\n",
      " 'Loss/total_loss': 2.1885934,\n",
      " 'learning_rate': 0.0266665}\n",
      "I0308 23:02:43.059127 139876942514048 model_lib_v2.py:708] {'Loss/classification_loss': 0.29176554,\n",
      " 'Loss/localization_loss': 0.16378158,\n",
      " 'Loss/regularization_loss': 1.7330462,\n",
      " 'Loss/total_loss': 2.1885934,\n",
      " 'learning_rate': 0.0266665}\n",
      "INFO:tensorflow:Step 1100 per-step time 8.515s\n",
      "I0308 23:16:54.606850 139876942514048 model_lib_v2.py:707] Step 1100 per-step time 8.515s\n",
      "INFO:tensorflow:{'Loss/classification_loss': 0.34479302,\n",
      " 'Loss/localization_loss': 0.23606822,\n",
      " 'Loss/regularization_loss': 1.6978143,\n",
      " 'Loss/total_loss': 2.2786756,\n",
      " 'learning_rate': 0.02799985}\n",
      "I0308 23:16:54.607316 139876942514048 model_lib_v2.py:708] {'Loss/classification_loss': 0.34479302,\n",
      " 'Loss/localization_loss': 0.23606822,\n",
      " 'Loss/regularization_loss': 1.6978143,\n",
      " 'Loss/total_loss': 2.2786756,\n",
      " 'learning_rate': 0.02799985}\n",
      "INFO:tensorflow:Step 1200 per-step time 8.472s\n",
      "I0308 23:31:01.757350 139876942514048 model_lib_v2.py:707] Step 1200 per-step time 8.472s\n",
      "INFO:tensorflow:{'Loss/classification_loss': 0.237016,\n",
      " 'Loss/localization_loss': 0.13584235,\n",
      " 'Loss/regularization_loss': 1.6613843,\n",
      " 'Loss/total_loss': 2.0342426,\n",
      " 'learning_rate': 0.0293332}\n",
      "I0308 23:31:01.757729 139876942514048 model_lib_v2.py:708] {'Loss/classification_loss': 0.237016,\n",
      " 'Loss/localization_loss': 0.13584235,\n",
      " 'Loss/regularization_loss': 1.6613843,\n",
      " 'Loss/total_loss': 2.0342426,\n",
      " 'learning_rate': 0.0293332}\n",
      "INFO:tensorflow:Step 1300 per-step time 8.519s\n",
      "I0308 23:45:13.686194 139876942514048 model_lib_v2.py:707] Step 1300 per-step time 8.519s\n",
      "INFO:tensorflow:{'Loss/classification_loss': 0.18920434,\n",
      " 'Loss/localization_loss': 0.14556412,\n",
      " 'Loss/regularization_loss': 1.62371,\n",
      " 'Loss/total_loss': 1.9584785,\n",
      " 'learning_rate': 0.03066655}\n",
      "I0308 23:45:13.686706 139876942514048 model_lib_v2.py:708] {'Loss/classification_loss': 0.18920434,\n",
      " 'Loss/localization_loss': 0.14556412,\n",
      " 'Loss/regularization_loss': 1.62371,\n",
      " 'Loss/total_loss': 1.9584785,\n",
      " 'learning_rate': 0.03066655}\n",
      "INFO:tensorflow:Step 1400 per-step time 8.514s\n",
      "I0308 23:59:25.088264 139876942514048 model_lib_v2.py:707] Step 1400 per-step time 8.514s\n",
      "INFO:tensorflow:{'Loss/classification_loss': 0.25554308,\n",
      " 'Loss/localization_loss': 0.23531377,\n",
      " 'Loss/regularization_loss': 1.5854832,\n",
      " 'Loss/total_loss': 2.0763402,\n",
      " 'learning_rate': 0.0319999}\n",
      "I0308 23:59:25.088738 139876942514048 model_lib_v2.py:708] {'Loss/classification_loss': 0.25554308,\n",
      " 'Loss/localization_loss': 0.23531377,\n",
      " 'Loss/regularization_loss': 1.5854832,\n",
      " 'Loss/total_loss': 2.0763402,\n",
      " 'learning_rate': 0.0319999}\n",
      "INFO:tensorflow:Step 1500 per-step time 8.549s\n",
      "I0309 00:13:39.970613 139876942514048 model_lib_v2.py:707] Step 1500 per-step time 8.549s\n",
      "INFO:tensorflow:{'Loss/classification_loss': 0.19427653,\n",
      " 'Loss/localization_loss': 0.10675154,\n",
      " 'Loss/regularization_loss': 1.5465488,\n",
      " 'Loss/total_loss': 1.847577,\n",
      " 'learning_rate': 0.03333325}\n",
      "I0309 00:13:39.971313 139876942514048 model_lib_v2.py:708] {'Loss/classification_loss': 0.19427653,\n",
      " 'Loss/localization_loss': 0.10675154,\n",
      " 'Loss/regularization_loss': 1.5465488,\n",
      " 'Loss/total_loss': 1.847577,\n",
      " 'learning_rate': 0.03333325}\n",
      "INFO:tensorflow:Step 1600 per-step time 8.563s\n",
      "I0309 00:27:56.290093 139876942514048 model_lib_v2.py:707] Step 1600 per-step time 8.563s\n",
      "INFO:tensorflow:{'Loss/classification_loss': 0.2689242,\n",
      " 'Loss/localization_loss': 0.21926025,\n",
      " 'Loss/regularization_loss': 1.5070181,\n",
      " 'Loss/total_loss': 1.9952025,\n",
      " 'learning_rate': 0.034666598}\n",
      "I0309 00:27:56.290762 139876942514048 model_lib_v2.py:708] {'Loss/classification_loss': 0.2689242,\n",
      " 'Loss/localization_loss': 0.21926025,\n",
      " 'Loss/regularization_loss': 1.5070181,\n",
      " 'Loss/total_loss': 1.9952025,\n",
      " 'learning_rate': 0.034666598}\n",
      "INFO:tensorflow:Step 1700 per-step time 8.498s\n",
      "I0309 00:42:06.058524 139876942514048 model_lib_v2.py:707] Step 1700 per-step time 8.498s\n",
      "INFO:tensorflow:{'Loss/classification_loss': 0.21180324,\n",
      " 'Loss/localization_loss': 0.18982975,\n",
      " 'Loss/regularization_loss': 1.4669771,\n",
      " 'Loss/total_loss': 1.86861,\n",
      " 'learning_rate': 0.03599995}\n",
      "I0309 00:42:06.059262 139876942514048 model_lib_v2.py:708] {'Loss/classification_loss': 0.21180324,\n",
      " 'Loss/localization_loss': 0.18982975,\n",
      " 'Loss/regularization_loss': 1.4669771,\n",
      " 'Loss/total_loss': 1.86861,\n",
      " 'learning_rate': 0.03599995}\n",
      "INFO:tensorflow:Step 1800 per-step time 8.495s\n",
      "I0309 00:56:15.548521 139876942514048 model_lib_v2.py:707] Step 1800 per-step time 8.495s\n",
      "INFO:tensorflow:{'Loss/classification_loss': 0.20571083,\n",
      " 'Loss/localization_loss': 0.14886673,\n",
      " 'Loss/regularization_loss': 1.4264948,\n",
      " 'Loss/total_loss': 1.7810724,\n",
      " 'learning_rate': 0.037333302}\n",
      "I0309 00:56:15.548935 139876942514048 model_lib_v2.py:708] {'Loss/classification_loss': 0.20571083,\n",
      " 'Loss/localization_loss': 0.14886673,\n",
      " 'Loss/regularization_loss': 1.4264948,\n",
      " 'Loss/total_loss': 1.7810724,\n",
      " 'learning_rate': 0.037333302}\n",
      "INFO:tensorflow:Step 1900 per-step time 8.543s\n",
      "I0309 01:10:29.824990 139876942514048 model_lib_v2.py:707] Step 1900 per-step time 8.543s\n",
      "INFO:tensorflow:{'Loss/classification_loss': 0.2185363,\n",
      " 'Loss/localization_loss': 0.12849715,\n",
      " 'Loss/regularization_loss': 1.3857983,\n",
      " 'Loss/total_loss': 1.7328317,\n",
      " 'learning_rate': 0.03866665}\n",
      "I0309 01:10:29.825727 139876942514048 model_lib_v2.py:708] {'Loss/classification_loss': 0.2185363,\n",
      " 'Loss/localization_loss': 0.12849715,\n",
      " 'Loss/regularization_loss': 1.3857983,\n",
      " 'Loss/total_loss': 1.7328317,\n",
      " 'learning_rate': 0.03866665}\n",
      "INFO:tensorflow:Step 2000 per-step time 8.521s\n",
      "I0309 01:24:41.974563 139876942514048 model_lib_v2.py:707] Step 2000 per-step time 8.521s\n",
      "INFO:tensorflow:{'Loss/classification_loss': 0.21026337,\n",
      " 'Loss/localization_loss': 0.1439084,\n",
      " 'Loss/regularization_loss': 1.3448422,\n",
      " 'Loss/total_loss': 1.699014,\n",
      " 'learning_rate': 0.04}\n",
      "I0309 01:24:41.974983 139876942514048 model_lib_v2.py:708] {'Loss/classification_loss': 0.21026337,\n",
      " 'Loss/localization_loss': 0.1439084,\n",
      " 'Loss/regularization_loss': 1.3448422,\n",
      " 'Loss/total_loss': 1.699014,\n",
      " 'learning_rate': 0.04}\n",
      "INFO:tensorflow:Step 2100 per-step time 8.489s\n",
      "I0309 01:38:50.841439 139876942514048 model_lib_v2.py:707] Step 2100 per-step time 8.489s\n",
      "INFO:tensorflow:{'Loss/classification_loss': 0.18506244,\n",
      " 'Loss/localization_loss': 0.09675277,\n",
      " 'Loss/regularization_loss': 1.3056688,\n",
      " 'Loss/total_loss': 1.587484,\n",
      " 'learning_rate': 0.03618034}\n",
      "I0309 01:38:50.841902 139876942514048 model_lib_v2.py:708] {'Loss/classification_loss': 0.18506244,\n",
      " 'Loss/localization_loss': 0.09675277,\n",
      " 'Loss/regularization_loss': 1.3056688,\n",
      " 'Loss/total_loss': 1.587484,\n",
      " 'learning_rate': 0.03618034}\n",
      "INFO:tensorflow:Step 2200 per-step time 8.476s\n",
      "I0309 01:52:58.488717 139876942514048 model_lib_v2.py:707] Step 2200 per-step time 8.476s\n",
      "INFO:tensorflow:{'Loss/classification_loss': 0.22256334,\n",
      " 'Loss/localization_loss': 0.15406916,\n",
      " 'Loss/regularization_loss': 1.2734107,\n",
      " 'Loss/total_loss': 1.6500432,\n",
      " 'learning_rate': 0.026180338}\n",
      "I0309 01:52:58.489109 139876942514048 model_lib_v2.py:708] {'Loss/classification_loss': 0.22256334,\n",
      " 'Loss/localization_loss': 0.15406916,\n",
      " 'Loss/regularization_loss': 1.2734107,\n",
      " 'Loss/total_loss': 1.6500432,\n",
      " 'learning_rate': 0.026180338}\n",
      "INFO:tensorflow:Step 2300 per-step time 8.504s\n",
      "I0309 02:07:08.908893 139876942514048 model_lib_v2.py:707] Step 2300 per-step time 8.504s\n",
      "INFO:tensorflow:{'Loss/classification_loss': 0.14840615,\n",
      " 'Loss/localization_loss': 0.1051242,\n",
      " 'Loss/regularization_loss': 1.2534411,\n",
      " 'Loss/total_loss': 1.5069715,\n",
      " 'learning_rate': 0.013819658}\n",
      "I0309 02:07:08.909357 139876942514048 model_lib_v2.py:708] {'Loss/classification_loss': 0.14840615,\n",
      " 'Loss/localization_loss': 0.1051242,\n",
      " 'Loss/regularization_loss': 1.2534411,\n",
      " 'Loss/total_loss': 1.5069715,\n",
      " 'learning_rate': 0.013819658}\n",
      "INFO:tensorflow:Step 2400 per-step time 8.622s\n",
      "I0309 02:21:31.102689 139876942514048 model_lib_v2.py:707] Step 2400 per-step time 8.622s\n",
      "INFO:tensorflow:{'Loss/classification_loss': 0.17222655,\n",
      " 'Loss/localization_loss': 0.121456094,\n",
      " 'Loss/regularization_loss': 1.2440778,\n",
      " 'Loss/total_loss': 1.5377605,\n",
      " 'learning_rate': 0.0038196587}\n",
      "I0309 02:21:31.103082 139876942514048 model_lib_v2.py:708] {'Loss/classification_loss': 0.17222655,\n",
      " 'Loss/localization_loss': 0.121456094,\n",
      " 'Loss/regularization_loss': 1.2440778,\n",
      " 'Loss/total_loss': 1.5377605,\n",
      " 'learning_rate': 0.0038196587}\n",
      "INFO:tensorflow:Step 2500 per-step time 8.456s\n",
      "I0309 02:35:36.678460 139876942514048 model_lib_v2.py:707] Step 2500 per-step time 8.456s\n",
      "INFO:tensorflow:{'Loss/classification_loss': 0.17440641,\n",
      " 'Loss/localization_loss': 0.08101623,\n",
      " 'Loss/regularization_loss': 1.2423317,\n",
      " 'Loss/total_loss': 1.4977543,\n",
      " 'learning_rate': 0.0}\n",
      "I0309 02:35:36.678875 139876942514048 model_lib_v2.py:708] {'Loss/classification_loss': 0.17440641,\n",
      " 'Loss/localization_loss': 0.08101623,\n",
      " 'Loss/regularization_loss': 1.2423317,\n",
      " 'Loss/total_loss': 1.4977543,\n",
      " 'learning_rate': 0.0}\n"
     ]
    }
   ],
   "source": [
    "!python model_main_tf2.py --model_dir=/content/drive/MyDrive/Vehicle_identification_model/workspace/vehicle_folder/Vehicle-detection-model/models/my_ssd_resnet50_v1_fpn_640x640_coco17_tpu-8 --pipeline_config_path=/content/drive/MyDrive/Vehicle_identification_model/workspace/vehicle_folder/Vehicle-detection-model/models/my_ssd_resnet50_v1_fpn_640x640_coco17_tpu-8/pipeline.config"
   ]
  },
  {
   "cell_type": "markdown",
   "metadata": {
    "id": "IxLqz-c79XTe"
   },
   "source": [
    "## TEST / TENSORBOARD METRICS\n",
    "\n"
   ]
  },
  {
   "cell_type": "code",
   "execution_count": 22,
   "metadata": {
    "colab": {
     "base_uri": "https://localhost:8080/"
    },
    "id": "39rtgIy6f06v",
    "outputId": "5cc72569-1ada-4ad1-a2ee-2b5ba944b656"
   },
   "outputs": [
    {
     "name": "stdout",
     "output_type": "stream",
     "text": [
      "/bin/bash: activate: command not found\n"
     ]
    }
   ],
   "source": [
    "!activate tensorflow_gpu"
   ]
  },
  {
   "cell_type": "code",
   "execution_count": 5,
   "metadata": {},
   "outputs": [
    {
     "ename": "SyntaxError",
     "evalue": "invalid syntax (Temp/ipykernel_4768/1340418509.py, line 1)",
     "output_type": "error",
     "traceback": [
      "\u001b[1;36m  File \u001b[1;32m\"C:\\Users\\AMALIT~1\\AppData\\Local\\Temp/ipykernel_4768/1340418509.py\"\u001b[1;36m, line \u001b[1;32m1\u001b[0m\n\u001b[1;33m    tensorboard dev upload --logdir \\\u001b[0m\n\u001b[1;37m                ^\u001b[0m\n\u001b[1;31mSyntaxError\u001b[0m\u001b[1;31m:\u001b[0m invalid syntax\n"
     ]
    }
   ],
   "source": [
    "%tensorboard dev upload --logdir \\\n",
    "    'C:\\Users\\Amalitech\\Desktop\\my_ssd_resnet50_v1_fpn_640x640_coco17_tpu-8'"
   ]
  },
  {
   "cell_type": "code",
   "execution_count": 4,
   "metadata": {
    "colab": {
     "base_uri": "https://localhost:8080/"
    },
    "id": "Ga1--ohngEOF",
    "outputId": "e8f2f22c-a39b-4bdd-c73f-b677d411a100"
   },
   "outputs": [
    {
     "name": "stderr",
     "output_type": "stream",
     "text": [
      "UsageError: Line magic function `%tensorboard` not found.\n"
     ]
    }
   ],
   "source": [
    "%tensorboard --logdir=C:\\Users\\Amalitech\\Desktop\\my_ssd_resnet50_v1_fpn_640x640_coco17_tpu-8"
   ]
  },
  {
   "cell_type": "code",
   "execution_count": 25,
   "metadata": {
    "colab": {
     "base_uri": "https://localhost:8080/"
    },
    "id": "CSyuKr7Ag3Wk",
    "outputId": "f70cfc7a-b522-417c-a581-86573d9c697b"
   },
   "outputs": [
    {
     "name": "stdout",
     "output_type": "stream",
     "text": [
      "/bin/bash: TensorBoard: command not found\n"
     ]
    }
   ],
   "source": [
    "!TensorBoard 2.2.2 at http://localhost:6006/"
   ]
  },
  {
   "cell_type": "code",
   "execution_count": 26,
   "metadata": {
    "colab": {
     "base_uri": "https://localhost:8080/"
    },
    "id": "7EpYCk0cLhAV",
    "outputId": "a96d374f-a7f4-4b4b-a95a-840676f0cf37"
   },
   "outputs": [
    {
     "name": "stdout",
     "output_type": "stream",
     "text": [
      "/content/drive/MyDrive/Vehicle_identification_model/workspace/vehicle_folder/Vehicle-detection-model/training\n"
     ]
    }
   ],
   "source": [
    "cd /content/drive/MyDrive/Vehicle_identification_model/workspace/vehicle_folder/Vehicle-detection-model/training"
   ]
  },
  {
   "cell_type": "code",
   "execution_count": 29,
   "metadata": {
    "colab": {
     "base_uri": "https://localhost:8080/"
    },
    "id": "ygJ4vv5yLpdD",
    "outputId": "a0686090-c639-4ea6-df70-a7e4d0c01c51"
   },
   "outputs": [
    {
     "name": "stdout",
     "output_type": "stream",
     "text": [
      "2022-03-09 05:41:51.644180: E tensorflow/stream_executor/cuda/cuda_driver.cc:271] failed call to cuInit: CUDA_ERROR_NO_DEVICE: no CUDA-capable device is detected\n",
      "WARNING:tensorflow:From /usr/local/lib/python3.7/dist-packages/tensorflow/python/autograph/impl/api.py:458: calling map_fn_v2 (from tensorflow.python.ops.map_fn) with back_prop=False is deprecated and will be removed in a future version.\n",
      "Instructions for updating:\n",
      "back_prop=False is deprecated. Consider using tf.stop_gradient instead.\n",
      "Instead of:\n",
      "results = tf.map_fn(fn, elems, back_prop=False)\n",
      "Use:\n",
      "results = tf.nest.map_structure(tf.stop_gradient, tf.map_fn(fn, elems))\n",
      "W0309 05:41:51.952073 140608805230464 deprecation.py:615] From /usr/local/lib/python3.7/dist-packages/tensorflow/python/autograph/impl/api.py:458: calling map_fn_v2 (from tensorflow.python.ops.map_fn) with back_prop=False is deprecated and will be removed in a future version.\n",
      "Instructions for updating:\n",
      "back_prop=False is deprecated. Consider using tf.stop_gradient instead.\n",
      "Instead of:\n",
      "results = tf.map_fn(fn, elems, back_prop=False)\n",
      "Use:\n",
      "results = tf.nest.map_structure(tf.stop_gradient, tf.map_fn(fn, elems))\n",
      "2022-03-09 05:42:09.997613: W tensorflow/python/util/util.cc:368] Sets are not currently considered sequences, but this may change in the future, so consider avoiding using them.\n",
      "WARNING:tensorflow:Skipping full serialization of Keras layer <object_detection.meta_architectures.ssd_meta_arch.SSDMetaArch object at 0x7fe0af5097d0>, because it is not built.\n",
      "W0309 05:42:13.085827 140608805230464 save_impl.py:72] Skipping full serialization of Keras layer <object_detection.meta_architectures.ssd_meta_arch.SSDMetaArch object at 0x7fe0af5097d0>, because it is not built.\n",
      "W0309 05:42:31.805824 140608805230464 save.py:265] Found untraced functions such as WeightSharedConvolutionalBoxPredictor_layer_call_fn, WeightSharedConvolutionalBoxPredictor_layer_call_and_return_conditional_losses, WeightSharedConvolutionalBoxHead_layer_call_fn, WeightSharedConvolutionalBoxHead_layer_call_and_return_conditional_losses, WeightSharedConvolutionalClassHead_layer_call_fn while saving (showing 5 of 208). These functions will not be directly callable after loading.\n",
      "INFO:tensorflow:Assets written to: /content/drive/MyDrive/Vehicle_identification_model/workspace/vehicle_folder/Vehicle-detection-model/exported_models/my_model/saved_model/assets\n",
      "I0309 05:42:38.397092 140608805230464 builder_impl.py:780] Assets written to: /content/drive/MyDrive/Vehicle_identification_model/workspace/vehicle_folder/Vehicle-detection-model/exported_models/my_model/saved_model/assets\n",
      "INFO:tensorflow:Writing pipeline config file to /content/drive/MyDrive/Vehicle_identification_model/workspace/vehicle_folder/Vehicle-detection-model/exported_models/my_model/pipeline.config\n",
      "I0309 05:42:39.038413 140608805230464 config_util.py:254] Writing pipeline config file to /content/drive/MyDrive/Vehicle_identification_model/workspace/vehicle_folder/Vehicle-detection-model/exported_models/my_model/pipeline.config\n"
     ]
    }
   ],
   "source": [
    "!python exporter_main_v2.py --input_type image_tensor --pipeline_config_path /content/drive/MyDrive/Vehicle_identification_model/workspace/vehicle_folder/Vehicle-detection-model/models/my_ssd_resnet50_v1_fpn_640x640_coco17_tpu-8/pipeline.config --trained_checkpoint_dir /content/drive/MyDrive/Vehicle_identification_model/workspace/vehicle_folder/Vehicle-detection-model/models/my_ssd_resnet50_v1_fpn_640x640_coco17_tpu-8 --output_directory /content/drive/MyDrive/Vehicle_identification_model/workspace/vehicle_folder/Vehicle-detection-model/exported_models/my_model"
   ]
  }
 ],
 "metadata": {
  "accelerator": "TPU",
  "colab": {
   "include_colab_link": true,
   "machine_shape": "hm",
   "name": "base-code",
   "provenance": []
  },
  "kernelspec": {
   "display_name": "Python 3",
   "language": "python",
   "name": "python3"
  },
  "language_info": {
   "codemirror_mode": {
    "name": "ipython",
    "version": 3
   },
   "file_extension": ".py",
   "mimetype": "text/x-python",
   "name": "python",
   "nbconvert_exporter": "python",
   "pygments_lexer": "ipython3",
   "version": "3.8.8"
  }
 },
 "nbformat": 4,
 "nbformat_minor": 1
}
