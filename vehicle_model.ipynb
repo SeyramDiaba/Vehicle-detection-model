{
  "nbformat": 4,
  "nbformat_minor": 0,
  "metadata": {
    "colab": {
      "name": "vehicle model.ipynb",
      "provenance": [],
      "mount_file_id": "1CJuWsc-uqzh0ayWd8EwZjH0Mj8Z59xzr",
      "authorship_tag": "ABX9TyMLk/jhhJRIHSe7Y4QWf/ew"
    },
    "kernelspec": {
      "name": "python3",
      "display_name": "Python 3"
    },
    "language_info": {
      "name": "python"
    }
  },
  "cells": [
    {
      "cell_type": "code",
      "execution_count": null,
      "metadata": {
        "id": "NUmeNS74IyTZ"
      },
      "outputs": [],
      "source": [
        ""
      ]
    }
  ]
}