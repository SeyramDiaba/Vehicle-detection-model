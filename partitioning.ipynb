{
  "nbformat": 4,
  "nbformat_minor": 0,
  "metadata": {
    "colab": {
      "name": "partitioning.ipynb",
      "provenance": [],
      "authorship_tag": "ABX9TyMEkLIzLwfj9aEQ08TkfcIA",
      "include_colab_link": true
    },
    "kernelspec": {
      "name": "python3",
      "display_name": "Python 3"
    },
    "language_info": {
      "name": "python"
    }
  },
  "cells": [
    {
      "cell_type": "markdown",
      "metadata": {
        "id": "view-in-github",
        "colab_type": "text"
      },
      "source": [
        "<a href=\"https://colab.research.google.com/github/jean-on-hub/Vehicle-detection-model/blob/csv-to-tfrecords/partitioning.ipynb\" target=\"_parent\"><img src=\"https://colab.research.google.com/assets/colab-badge.svg\" alt=\"Open In Colab\"/></a>"
      ]
    },
    {
      "cell_type": "code",
      "source": [
        "import os\n",
        "import shutil\n",
        "import random"
      ],
      "metadata": {
        "id": "HRcbHXQeB1-c"
      },
      "execution_count": 31,
      "outputs": []
    },
    {
      "cell_type": "code",
      "execution_count": 1,
      "metadata": {
        "colab": {
          "base_uri": "https://localhost:8080/"
        },
        "id": "9JzlG80s8qCU",
        "outputId": "c41a3536-bce7-4044-a721-729e56d465f2"
      },
      "outputs": [
        {
          "output_type": "stream",
          "name": "stdout",
          "text": [
            "Cloning into 'Vehicle-detection-model'...\n",
            "remote: Enumerating objects: 1313, done.\u001b[K\n",
            "remote: Counting objects: 100% (1313/1313), done.\u001b[K\n",
            "remote: Compressing objects: 100% (1192/1192), done.\u001b[K\n",
            "remote: Total 1313 (delta 148), reused 1255 (delta 115), pack-reused 0\u001b[K\n",
            "Receiving objects: 100% (1313/1313), 103.65 MiB | 13.85 MiB/s, done.\n",
            "Resolving deltas: 100% (148/148), done.\n"
          ]
        }
      ],
      "source": [
        "!git clone https://github.com/jean-on-hub/Vehicle-detection-model.git"
      ]
    },
    {
      "cell_type": "code",
      "source": [
        "!cd Vehicle-detection-model && git checkout csv-to-tfrecords"
      ],
      "metadata": {
        "colab": {
          "base_uri": "https://localhost:8080/"
        },
        "id": "bYj3M5zr9Pz6",
        "outputId": "e5c44f92-99df-4494-87af-b0c746b719ff"
      },
      "execution_count": 2,
      "outputs": [
        {
          "output_type": "stream",
          "name": "stdout",
          "text": [
            "Branch 'csv-to-tfrecords' set up to track remote branch 'csv-to-tfrecords' from 'origin'.\n",
            "Switched to a new branch 'csv-to-tfrecords'\n"
          ]
        }
      ]
    },
    {
      "cell_type": "code",
      "source": [
        "import pandas as pd\n",
        "bounded_images = pd.read_csv(\"/content/Vehicle-detection-model/train_solution_bounding_boxes (1).csv\")\n",
        "print(bounded_images.head())"
      ],
      "metadata": {
        "colab": {
          "base_uri": "https://localhost:8080/"
        },
        "id": "ucbFcxLi_i6K",
        "outputId": "da13cf4e-ea46-4bd7-e714-92b1c2f903fd"
      },
      "execution_count": 24,
      "outputs": [
        {
          "output_type": "stream",
          "name": "stdout",
          "text": [
            "             image        xmin        ymin        xmax        ymax\n",
            "0   vid_4_1000.jpg  281.259045  187.035071  327.727931  223.225547\n",
            "1  vid_4_10000.jpg   15.163531  187.035071  120.329957  236.430180\n",
            "2  vid_4_10040.jpg  239.192475  176.764801  361.968162  236.430180\n",
            "3  vid_4_10020.jpg  496.483358  172.363256  630.020260  231.539575\n",
            "4  vid_4_10060.jpg   16.630970  186.546010  132.558611  238.386422\n"
          ]
        }
      ]
    },
    {
      "cell_type": "code",
      "source": [
        "bounded_files = list(bounded_images[\"image\"])\n",
        "print(bounded_files)\n",
        "bounded_non_dup = []  #Contains file names with no duplicates\n",
        "for filename in bounded_files:\n",
        "  if filename not in bounded_non_dup:\n",
        "    bounded_non_dup.append(filename)\n",
        "print(bounded_non_dup)\n",
        "print(len(bounded_non_dup))"
      ],
      "metadata": {
        "colab": {
          "base_uri": "https://localhost:8080/"
        },
        "id": "hwrYKt_XBcMw",
        "outputId": "076a2431-8d08-4ca7-e449-5bb09f0a46ad"
      },
      "execution_count": 45,
      "outputs": [
        {
          "output_type": "stream",
          "name": "stdout",
          "text": [
            "['vid_4_1000.jpg', 'vid_4_10000.jpg', 'vid_4_10040.jpg', 'vid_4_10020.jpg', 'vid_4_10060.jpg', 'vid_4_10100.jpg', 'vid_4_10120.jpg', 'vid_4_10140.jpg', 'vid_4_1020.jpg', 'vid_4_1040.jpg', 'vid_4_10480.jpg', 'vid_4_10500.jpg', 'vid_4_10520.jpg', 'vid_4_1060.jpg', 'vid_4_10960.jpg', 'vid_4_10980.jpg', 'vid_4_11000.jpg', 'vid_4_11020.jpg', 'vid_4_11240.jpg', 'vid_4_11260.jpg', 'vid_4_11280.jpg', 'vid_4_11380.jpg', 'vid_4_11400.jpg', 'vid_4_11420.jpg', 'vid_4_11440.jpg', 'vid_4_11900.jpg', 'vid_4_11880.jpg', 'vid_4_11920.jpg', 'vid_4_11940.jpg', 'vid_4_11960.jpg', 'vid_4_11980.jpg', 'vid_4_12000.jpg', 'vid_4_12040.jpg', 'vid_4_12100.jpg', 'vid_4_12060.jpg', 'vid_4_12080.jpg', 'vid_4_12120.jpg', 'vid_4_12140.jpg', 'vid_4_12140.jpg', 'vid_4_12160.jpg', 'vid_4_12160.jpg', 'vid_4_12160.jpg', 'vid_4_12180.jpg', 'vid_4_12180.jpg', 'vid_4_12180.jpg', 'vid_4_12200.jpg', 'vid_4_12200.jpg', 'vid_4_12220.jpg', 'vid_4_12240.jpg', 'vid_4_12240.jpg', 'vid_4_12260.jpg', 'vid_4_12260.jpg', 'vid_4_12280.jpg', 'vid_4_12280.jpg', 'vid_4_12300.jpg', 'vid_4_12300.jpg', 'vid_4_12300.jpg', 'vid_4_12300.jpg', 'vid_4_12320.jpg', 'vid_4_12320.jpg', 'vid_4_12320.jpg', 'vid_4_12340.jpg', 'vid_4_12340.jpg', 'vid_4_12340.jpg', 'vid_4_12360.jpg', 'vid_4_12360.jpg', 'vid_4_12380.jpg', 'vid_4_12480.jpg', 'vid_4_13580.jpg', 'vid_4_13620.jpg', 'vid_4_13640.jpg', 'vid_4_13640.jpg', 'vid_4_13660.jpg', 'vid_4_13660.jpg', 'vid_4_13680.jpg', 'vid_4_13680.jpg', 'vid_4_13680.jpg', 'vid_4_13700.jpg', 'vid_4_13700.jpg', 'vid_4_13700.jpg', 'vid_4_13700.jpg', 'vid_4_13720.jpg', 'vid_4_13720.jpg', 'vid_4_13720.jpg', 'vid_4_13740.jpg', 'vid_4_13740.jpg', 'vid_4_13760.jpg', 'vid_4_13760.jpg', 'vid_4_13760.jpg', 'vid_4_13780.jpg', 'vid_4_13780.jpg', 'vid_4_13800.jpg', 'vid_4_13800.jpg', 'vid_4_13840.jpg', 'vid_4_13840.jpg', 'vid_4_13820.jpg', 'vid_4_13820.jpg', 'vid_4_13820.jpg', 'vid_4_13860.jpg', 'vid_4_13860.jpg', 'vid_4_13860.jpg', 'vid_4_13900.jpg', 'vid_4_13880.jpg', 'vid_4_13880.jpg', 'vid_4_13920.jpg', 'vid_4_14140.jpg', 'vid_4_14160.jpg', 'vid_4_14360.jpg', 'vid_4_14340.jpg', 'vid_4_14380.jpg', 'vid_4_14400.jpg', 'vid_4_14460.jpg', 'vid_4_14440.jpg', 'vid_4_14480.jpg', 'vid_4_14500.jpg', 'vid_4_15000.jpg', 'vid_4_15020.jpg', 'vid_4_15040.jpg', 'vid_4_16000.jpg', 'vid_4_16020.jpg', 'vid_4_16040.jpg', 'vid_4_16060.jpg', 'vid_4_16100.jpg', 'vid_4_16120.jpg', 'vid_4_16140.jpg', 'vid_4_16160.jpg', 'vid_4_16180.jpg', 'vid_4_16280.jpg', 'vid_4_16320.jpg', 'vid_4_16300.jpg', 'vid_4_16400.jpg', 'vid_4_16420.jpg', 'vid_4_16500.jpg', 'vid_4_16660.jpg', 'vid_4_16680.jpg', 'vid_4_16700.jpg', 'vid_4_16720.jpg', 'vid_4_17040.jpg', 'vid_4_17060.jpg', 'vid_4_17080.jpg', 'vid_4_17100.jpg', 'vid_4_17140.jpg', 'vid_4_17140.jpg', 'vid_4_17120.jpg', 'vid_4_17160.jpg', 'vid_4_17180.jpg', 'vid_4_17240.jpg', 'vid_4_17260.jpg', 'vid_4_17320.jpg', 'vid_4_17340.jpg', 'vid_4_17340.jpg', 'vid_4_17360.jpg', 'vid_4_17400.jpg', 'vid_4_17440.jpg', 'vid_4_17420.jpg', 'vid_4_17560.jpg', 'vid_4_17560.jpg', 'vid_4_17560.jpg', 'vid_4_17540.jpg', 'vid_4_17540.jpg', 'vid_4_17580.jpg', 'vid_4_17580.jpg', 'vid_4_1760.jpg', 'vid_4_17600.jpg', 'vid_4_17620.jpg', 'vid_4_17620.jpg', 'vid_4_17640.jpg', 'vid_4_17640.jpg', 'vid_4_17660.jpg', 'vid_4_17660.jpg', 'vid_4_17680.jpg', 'vid_4_1780.jpg', 'vid_4_1780.jpg', 'vid_4_1800.jpg', 'vid_4_1800.jpg', 'vid_4_1800.jpg', 'vid_4_18180.jpg', 'vid_4_1820.jpg', 'vid_4_1820.jpg', 'vid_4_18200.jpg', 'vid_4_18320.jpg', 'vid_4_18360.jpg', 'vid_4_18340.jpg', 'vid_4_1840.jpg', 'vid_4_1840.jpg', 'vid_4_1860.jpg', 'vid_4_1860.jpg', 'vid_4_1860.jpg', 'vid_4_1880.jpg', 'vid_4_1880.jpg', 'vid_4_1880.jpg', 'vid_4_18820.jpg', 'vid_4_18840.jpg', 'vid_4_18860.jpg', 'vid_4_18860.jpg', 'vid_4_18880.jpg', 'vid_4_1900.jpg', 'vid_4_19040.jpg', 'vid_4_19060.jpg', 'vid_4_19080.jpg', 'vid_4_1920.jpg', 'vid_4_1920.jpg', 'vid_4_1940.jpg', 'vid_4_1940.jpg', 'vid_4_1960.jpg', 'vid_4_1960.jpg', 'vid_4_19760.jpg', 'vid_4_19780.jpg', 'vid_4_19740.jpg', 'vid_4_1980.jpg', 'vid_4_1980.jpg', 'vid_4_1980.jpg', 'vid_4_19880.jpg', 'vid_4_19900.jpg', 'vid_4_19920.jpg', 'vid_4_2000.jpg', 'vid_4_2000.jpg', 'vid_4_2000.jpg', 'vid_4_2000.jpg', 'vid_4_2000.jpg', 'vid_4_2020.jpg', 'vid_4_2020.jpg', 'vid_4_2020.jpg', 'vid_4_2020.jpg', 'vid_4_2040.jpg', 'vid_4_2040.jpg', 'vid_4_2040.jpg', 'vid_4_2040.jpg', 'vid_4_2060.jpg', 'vid_4_2060.jpg', 'vid_4_2060.jpg', 'vid_4_2060.jpg', 'vid_4_2080.jpg', 'vid_4_2080.jpg', 'vid_4_2080.jpg', 'vid_4_2080.jpg', 'vid_4_2100.jpg', 'vid_4_2100.jpg', 'vid_4_2100.jpg', 'vid_4_21160.jpg', 'vid_4_21180.jpg', 'vid_4_2120.jpg', 'vid_4_2120.jpg', 'vid_4_2120.jpg', 'vid_4_21200.jpg', 'vid_4_21220.jpg', 'vid_4_21240.jpg', 'vid_4_21240.jpg', 'vid_4_21260.jpg', 'vid_4_21260.jpg', 'vid_4_21280.jpg', 'vid_4_21300.jpg', 'vid_4_21320.jpg', 'vid_4_2140.jpg', 'vid_4_2140.jpg', 'vid_4_2140.jpg', 'vid_4_21420.jpg', 'vid_4_21400.jpg', 'vid_4_21440.jpg', 'vid_4_21480.jpg', 'vid_4_21480.jpg', 'vid_4_21500.jpg', 'vid_4_21500.jpg', 'vid_4_21520.jpg', 'vid_4_21560.jpg', 'vid_4_21560.jpg', 'vid_4_21540.jpg', 'vid_4_21580.jpg', 'vid_4_21620.jpg', 'vid_4_21600.jpg', 'vid_4_21640.jpg', 'vid_4_21640.jpg', 'vid_4_2160.jpg', 'vid_4_2160.jpg', 'vid_4_2160.jpg', 'vid_4_21660.jpg', 'vid_4_21680.jpg', 'vid_4_2180.jpg', 'vid_4_2200.jpg', 'vid_4_22240.jpg', 'vid_4_22220.jpg', 'vid_4_22560.jpg', 'vid_4_22540.jpg', 'vid_4_22580.jpg', 'vid_4_22640.jpg', 'vid_4_22660.jpg', 'vid_4_22700.jpg', 'vid_4_22720.jpg', 'vid_4_22740.jpg', 'vid_4_22980.jpg', 'vid_4_23000.jpg', 'vid_4_23020.jpg', 'vid_4_2380.jpg', 'vid_4_2400.jpg', 'vid_4_2420.jpg', 'vid_4_24760.jpg', 'vid_4_2520.jpg', 'vid_4_2540.jpg', 'vid_4_26300.jpg', 'vid_4_26320.jpg', 'vid_4_26320.jpg', 'vid_4_26340.jpg', 'vid_4_26340.jpg', 'vid_4_26340.jpg', 'vid_4_26360.jpg', 'vid_4_26360.jpg', 'vid_4_26360.jpg', 'vid_4_26360.jpg', 'vid_4_26380.jpg', 'vid_4_26380.jpg', 'vid_4_26380.jpg', 'vid_4_26380.jpg', 'vid_4_26380.jpg', 'vid_4_26420.jpg', 'vid_4_26420.jpg', 'vid_4_26420.jpg', 'vid_4_26420.jpg', 'vid_4_26420.jpg', 'vid_4_26400.jpg', 'vid_4_26400.jpg', 'vid_4_26400.jpg', 'vid_4_26400.jpg', 'vid_4_26400.jpg', 'vid_4_26440.jpg', 'vid_4_26440.jpg', 'vid_4_26440.jpg', 'vid_4_26440.jpg', 'vid_4_26440.jpg', 'vid_4_26480.jpg', 'vid_4_26480.jpg', 'vid_4_26480.jpg', 'vid_4_26480.jpg', 'vid_4_26500.jpg', 'vid_4_26500.jpg', 'vid_4_26500.jpg', 'vid_4_26500.jpg', 'vid_4_26460.jpg', 'vid_4_26460.jpg', 'vid_4_26460.jpg', 'vid_4_26460.jpg', 'vid_4_26460.jpg', 'vid_4_26460.jpg', 'vid_4_26460.jpg', 'vid_4_26520.jpg', 'vid_4_26520.jpg', 'vid_4_26520.jpg', 'vid_4_26540.jpg', 'vid_4_26540.jpg', 'vid_4_26560.jpg', 'vid_4_26580.jpg', 'vid_4_28220.jpg', 'vid_4_28220.jpg', 'vid_4_28200.jpg', 'vid_4_28200.jpg', 'vid_4_28240.jpg', 'vid_4_28440.jpg', 'vid_4_28840.jpg', 'vid_4_28820.jpg', 'vid_4_28880.jpg', 'vid_4_28860.jpg', 'vid_4_29460.jpg', 'vid_4_29480.jpg', 'vid_4_29500.jpg', 'vid_4_29520.jpg', 'vid_4_29520.jpg', 'vid_4_29540.jpg', 'vid_4_29560.jpg', 'vid_4_29880.jpg', 'vid_4_29880.jpg', 'vid_4_29880.jpg', 'vid_4_29880.jpg', 'vid_4_29900.jpg', 'vid_4_29900.jpg', 'vid_4_29900.jpg', 'vid_4_29920.jpg', 'vid_4_29920.jpg', 'vid_4_29920.jpg', 'vid_4_29920.jpg', 'vid_4_29940.jpg', 'vid_4_29940.jpg', 'vid_4_29940.jpg', 'vid_4_30000.jpg', 'vid_4_30000.jpg', 'vid_4_29980.jpg', 'vid_4_29960.jpg', 'vid_4_29960.jpg', 'vid_4_29960.jpg', 'vid_4_30020.jpg', 'vid_4_30020.jpg', 'vid_4_30440.jpg', 'vid_4_3120.jpg', 'vid_4_3160.jpg', 'vid_4_3160.jpg', 'vid_4_3140.jpg', 'vid_4_3180.jpg', 'vid_4_3180.jpg', 'vid_4_3200.jpg', 'vid_4_3220.jpg', 'vid_4_3240.jpg', 'vid_4_3260.jpg', 'vid_4_3380.jpg', 'vid_4_3360.jpg', 'vid_4_3340.jpg', 'vid_4_3440.jpg', 'vid_4_3460.jpg', 'vid_4_3520.jpg', 'vid_4_3540.jpg', 'vid_4_3560.jpg', 'vid_4_3820.jpg', 'vid_4_3800.jpg', 'vid_4_3840.jpg', 'vid_4_4540.jpg', 'vid_4_4520.jpg', 'vid_4_4560.jpg', 'vid_4_600.jpg', 'vid_4_6160.jpg', 'vid_4_6160.jpg', 'vid_4_6180.jpg', 'vid_4_6180.jpg', 'vid_4_6200.jpg', 'vid_4_6200.jpg', 'vid_4_620.jpg', 'vid_4_6220.jpg', 'vid_4_6220.jpg', 'vid_4_6220.jpg', 'vid_4_6220.jpg', 'vid_4_6240.jpg', 'vid_4_6240.jpg', 'vid_4_6240.jpg', 'vid_4_6240.jpg', 'vid_4_6240.jpg', 'vid_4_6240.jpg', 'vid_4_6260.jpg', 'vid_4_6260.jpg', 'vid_4_6260.jpg', 'vid_4_6260.jpg', 'vid_4_6260.jpg', 'vid_4_6280.jpg', 'vid_4_6280.jpg', 'vid_4_6280.jpg', 'vid_4_6280.jpg', 'vid_4_6280.jpg', 'vid_4_6320.jpg', 'vid_4_6320.jpg', 'vid_4_6300.jpg', 'vid_4_6300.jpg', 'vid_4_6300.jpg', 'vid_4_6300.jpg', 'vid_4_6340.jpg', 'vid_4_6340.jpg', 'vid_4_6360.jpg', 'vid_4_6360.jpg', 'vid_4_6380.jpg', 'vid_4_6380.jpg', 'vid_4_6400.jpg', 'vid_4_6400.jpg', 'vid_4_6420.jpg', 'vid_4_6420.jpg', 'vid_4_6420.jpg', 'vid_4_6440.jpg', 'vid_4_6440.jpg', 'vid_4_6440.jpg', 'vid_4_6460.jpg', 'vid_4_6460.jpg', 'vid_4_6480.jpg', 'vid_4_6480.jpg', 'vid_4_6500.jpg', 'vid_4_6520.jpg', 'vid_4_680.jpg', 'vid_4_700.jpg', 'vid_4_700.jpg', 'vid_4_720.jpg', 'vid_4_720.jpg', 'vid_4_740.jpg', 'vid_4_8240.jpg', 'vid_4_8220.jpg', 'vid_4_8260.jpg', 'vid_4_8280.jpg', 'vid_4_8320.jpg', 'vid_4_8340.jpg', 'vid_4_8300.jpg', 'vid_4_8560.jpg', 'vid_4_860.jpg', 'vid_4_8580.jpg', 'vid_4_8600.jpg', 'vid_4_8640.jpg', 'vid_4_8660.jpg', 'vid_4_8680.jpg', 'vid_4_8700.jpg', 'vid_4_8720.jpg', 'vid_4_8740.jpg', 'vid_4_880.jpg', 'vid_4_8960.jpg', 'vid_4_8980.jpg', 'vid_4_9000.jpg', 'vid_4_900.jpg', 'vid_4_9020.jpg', 'vid_4_9040.jpg', 'vid_4_9040.jpg', 'vid_4_9060.jpg', 'vid_4_9060.jpg', 'vid_4_9080.jpg', 'vid_4_9080.jpg', 'vid_4_920.jpg', 'vid_4_9200.jpg', 'vid_4_9220.jpg', 'vid_4_9240.jpg', 'vid_4_9260.jpg', 'vid_4_9260.jpg', 'vid_4_9280.jpg', 'vid_4_9280.jpg', 'vid_4_9300.jpg', 'vid_4_9300.jpg', 'vid_4_9320.jpg', 'vid_4_9320.jpg', 'vid_4_9340.jpg', 'vid_4_940.jpg', 'vid_4_940.jpg', 'vid_4_9420.jpg', 'vid_4_9460.jpg', 'vid_4_9440.jpg', 'vid_4_9500.jpg', 'vid_4_9520.jpg', 'vid_4_9520.jpg', 'vid_4_9540.jpg', 'vid_4_9540.jpg', 'vid_4_9560.jpg', 'vid_4_9560.jpg', 'vid_4_9560.jpg', 'vid_4_9580.jpg', 'vid_4_9580.jpg', 'vid_4_960.jpg', 'vid_4_9600.jpg', 'vid_4_9600.jpg', 'vid_4_9640.jpg', 'vid_4_9640.jpg', 'vid_4_9660.jpg', 'vid_4_9620.jpg', 'vid_4_9620.jpg', 'vid_4_9620.jpg', 'vid_4_9620.jpg', 'vid_4_9720.jpg', 'vid_4_9760.jpg', 'vid_4_9760.jpg', 'vid_4_9760.jpg', 'vid_4_9740.jpg', 'vid_4_9700.jpg', 'vid_4_9780.jpg', 'vid_4_9780.jpg', 'vid_4_980.jpg', 'vid_4_9800.jpg', 'vid_4_9800.jpg', 'vid_4_9820.jpg', 'vid_4_9840.jpg', 'vid_4_9860.jpg', 'vid_4_9880.jpg', 'vid_4_9900.jpg', 'vid_4_9960.jpg', 'vid_4_9980.jpg']\n",
            "['vid_4_1000.jpg', 'vid_4_10000.jpg', 'vid_4_10040.jpg', 'vid_4_10020.jpg', 'vid_4_10060.jpg', 'vid_4_10100.jpg', 'vid_4_10120.jpg', 'vid_4_10140.jpg', 'vid_4_1020.jpg', 'vid_4_1040.jpg', 'vid_4_10480.jpg', 'vid_4_10500.jpg', 'vid_4_10520.jpg', 'vid_4_1060.jpg', 'vid_4_10960.jpg', 'vid_4_10980.jpg', 'vid_4_11000.jpg', 'vid_4_11020.jpg', 'vid_4_11240.jpg', 'vid_4_11260.jpg', 'vid_4_11280.jpg', 'vid_4_11380.jpg', 'vid_4_11400.jpg', 'vid_4_11420.jpg', 'vid_4_11440.jpg', 'vid_4_11900.jpg', 'vid_4_11880.jpg', 'vid_4_11920.jpg', 'vid_4_11940.jpg', 'vid_4_11960.jpg', 'vid_4_11980.jpg', 'vid_4_12000.jpg', 'vid_4_12040.jpg', 'vid_4_12100.jpg', 'vid_4_12060.jpg', 'vid_4_12080.jpg', 'vid_4_12120.jpg', 'vid_4_12140.jpg', 'vid_4_12160.jpg', 'vid_4_12180.jpg', 'vid_4_12200.jpg', 'vid_4_12220.jpg', 'vid_4_12240.jpg', 'vid_4_12260.jpg', 'vid_4_12280.jpg', 'vid_4_12300.jpg', 'vid_4_12320.jpg', 'vid_4_12340.jpg', 'vid_4_12360.jpg', 'vid_4_12380.jpg', 'vid_4_12480.jpg', 'vid_4_13580.jpg', 'vid_4_13620.jpg', 'vid_4_13640.jpg', 'vid_4_13660.jpg', 'vid_4_13680.jpg', 'vid_4_13700.jpg', 'vid_4_13720.jpg', 'vid_4_13740.jpg', 'vid_4_13760.jpg', 'vid_4_13780.jpg', 'vid_4_13800.jpg', 'vid_4_13840.jpg', 'vid_4_13820.jpg', 'vid_4_13860.jpg', 'vid_4_13900.jpg', 'vid_4_13880.jpg', 'vid_4_13920.jpg', 'vid_4_14140.jpg', 'vid_4_14160.jpg', 'vid_4_14360.jpg', 'vid_4_14340.jpg', 'vid_4_14380.jpg', 'vid_4_14400.jpg', 'vid_4_14460.jpg', 'vid_4_14440.jpg', 'vid_4_14480.jpg', 'vid_4_14500.jpg', 'vid_4_15000.jpg', 'vid_4_15020.jpg', 'vid_4_15040.jpg', 'vid_4_16000.jpg', 'vid_4_16020.jpg', 'vid_4_16040.jpg', 'vid_4_16060.jpg', 'vid_4_16100.jpg', 'vid_4_16120.jpg', 'vid_4_16140.jpg', 'vid_4_16160.jpg', 'vid_4_16180.jpg', 'vid_4_16280.jpg', 'vid_4_16320.jpg', 'vid_4_16300.jpg', 'vid_4_16400.jpg', 'vid_4_16420.jpg', 'vid_4_16500.jpg', 'vid_4_16660.jpg', 'vid_4_16680.jpg', 'vid_4_16700.jpg', 'vid_4_16720.jpg', 'vid_4_17040.jpg', 'vid_4_17060.jpg', 'vid_4_17080.jpg', 'vid_4_17100.jpg', 'vid_4_17140.jpg', 'vid_4_17120.jpg', 'vid_4_17160.jpg', 'vid_4_17180.jpg', 'vid_4_17240.jpg', 'vid_4_17260.jpg', 'vid_4_17320.jpg', 'vid_4_17340.jpg', 'vid_4_17360.jpg', 'vid_4_17400.jpg', 'vid_4_17440.jpg', 'vid_4_17420.jpg', 'vid_4_17560.jpg', 'vid_4_17540.jpg', 'vid_4_17580.jpg', 'vid_4_1760.jpg', 'vid_4_17600.jpg', 'vid_4_17620.jpg', 'vid_4_17640.jpg', 'vid_4_17660.jpg', 'vid_4_17680.jpg', 'vid_4_1780.jpg', 'vid_4_1800.jpg', 'vid_4_18180.jpg', 'vid_4_1820.jpg', 'vid_4_18200.jpg', 'vid_4_18320.jpg', 'vid_4_18360.jpg', 'vid_4_18340.jpg', 'vid_4_1840.jpg', 'vid_4_1860.jpg', 'vid_4_1880.jpg', 'vid_4_18820.jpg', 'vid_4_18840.jpg', 'vid_4_18860.jpg', 'vid_4_18880.jpg', 'vid_4_1900.jpg', 'vid_4_19040.jpg', 'vid_4_19060.jpg', 'vid_4_19080.jpg', 'vid_4_1920.jpg', 'vid_4_1940.jpg', 'vid_4_1960.jpg', 'vid_4_19760.jpg', 'vid_4_19780.jpg', 'vid_4_19740.jpg', 'vid_4_1980.jpg', 'vid_4_19880.jpg', 'vid_4_19900.jpg', 'vid_4_19920.jpg', 'vid_4_2000.jpg', 'vid_4_2020.jpg', 'vid_4_2040.jpg', 'vid_4_2060.jpg', 'vid_4_2080.jpg', 'vid_4_2100.jpg', 'vid_4_21160.jpg', 'vid_4_21180.jpg', 'vid_4_2120.jpg', 'vid_4_21200.jpg', 'vid_4_21220.jpg', 'vid_4_21240.jpg', 'vid_4_21260.jpg', 'vid_4_21280.jpg', 'vid_4_21300.jpg', 'vid_4_21320.jpg', 'vid_4_2140.jpg', 'vid_4_21420.jpg', 'vid_4_21400.jpg', 'vid_4_21440.jpg', 'vid_4_21480.jpg', 'vid_4_21500.jpg', 'vid_4_21520.jpg', 'vid_4_21560.jpg', 'vid_4_21540.jpg', 'vid_4_21580.jpg', 'vid_4_21620.jpg', 'vid_4_21600.jpg', 'vid_4_21640.jpg', 'vid_4_2160.jpg', 'vid_4_21660.jpg', 'vid_4_21680.jpg', 'vid_4_2180.jpg', 'vid_4_2200.jpg', 'vid_4_22240.jpg', 'vid_4_22220.jpg', 'vid_4_22560.jpg', 'vid_4_22540.jpg', 'vid_4_22580.jpg', 'vid_4_22640.jpg', 'vid_4_22660.jpg', 'vid_4_22700.jpg', 'vid_4_22720.jpg', 'vid_4_22740.jpg', 'vid_4_22980.jpg', 'vid_4_23000.jpg', 'vid_4_23020.jpg', 'vid_4_2380.jpg', 'vid_4_2400.jpg', 'vid_4_2420.jpg', 'vid_4_24760.jpg', 'vid_4_2520.jpg', 'vid_4_2540.jpg', 'vid_4_26300.jpg', 'vid_4_26320.jpg', 'vid_4_26340.jpg', 'vid_4_26360.jpg', 'vid_4_26380.jpg', 'vid_4_26420.jpg', 'vid_4_26400.jpg', 'vid_4_26440.jpg', 'vid_4_26480.jpg', 'vid_4_26500.jpg', 'vid_4_26460.jpg', 'vid_4_26520.jpg', 'vid_4_26540.jpg', 'vid_4_26560.jpg', 'vid_4_26580.jpg', 'vid_4_28220.jpg', 'vid_4_28200.jpg', 'vid_4_28240.jpg', 'vid_4_28440.jpg', 'vid_4_28840.jpg', 'vid_4_28820.jpg', 'vid_4_28880.jpg', 'vid_4_28860.jpg', 'vid_4_29460.jpg', 'vid_4_29480.jpg', 'vid_4_29500.jpg', 'vid_4_29520.jpg', 'vid_4_29540.jpg', 'vid_4_29560.jpg', 'vid_4_29880.jpg', 'vid_4_29900.jpg', 'vid_4_29920.jpg', 'vid_4_29940.jpg', 'vid_4_30000.jpg', 'vid_4_29980.jpg', 'vid_4_29960.jpg', 'vid_4_30020.jpg', 'vid_4_30440.jpg', 'vid_4_3120.jpg', 'vid_4_3160.jpg', 'vid_4_3140.jpg', 'vid_4_3180.jpg', 'vid_4_3200.jpg', 'vid_4_3220.jpg', 'vid_4_3240.jpg', 'vid_4_3260.jpg', 'vid_4_3380.jpg', 'vid_4_3360.jpg', 'vid_4_3340.jpg', 'vid_4_3440.jpg', 'vid_4_3460.jpg', 'vid_4_3520.jpg', 'vid_4_3540.jpg', 'vid_4_3560.jpg', 'vid_4_3820.jpg', 'vid_4_3800.jpg', 'vid_4_3840.jpg', 'vid_4_4540.jpg', 'vid_4_4520.jpg', 'vid_4_4560.jpg', 'vid_4_600.jpg', 'vid_4_6160.jpg', 'vid_4_6180.jpg', 'vid_4_6200.jpg', 'vid_4_620.jpg', 'vid_4_6220.jpg', 'vid_4_6240.jpg', 'vid_4_6260.jpg', 'vid_4_6280.jpg', 'vid_4_6320.jpg', 'vid_4_6300.jpg', 'vid_4_6340.jpg', 'vid_4_6360.jpg', 'vid_4_6380.jpg', 'vid_4_6400.jpg', 'vid_4_6420.jpg', 'vid_4_6440.jpg', 'vid_4_6460.jpg', 'vid_4_6480.jpg', 'vid_4_6500.jpg', 'vid_4_6520.jpg', 'vid_4_680.jpg', 'vid_4_700.jpg', 'vid_4_720.jpg', 'vid_4_740.jpg', 'vid_4_8240.jpg', 'vid_4_8220.jpg', 'vid_4_8260.jpg', 'vid_4_8280.jpg', 'vid_4_8320.jpg', 'vid_4_8340.jpg', 'vid_4_8300.jpg', 'vid_4_8560.jpg', 'vid_4_860.jpg', 'vid_4_8580.jpg', 'vid_4_8600.jpg', 'vid_4_8640.jpg', 'vid_4_8660.jpg', 'vid_4_8680.jpg', 'vid_4_8700.jpg', 'vid_4_8720.jpg', 'vid_4_8740.jpg', 'vid_4_880.jpg', 'vid_4_8960.jpg', 'vid_4_8980.jpg', 'vid_4_9000.jpg', 'vid_4_900.jpg', 'vid_4_9020.jpg', 'vid_4_9040.jpg', 'vid_4_9060.jpg', 'vid_4_9080.jpg', 'vid_4_920.jpg', 'vid_4_9200.jpg', 'vid_4_9220.jpg', 'vid_4_9240.jpg', 'vid_4_9260.jpg', 'vid_4_9280.jpg', 'vid_4_9300.jpg', 'vid_4_9320.jpg', 'vid_4_9340.jpg', 'vid_4_940.jpg', 'vid_4_9420.jpg', 'vid_4_9460.jpg', 'vid_4_9440.jpg', 'vid_4_9500.jpg', 'vid_4_9520.jpg', 'vid_4_9540.jpg', 'vid_4_9560.jpg', 'vid_4_9580.jpg', 'vid_4_960.jpg', 'vid_4_9600.jpg', 'vid_4_9640.jpg', 'vid_4_9660.jpg', 'vid_4_9620.jpg', 'vid_4_9720.jpg', 'vid_4_9760.jpg', 'vid_4_9740.jpg', 'vid_4_9700.jpg', 'vid_4_9780.jpg', 'vid_4_980.jpg', 'vid_4_9800.jpg', 'vid_4_9820.jpg', 'vid_4_9840.jpg', 'vid_4_9860.jpg', 'vid_4_9880.jpg', 'vid_4_9900.jpg', 'vid_4_9960.jpg', 'vid_4_9980.jpg']\n",
            "355\n"
          ]
        }
      ]
    },
    {
      "cell_type": "code",
      "source": [
        "#Generating 90% random bounded images and appending to train_images\n",
        "for i in range(319):\n",
        "  idx = random.randint(0, len(bounded_non_dup)-1)\n",
        "  filename = bounded_non_dup[idx]\n",
        "  src_path = \"/content/Vehicle-detection-model/training_images\"\n",
        "  dst_path = \"/content/Vehicle-detection-model/training_images/train_images\"\n",
        "  src_name = os.path.join(src_path, filename)\n",
        "  print(src_name)\n",
        "  #shutil.move(src_name, dst_path)\n",
        "  #bounded_files.remove(bounded_non_dup[idx])"
      ],
      "metadata": {
        "colab": {
          "base_uri": "https://localhost:8080/",
          "height": 484
        },
        "id": "G2XznlJkBqCw",
        "outputId": "83955479-e9f6-4aab-a051-c4b44e498ef4"
      },
      "execution_count": 46,
      "outputs": [
        {
          "output_type": "stream",
          "name": "stdout",
          "text": [
            "/content/Vehicle-detection-model/training_images/vid_4_2420.jpg\n",
            "/content/Vehicle-detection-model/training_images/vid_4_2160.jpg\n"
          ]
        },
        {
          "output_type": "error",
          "ename": "FileNotFoundError",
          "evalue": "ignored",
          "traceback": [
            "\u001b[0;31m---------------------------------------------------------------------------\u001b[0m",
            "\u001b[0;31mFileNotFoundError\u001b[0m                         Traceback (most recent call last)",
            "\u001b[0;32m/usr/lib/python3.7/shutil.py\u001b[0m in \u001b[0;36mmove\u001b[0;34m(src, dst, copy_function)\u001b[0m\n\u001b[1;32m    565\u001b[0m     \u001b[0;32mtry\u001b[0m\u001b[0;34m:\u001b[0m\u001b[0;34m\u001b[0m\u001b[0;34m\u001b[0m\u001b[0m\n\u001b[0;32m--> 566\u001b[0;31m         \u001b[0mos\u001b[0m\u001b[0;34m.\u001b[0m\u001b[0mrename\u001b[0m\u001b[0;34m(\u001b[0m\u001b[0msrc\u001b[0m\u001b[0;34m,\u001b[0m \u001b[0mreal_dst\u001b[0m\u001b[0;34m)\u001b[0m\u001b[0;34m\u001b[0m\u001b[0;34m\u001b[0m\u001b[0m\n\u001b[0m\u001b[1;32m    567\u001b[0m     \u001b[0;32mexcept\u001b[0m \u001b[0mOSError\u001b[0m\u001b[0;34m:\u001b[0m\u001b[0;34m\u001b[0m\u001b[0;34m\u001b[0m\u001b[0m\n",
            "\u001b[0;31mFileNotFoundError\u001b[0m: [Errno 2] No such file or directory: '/content/Vehicle-detection-model/training_images/vid_4_2160.jpg' -> '/content/Vehicle-detection-model/training_images/train_images'",
            "\nDuring handling of the above exception, another exception occurred:\n",
            "\u001b[0;31mFileNotFoundError\u001b[0m                         Traceback (most recent call last)",
            "\u001b[0;32m<ipython-input-46-f712ee7cd01d>\u001b[0m in \u001b[0;36m<module>\u001b[0;34m()\u001b[0m\n\u001b[1;32m      7\u001b[0m   \u001b[0msrc_name\u001b[0m \u001b[0;34m=\u001b[0m \u001b[0mos\u001b[0m\u001b[0;34m.\u001b[0m\u001b[0mpath\u001b[0m\u001b[0;34m.\u001b[0m\u001b[0mjoin\u001b[0m\u001b[0;34m(\u001b[0m\u001b[0msrc_path\u001b[0m\u001b[0;34m,\u001b[0m \u001b[0mfilename\u001b[0m\u001b[0;34m)\u001b[0m\u001b[0;34m\u001b[0m\u001b[0;34m\u001b[0m\u001b[0m\n\u001b[1;32m      8\u001b[0m   \u001b[0mprint\u001b[0m\u001b[0;34m(\u001b[0m\u001b[0msrc_name\u001b[0m\u001b[0;34m)\u001b[0m\u001b[0;34m\u001b[0m\u001b[0;34m\u001b[0m\u001b[0m\n\u001b[0;32m----> 9\u001b[0;31m   \u001b[0mshutil\u001b[0m\u001b[0;34m.\u001b[0m\u001b[0mmove\u001b[0m\u001b[0;34m(\u001b[0m\u001b[0msrc_name\u001b[0m\u001b[0;34m,\u001b[0m \u001b[0mdst_path\u001b[0m\u001b[0;34m)\u001b[0m\u001b[0;34m\u001b[0m\u001b[0;34m\u001b[0m\u001b[0m\n\u001b[0m\u001b[1;32m     10\u001b[0m   \u001b[0mbounded_files\u001b[0m\u001b[0;34m.\u001b[0m\u001b[0mremove\u001b[0m\u001b[0;34m(\u001b[0m\u001b[0mbounded_non_dup\u001b[0m\u001b[0;34m[\u001b[0m\u001b[0midx\u001b[0m\u001b[0;34m]\u001b[0m\u001b[0;34m)\u001b[0m\u001b[0;34m\u001b[0m\u001b[0;34m\u001b[0m\u001b[0m\n",
            "\u001b[0;32m/usr/lib/python3.7/shutil.py\u001b[0m in \u001b[0;36mmove\u001b[0;34m(src, dst, copy_function)\u001b[0m\n\u001b[1;32m    578\u001b[0m             \u001b[0mrmtree\u001b[0m\u001b[0;34m(\u001b[0m\u001b[0msrc\u001b[0m\u001b[0;34m)\u001b[0m\u001b[0;34m\u001b[0m\u001b[0;34m\u001b[0m\u001b[0m\n\u001b[1;32m    579\u001b[0m         \u001b[0;32melse\u001b[0m\u001b[0;34m:\u001b[0m\u001b[0;34m\u001b[0m\u001b[0;34m\u001b[0m\u001b[0m\n\u001b[0;32m--> 580\u001b[0;31m             \u001b[0mcopy_function\u001b[0m\u001b[0;34m(\u001b[0m\u001b[0msrc\u001b[0m\u001b[0;34m,\u001b[0m \u001b[0mreal_dst\u001b[0m\u001b[0;34m)\u001b[0m\u001b[0;34m\u001b[0m\u001b[0;34m\u001b[0m\u001b[0m\n\u001b[0m\u001b[1;32m    581\u001b[0m             \u001b[0mos\u001b[0m\u001b[0;34m.\u001b[0m\u001b[0munlink\u001b[0m\u001b[0;34m(\u001b[0m\u001b[0msrc\u001b[0m\u001b[0;34m)\u001b[0m\u001b[0;34m\u001b[0m\u001b[0;34m\u001b[0m\u001b[0m\n\u001b[1;32m    582\u001b[0m     \u001b[0;32mreturn\u001b[0m \u001b[0mreal_dst\u001b[0m\u001b[0;34m\u001b[0m\u001b[0;34m\u001b[0m\u001b[0m\n",
            "\u001b[0;32m/usr/lib/python3.7/shutil.py\u001b[0m in \u001b[0;36mcopy2\u001b[0;34m(src, dst, follow_symlinks)\u001b[0m\n\u001b[1;32m    264\u001b[0m     \u001b[0;32mif\u001b[0m \u001b[0mos\u001b[0m\u001b[0;34m.\u001b[0m\u001b[0mpath\u001b[0m\u001b[0;34m.\u001b[0m\u001b[0misdir\u001b[0m\u001b[0;34m(\u001b[0m\u001b[0mdst\u001b[0m\u001b[0;34m)\u001b[0m\u001b[0;34m:\u001b[0m\u001b[0;34m\u001b[0m\u001b[0;34m\u001b[0m\u001b[0m\n\u001b[1;32m    265\u001b[0m         \u001b[0mdst\u001b[0m \u001b[0;34m=\u001b[0m \u001b[0mos\u001b[0m\u001b[0;34m.\u001b[0m\u001b[0mpath\u001b[0m\u001b[0;34m.\u001b[0m\u001b[0mjoin\u001b[0m\u001b[0;34m(\u001b[0m\u001b[0mdst\u001b[0m\u001b[0;34m,\u001b[0m \u001b[0mos\u001b[0m\u001b[0;34m.\u001b[0m\u001b[0mpath\u001b[0m\u001b[0;34m.\u001b[0m\u001b[0mbasename\u001b[0m\u001b[0;34m(\u001b[0m\u001b[0msrc\u001b[0m\u001b[0;34m)\u001b[0m\u001b[0;34m)\u001b[0m\u001b[0;34m\u001b[0m\u001b[0;34m\u001b[0m\u001b[0m\n\u001b[0;32m--> 266\u001b[0;31m     \u001b[0mcopyfile\u001b[0m\u001b[0;34m(\u001b[0m\u001b[0msrc\u001b[0m\u001b[0;34m,\u001b[0m \u001b[0mdst\u001b[0m\u001b[0;34m,\u001b[0m \u001b[0mfollow_symlinks\u001b[0m\u001b[0;34m=\u001b[0m\u001b[0mfollow_symlinks\u001b[0m\u001b[0;34m)\u001b[0m\u001b[0;34m\u001b[0m\u001b[0;34m\u001b[0m\u001b[0m\n\u001b[0m\u001b[1;32m    267\u001b[0m     \u001b[0mcopystat\u001b[0m\u001b[0;34m(\u001b[0m\u001b[0msrc\u001b[0m\u001b[0;34m,\u001b[0m \u001b[0mdst\u001b[0m\u001b[0;34m,\u001b[0m \u001b[0mfollow_symlinks\u001b[0m\u001b[0;34m=\u001b[0m\u001b[0mfollow_symlinks\u001b[0m\u001b[0;34m)\u001b[0m\u001b[0;34m\u001b[0m\u001b[0;34m\u001b[0m\u001b[0m\n\u001b[1;32m    268\u001b[0m     \u001b[0;32mreturn\u001b[0m \u001b[0mdst\u001b[0m\u001b[0;34m\u001b[0m\u001b[0;34m\u001b[0m\u001b[0m\n",
            "\u001b[0;32m/usr/lib/python3.7/shutil.py\u001b[0m in \u001b[0;36mcopyfile\u001b[0;34m(src, dst, follow_symlinks)\u001b[0m\n\u001b[1;32m    118\u001b[0m         \u001b[0mos\u001b[0m\u001b[0;34m.\u001b[0m\u001b[0msymlink\u001b[0m\u001b[0;34m(\u001b[0m\u001b[0mos\u001b[0m\u001b[0;34m.\u001b[0m\u001b[0mreadlink\u001b[0m\u001b[0;34m(\u001b[0m\u001b[0msrc\u001b[0m\u001b[0;34m)\u001b[0m\u001b[0;34m,\u001b[0m \u001b[0mdst\u001b[0m\u001b[0;34m)\u001b[0m\u001b[0;34m\u001b[0m\u001b[0;34m\u001b[0m\u001b[0m\n\u001b[1;32m    119\u001b[0m     \u001b[0;32melse\u001b[0m\u001b[0;34m:\u001b[0m\u001b[0;34m\u001b[0m\u001b[0;34m\u001b[0m\u001b[0m\n\u001b[0;32m--> 120\u001b[0;31m         \u001b[0;32mwith\u001b[0m \u001b[0mopen\u001b[0m\u001b[0;34m(\u001b[0m\u001b[0msrc\u001b[0m\u001b[0;34m,\u001b[0m \u001b[0;34m'rb'\u001b[0m\u001b[0;34m)\u001b[0m \u001b[0;32mas\u001b[0m \u001b[0mfsrc\u001b[0m\u001b[0;34m:\u001b[0m\u001b[0;34m\u001b[0m\u001b[0;34m\u001b[0m\u001b[0m\n\u001b[0m\u001b[1;32m    121\u001b[0m             \u001b[0;32mwith\u001b[0m \u001b[0mopen\u001b[0m\u001b[0;34m(\u001b[0m\u001b[0mdst\u001b[0m\u001b[0;34m,\u001b[0m \u001b[0;34m'wb'\u001b[0m\u001b[0;34m)\u001b[0m \u001b[0;32mas\u001b[0m \u001b[0mfdst\u001b[0m\u001b[0;34m:\u001b[0m\u001b[0;34m\u001b[0m\u001b[0;34m\u001b[0m\u001b[0m\n\u001b[1;32m    122\u001b[0m                 \u001b[0mcopyfileobj\u001b[0m\u001b[0;34m(\u001b[0m\u001b[0mfsrc\u001b[0m\u001b[0;34m,\u001b[0m \u001b[0mfdst\u001b[0m\u001b[0;34m)\u001b[0m\u001b[0;34m\u001b[0m\u001b[0;34m\u001b[0m\u001b[0m\n",
            "\u001b[0;31mFileNotFoundError\u001b[0m: [Errno 2] No such file or directory: '/content/Vehicle-detection-model/training_images/vid_4_2160.jpg'"
          ]
        }
      ]
    },
    {
      "cell_type": "code",
      "source": [
        "#Adding the remaining 10% bounded images to test_images\n",
        "for filename in bounded_files:\n",
        "  src_path = /content/Vehicle-detection-model/training_images\n",
        "  dst_path = /content/Vehicle-detection-model/training_images/test_images/\n",
        "  src_name = os.path.join(src_path, filename)\n",
        "  print(src_name)\n",
        "  shutil.move(src_name, dst_path)"
      ],
      "metadata": {
        "id": "ZzstATY2KQPG"
      },
      "execution_count": null,
      "outputs": []
    }
  ]
}