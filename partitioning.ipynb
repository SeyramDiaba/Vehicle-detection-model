{
  "nbformat": 4,
  "nbformat_minor": 0,
  "metadata": {
    "colab": {
      "name": "partitioning.ipynb",
      "provenance": [],
      "authorship_tag": "ABX9TyP1dBVTdpT0iyN39IbqRx89",
      "include_colab_link": true
    },
    "kernelspec": {
      "name": "python3",
      "display_name": "Python 3"
    },
    "language_info": {
      "name": "python"
    },
    "accelerator": "GPU"
  },
  "cells": [
    {
      "cell_type": "markdown",
      "metadata": {
        "id": "view-in-github",
        "colab_type": "text"
      },
      "source": [
        "<a href=\"https://colab.research.google.com/github/jean-on-hub/Vehicle-detection-model/blob/csv-to-tfrecords/partitioning.ipynb\" target=\"_parent\"><img src=\"https://colab.research.google.com/assets/colab-badge.svg\" alt=\"Open In Colab\"/></a>"
      ]
    },
    {
      "cell_type": "code",
      "execution_count": 9,
      "metadata": {
        "id": "2C-BpAGAI2yY"
      },
      "outputs": [],
      "source": [
        "import os\n",
        "import shutil\n",
        "import random\n",
        "import collections"
      ]
    },
    {
      "cell_type": "code",
      "source": [
        "!git clone https://github.com/jean-on-hub/Vehicle-detection-model.git"
      ],
      "metadata": {
        "id": "zyxj9aQ3JRTl"
      },
      "execution_count": null,
      "outputs": []
    },
    {
      "cell_type": "code",
      "source": [
        "!cd Vehicle-detection-model && git checkout csv-to-tfrecords"
      ],
      "metadata": {
        "id": "u5aUj64uJobu"
      },
      "execution_count": null,
      "outputs": []
    },
    {
      "cell_type": "code",
      "source": [
        "!cd /content/Vehicle-detection-model\n",
        "!mkdir /content/Vehicle-detection-model/train_images\n",
        "!mkdir /content/Vehicle-detection-model/test_images"
      ],
      "metadata": {
        "id": "dhZxubwyJqkw"
      },
      "execution_count": 12,
      "outputs": []
    },
    {
      "cell_type": "code",
      "source": [
        "#Getting the file names of all images\n",
        "src = \"/content/Vehicle-detection-model/training_images\"\n",
        "img_files = os.listdir(src)\n",
        "print(img_files)\n",
        "print(len(img_files))"
      ],
      "metadata": {
        "id": "Zus4GfJnKFJa"
      },
      "execution_count": null,
      "outputs": []
    },
    {
      "cell_type": "code",
      "source": [
        "print([item for item, count in collections.Counter(img_files).items() if count > 1])\n",
        "#No duplicates"
      ],
      "metadata": {
        "colab": {
          "base_uri": "https://localhost:8080/"
        },
        "id": "scDoDNJ5KlfK",
        "outputId": "de286349-3db7-4acd-b06f-46a8c9b21381"
      },
      "execution_count": 11,
      "outputs": [
        {
          "output_type": "stream",
          "name": "stdout",
          "text": [
            "[]\n"
          ]
        }
      ]
    },
    {
      "cell_type": "code",
      "source": [
        "train_dst = \"/content/Vehicle-detection-model/train_images\"\n",
        "test_dst = \"/content/Vehicle-detection-model/test_images\"\n",
        "for i in range(900):\n",
        "  idx = random.randint(0, len(img_files)-1)\n",
        "  filename = img_files[idx]\n",
        "  src_name = os.path.join(src, filename)\n",
        "  print(src_name)\n",
        "  shutil.move(src_name, train_dst)\n",
        "  img_files.remove(img_files[idx])"
      ],
      "metadata": {
        "id": "Xabfjf3jNPb0"
      },
      "execution_count": null,
      "outputs": []
    },
    {
      "cell_type": "code",
      "source": [
        "for filename in img_files:\n",
        "  src_name = os.path.join(src, filename)\n",
        "  print(src_name)\n",
        "  shutil.move(src_name, test_dst)"
      ],
      "metadata": {
        "id": "M_FKmksYQdYV"
      },
      "execution_count": null,
      "outputs": []
    }
  ]
}